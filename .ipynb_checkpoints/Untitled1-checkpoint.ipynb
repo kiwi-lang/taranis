{
 "cells": [
  {
   "cell_type": "code",
   "execution_count": 15,
   "metadata": {},
   "outputs": [],
   "source": [
    "%matplotlib inline\n",
    "\n",
    "import matplotlib.pyplot as plt"
   ]
  },
  {
   "cell_type": "code",
   "execution_count": 2,
   "metadata": {},
   "outputs": [],
   "source": [
    "from dataclasses import dataclass"
   ]
  },
  {
   "cell_type": "code",
   "execution_count": 108,
   "metadata": {},
   "outputs": [
    {
     "data": {
      "text/plain": [
       "-10"
      ]
     },
     "execution_count": 108,
     "metadata": {},
     "output_type": "execute_result"
    }
   ],
   "source": [
    "Call = 0\n",
    "Put = 1\n",
    "\n",
    "Buy =   1\n",
    "Sell = -1\n",
    "\n",
    "@dataclass\n",
    "class Option:\n",
    "    strike: float\n",
    "    callput: float\n",
    "    buysell: bool\n",
    "    price: float = None\n",
    "    qty: float = 100\n",
    "        \n",
    "    def __repr__(self):\n",
    "        name = 'Call' if self.call else 'Put'\n",
    "        \n",
    "        args = [\n",
    "            f'{self.strike:.2f}',\n",
    "            'Buy' if self.buy else 'Sell',\n",
    "        ]\n",
    "        \n",
    "        if self.price:\n",
    "            args.append(f'{self.price:.2f}')\n",
    "        \n",
    "        args = ', '.join(args)\n",
    "        return f'{name}({args})'\n",
    "        \n",
    "    @property\n",
    "    def sell(self):\n",
    "        return self.buysell == Sell\n",
    "    \n",
    "    @property\n",
    "    def buy(self):\n",
    "        return self.buysell == Buy\n",
    "\n",
    "    @property\n",
    "    def put(self):\n",
    "        return self.callput == Put\n",
    "    \n",
    "    @property\n",
    "    def call(self):\n",
    "        return self.callput == Call\n",
    "    \n",
    "    def payoff(self, price):\n",
    "        if self.call:\n",
    "            return self.buysell * max(price - self.strike, 0)\n",
    "        \n",
    "        if self.put:\n",
    "            return self.buysell * max(self.strike - price, 0)\n",
    "        \n",
    "    def profit(self, price):\n",
    "        return self.payoff(price) + self.cost()\n",
    "    \n",
    "    def _prices(self, spread):\n",
    "        return [\n",
    "            self.strike / spread,\n",
    "            self.strike,\n",
    "            self.strike * spread,\n",
    "        ]\n",
    "    \n",
    "    def cost(self):\n",
    "        return - self.buysell * self.price\n",
    "            \n",
    "    def show(self, spread=1.12):\n",
    "        strikes = self._prices(spread)\n",
    "        plt.plot(strikes, [self.payoff(k) for k in strikes])\n",
    "        \n",
    "        \n",
    "Option(4210, Call, Buy, 10).cost()\n",
    "# Option(4210, Call, Sell).show()\n",
    "Option(4210, Put, Buy, 10).cost()\n",
    "# Option(4210, Put, Sell).show()"
   ]
  },
  {
   "cell_type": "code",
   "execution_count": 114,
   "metadata": {},
   "outputs": [],
   "source": [
    "import pandas as pd\n",
    "\n",
    "\n",
    "def guess_plot_spread(options):\n",
    "    avg = sum([opt.strike for opt in options]) / len(options)\n",
    "    return max([opt.strike / avg for opt in options])\n",
    "\n",
    "def generate_plot_prices(options, spread):\n",
    "    prices = []\n",
    "    for opt in options:\n",
    "        prices.append(opt.strike)\n",
    "    prices.sort()\n",
    "    \n",
    "    prices.insert(0, int(prices[0] / spread))\n",
    "    prices.append(int(prices[-1] * spread))\n",
    "    return prices\n",
    "\n",
    "def display_strategy(options, spread=None, profit=True):\n",
    "    # Guess a nice spread given the price of every strike\n",
    "    if spread is None:\n",
    "        spread = guess_plot_spread(options)\n",
    "    \n",
    "    prices = generate_plot_prices(options, spread)\n",
    "    cost = sum([opt.cost() for opt in options])\n",
    "    \n",
    "    payoffs = []\n",
    "    profits = []\n",
    "    for price in prices:\n",
    "        value = sum([opt.payoff(price) for opt in options])\n",
    "        payoffs.append(value)\n",
    "        \n",
    "        value = sum([opt.profit(price) for opt in options])\n",
    "        profits.append(value)\n",
    "        \n",
    "    print(f\"Cost {cost:.2f}\")\n",
    "    y = profits if profit else payoffs\n",
    "    plt.plot(prices, y)\n",
    "    return pd.DataFrame(dict(prices=prices, payoff=payoffs, profit=profits))"
   ]
  },
  {
   "cell_type": "code",
   "execution_count": 115,
   "metadata": {
    "scrolled": false
   },
   "outputs": [
    {
     "name": "stdout",
     "output_type": "stream",
     "text": [
      "Cost 0.58\n"
     ]
    },
    {
     "data": {
      "text/html": [
       "<div>\n",
       "<style scoped>\n",
       "    .dataframe tbody tr th:only-of-type {\n",
       "        vertical-align: middle;\n",
       "    }\n",
       "\n",
       "    .dataframe tbody tr th {\n",
       "        vertical-align: top;\n",
       "    }\n",
       "\n",
       "    .dataframe thead th {\n",
       "        text-align: right;\n",
       "    }\n",
       "</style>\n",
       "<table border=\"1\" class=\"dataframe\">\n",
       "  <thead>\n",
       "    <tr style=\"text-align: right;\">\n",
       "      <th></th>\n",
       "      <th>prices</th>\n",
       "      <th>payoff</th>\n",
       "      <th>profit</th>\n",
       "    </tr>\n",
       "  </thead>\n",
       "  <tbody>\n",
       "    <tr>\n",
       "      <th>0</th>\n",
       "      <td>4180</td>\n",
       "      <td>0</td>\n",
       "      <td>0.58</td>\n",
       "    </tr>\n",
       "    <tr>\n",
       "      <th>1</th>\n",
       "      <td>4195</td>\n",
       "      <td>0</td>\n",
       "      <td>0.58</td>\n",
       "    </tr>\n",
       "    <tr>\n",
       "      <th>2</th>\n",
       "      <td>4205</td>\n",
       "      <td>10</td>\n",
       "      <td>10.58</td>\n",
       "    </tr>\n",
       "    <tr>\n",
       "      <th>3</th>\n",
       "      <td>4215</td>\n",
       "      <td>10</td>\n",
       "      <td>10.58</td>\n",
       "    </tr>\n",
       "    <tr>\n",
       "      <th>4</th>\n",
       "      <td>4225</td>\n",
       "      <td>0</td>\n",
       "      <td>0.58</td>\n",
       "    </tr>\n",
       "    <tr>\n",
       "      <th>5</th>\n",
       "      <td>4240</td>\n",
       "      <td>0</td>\n",
       "      <td>0.58</td>\n",
       "    </tr>\n",
       "  </tbody>\n",
       "</table>\n",
       "</div>"
      ],
      "text/plain": [
       "   prices  payoff  profit\n",
       "0    4180       0    0.58\n",
       "1    4195       0    0.58\n",
       "2    4205      10   10.58\n",
       "3    4215      10   10.58\n",
       "4    4225       0    0.58\n",
       "5    4240       0    0.58"
      ]
     },
     "execution_count": 115,
     "metadata": {},
     "output_type": "execute_result"
    },
    {
     "data": {
      "image/png": "[encoded data removed]",
      "text/plain": [
       "<Figure size 432x288 with 1 Axes>"
      ]
     },
     "metadata": {
      "needs_background": "light"
     },
     "output_type": "display_data"
    }
   ],
   "source": [
    "display_strategy([\n",
    "    Option(4195, Call, Buy , 58.45),\n",
    "    Option(4205, Call, Sell, 53.24),\n",
    "    Option(4215, Call, Sell, 46.78),\n",
    "    Option(4225, Call, Buy , 40.99),\n",
    "])"
   ]
  },
  {
   "cell_type": "code",
   "execution_count": 113,
   "metadata": {},
   "outputs": [],
   "source": [
    "def condor_call(strike, spread, inner):\n",
    "    return [\n",
    "        Option(strike - (spread + inner), Call, Buy),\n",
    "        Option(strike - inner, Call, Sell),\n",
    "        Option(strike + inner, Call, Sell),\n",
    "        Option(strike + (spread + inner), Call, Buy),\n",
    "    ]"
   ]
  },
  {
   "cell_type": "code",
   "execution_count": null,
   "metadata": {},
   "outputs": [],
   "source": []
  }
 ],
 "metadata": {
  "kernelspec": {
   "display_name": "Python 3 (ipykernel)",
   "language": "python",
   "name": "python3"
  },
  "language_info": {
   "codemirror_mode": {
    "name": "ipython",
    "version": 3
   },
   "file_extension": ".py",
   "mimetype": "text/x-python",
   "name": "python",
   "nbconvert_exporter": "python",
   "pygments_lexer": "ipython3",
   "version": "3.9.12"
  }
 },
 "nbformat": 4,
 "nbformat_minor": 4
}
