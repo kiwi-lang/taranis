{
 "cells": [
  {
   "cell_type": "code",
   "execution_count": 1,
   "id": "46464ffa",
   "metadata": {},
   "outputs": [],
   "source": [
    "import numpy as np"
   ]
  },
  {
   "cell_type": "code",
   "execution_count": 108,
   "id": "034f12a9",
   "metadata": {},
   "outputs": [],
   "source": [
    "\n",
    "def make_matrix(i, size):\n",
    "    pix = np.zeros((size, size))\n",
    "    for row in range(0, size):\n",
    "        for col in range(0, size):\n",
    "            value = bool((i >> (row * size)) & (1 << col))\n",
    "            pix[row, col] = value * 255\n",
    "    return pix\n",
    "\n",
    "\n",
    "def show_matrix(value, size):\n",
    "    print(f'{value} {value:016b}')\n",
    "    print(make_matrix(value, size))\n",
    "\n",
    "def make_upscaling_pat(size=4):\n",
    "    options = {}\n",
    "    posibilities = 2 ** (size * size)\n",
    "    for i in range(0, posibilities):\n",
    "        pix = make_matrix(i, size)\n",
    "        options[i] = (f'{i:016b}', pix)\n",
    "        \n",
    "    return options\n"
   ]
  },
  {
   "cell_type": "code",
   "execution_count": 112,
   "id": "f2677112",
   "metadata": {},
   "outputs": [
    {
     "data": {
      "text/plain": [
       "('1111111111111111',\n",
       " array([[255., 255., 255., 255.],\n",
       "        [255., 255., 255., 255.],\n",
       "        [255., 255., 255., 255.],\n",
       "        [255., 255., 255., 255.]]))"
      ]
     },
     "execution_count": 112,
     "metadata": {},
     "output_type": "execute_result"
    }
   ],
   "source": [
    "make_upscaling_pat(4)[65535]"
   ]
  },
  {
   "cell_type": "code",
   "execution_count": 111,
   "id": "1450a80a",
   "metadata": {},
   "outputs": [
    {
     "name": "stdout",
     "output_type": "stream",
     "text": [
      "512\n"
     ]
    },
    {
     "data": {
      "text/plain": [
       "('0000000111111111',\n",
       " array([[255., 255., 255.],\n",
       "        [255., 255., 255.],\n",
       "        [255., 255., 255.]]))"
      ]
     },
     "execution_count": 111,
     "metadata": {},
     "output_type": "execute_result"
    }
   ],
   "source": [
    "a = make_upscaling_pat(3)\n",
    "a[511]"
   ]
  },
  {
   "cell_type": "code",
   "execution_count": 101,
   "id": "95cbcb94",
   "metadata": {},
   "outputs": [
    {
     "data": {
      "text/plain": [
       "('0000000011111111',\n",
       " array([[255., 255.],\n",
       "        [255., 255.]]))"
      ]
     },
     "execution_count": 101,
     "metadata": {},
     "output_type": "execute_result"
    }
   ],
   "source": [
    "make_upscaling_pat(2)[255]"
   ]
  },
  {
   "cell_type": "code",
   "execution_count": null,
   "id": "b75fc3c0",
   "metadata": {},
   "outputs": [],
   "source": [
    "    kernel = np.zeros((3, 3))\n",
    "    \n",
    "    kernel[1, 1] = 1\n",
    "    kernel[0, 1] = 1\n",
    "    kernel[1, 0] = 1\n",
    "    kernel[1, 2] = 1\n",
    "    kernel[2, 1] = 1\n",
    "    kernel = kernel / 5 \n",
    "    print(kernel)\n",
    "    "
   ]
  },
  {
   "cell_type": "code",
   "execution_count": 142,
   "id": "74415e6b",
   "metadata": {},
   "outputs": [
    {
     "name": "stdout",
     "output_type": "stream",
     "text": [
      "[[1. 1.]\n",
      " [1. 1.]]\n",
      "[[  0.   0.]\n",
      " [255.   0.]]\n"
     ]
    },
    {
     "data": {
      "text/plain": [
       "array([[  0. ,   0. ,   0. ,   0. ],\n",
       "       [  0. ,   0. ,   0. ,   0. ],\n",
       "       [127.5,   0. ,   0. ,   0. ],\n",
       "       [255. , 127.5,   0. ,   0. ]])"
      ]
     },
     "execution_count": 142,
     "metadata": {},
     "output_type": "execute_result"
    }
   ],
   "source": [
    "import scipy\n",
    "\n",
    "def expand(original, mid=128, high=255):\n",
    "    w, h = original.shape\n",
    "    pix = np.zeros((w * 2, w * 2))\n",
    "    \n",
    "    kernel = np.ones((2, 2))\n",
    "    kernel[0, 0] = 1\n",
    "    kernel[1, 0] = 1\n",
    "    kernel[0, 1] = 1\n",
    "    print(kernel)\n",
    "    \n",
    "    for r in range(w):\n",
    "        for c in range(h):\n",
    "            v = original[r, c]\n",
    "            \n",
    "            pix[r * 2 + 1, c * 2 + 1] = v / 2\n",
    "            pix[r * 2 + 0, c * 2 + 0] = v / 2\n",
    "            pix[r * 2 + 0, c * 2 + 1] = v * 0\n",
    "            pix[r * 2 + 1, c * 2 + 0] = v \n",
    "    \n",
    "    print(original)\n",
    "    return pix\n",
    "\n",
    "expand(make_upscaling_pat(2)[4][1])"
   ]
  },
  {
   "cell_type": "code",
   "execution_count": 149,
   "id": "ce3b9988",
   "metadata": {},
   "outputs": [
    {
     "name": "stdout",
     "output_type": "stream",
     "text": [
      "[[1. 1.]\n",
      " [1. 1.]]\n",
      "[[  0.   0. 255.]\n",
      " [  0.   0.   0.]\n",
      " [  0.   0.   0.]]\n"
     ]
    },
    {
     "data": {
      "text/plain": [
       "array([[  0. ,   0. ,   0. ,   0. , 127.5,   0. ],\n",
       "       [  0. ,   0. ,   0. ,   0. , 255. , 127.5],\n",
       "       [  0. ,   0. ,   0. ,   0. ,   0. ,   0. ],\n",
       "       [  0. ,   0. ,   0. ,   0. ,   0. ,   0. ],\n",
       "       [  0. ,   0. ,   0. ,   0. ,   0. ,   0. ],\n",
       "       [  0. ,   0. ,   0. ,   0. ,   0. ,   0. ]])"
      ]
     },
     "execution_count": 149,
     "metadata": {},
     "output_type": "execute_result"
    }
   ],
   "source": [
    "expand(make_upscaling_pat(3)[4][1])"
   ]
  },
  {
   "cell_type": "code",
   "execution_count": 92,
   "id": "81a047e7",
   "metadata": {},
   "outputs": [
    {
     "name": "stdout",
     "output_type": "stream",
     "text": [
      "65535 1111111111111111\n",
      "[[1. 1. 1. 1.]\n",
      " [1. 1. 1. 1.]\n",
      " [1. 1. 1. 1.]\n",
      " [1. 1. 1. 1.]]\n"
     ]
    }
   ],
   "source": [
    "show_matrix(65535)"
   ]
  },
  {
   "cell_type": "code",
   "execution_count": 25,
   "id": "ddc8d794",
   "metadata": {},
   "outputs": [
    {
     "name": "stdout",
     "output_type": "stream",
     "text": [
      "256\n"
     ]
    }
   ],
   "source": [
    "print(len(options))"
   ]
  },
  {
   "cell_type": "code",
   "execution_count": 88,
   "id": "00154ef3",
   "metadata": {},
   "outputs": [
    {
     "name": "stdout",
     "output_type": "stream",
     "text": [
      "0001\n",
      "0010\n",
      "0100\n",
      "1000\n"
     ]
    }
   ],
   "source": [
    "for i in range(4):\n",
    "    print(f'{(1 << i):04b}')"
   ]
  },
  {
   "cell_type": "code",
   "execution_count": 28,
   "id": "9d1d5315",
   "metadata": {},
   "outputs": [
    {
     "name": "stdout",
     "output_type": "stream",
     "text": [
      "0001\n"
     ]
    }
   ],
   "source": [
    "i = 0b10000\n",
    "print(f'{i >> 4:04b}')"
   ]
  },
  {
   "cell_type": "code",
   "execution_count": null,
   "id": "2e2f8332",
   "metadata": {},
   "outputs": [],
   "source": [
    "\n"
   ]
  }
 ],
 "metadata": {
  "kernelspec": {
   "display_name": "Python 3 (ipykernel)",
   "language": "python",
   "name": "python3"
  },
  "language_info": {
   "codemirror_mode": {
    "name": "ipython",
    "version": 3
   },
   "file_extension": ".py",
   "mimetype": "text/x-python",
   "name": "python",
   "nbconvert_exporter": "python",
   "pygments_lexer": "ipython3",
   "version": "3.9.12"
  }
 },
 "nbformat": 4,
 "nbformat_minor": 5
}
