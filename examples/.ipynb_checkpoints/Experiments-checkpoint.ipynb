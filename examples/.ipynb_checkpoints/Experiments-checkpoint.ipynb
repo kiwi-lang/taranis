{
 "cells": [
  {
   "cell_type": "code",
   "execution_count": 17,
   "id": "a98c036e",
   "metadata": {},
   "outputs": [
    {
     "name": "stdout",
     "output_type": "stream",
     "text": [
      "The autoreload extension is already loaded. To reload it, use:\n",
      "  %reload_ext autoreload\n"
     ]
    }
   ],
   "source": [
    "%matplotlib inline\n",
    "%load_ext autoreload\n",
    "\n",
    "import numpy as np\n",
    "import matplotlib.pyplot as plt\n",
    "import torch\n",
    "import torch.nn as nn\n",
    "import torch.nn.functional as F\n",
    "from torchvision import datasets\n",
    "from torchvision import transforms"
   ]
  },
  {
   "cell_type": "code",
   "execution_count": 18,
   "id": "84bef9f9",
   "metadata": {},
   "outputs": [],
   "source": [
    "%autoreload 1\n",
    "import taranis.core.nn as ext_nn\n",
    "from taranis.core.trainer.train import gpu_train, mnist_dataset, gpu_test_model, cifar100_dataset"
   ]
  },
  {
   "cell_type": "code",
   "execution_count": 19,
   "id": "d22a98a2",
   "metadata": {},
   "outputs": [
    {
     "name": "stdout",
     "output_type": "stream",
     "text": [
      "60000\n",
      "(28, 28) 4\n"
     ]
    },
    {
     "data": {
      "image/png": "[encoded data removed]",
      "text/plain": [
       "<PIL.Image.Image image mode=L size=28x28>"
      ]
     },
     "execution_count": 19,
     "metadata": {},
     "output_type": "execute_result"
    }
   ],
   "source": [
    "dataset = datasets.MNIST(\n",
    "    '../data', \n",
    "    train=True, \n",
    "    download=True\n",
    ")\n",
    "print(len(dataset))\n",
    "\n",
    "image, label = dataset[2]\n",
    "print(image.size, label)  # A Black and white image is a 2D matrix (28x28)\n",
    "image"
   ]
  },
  {
   "cell_type": "code",
   "execution_count": 20,
   "id": "4f37ce1f",
   "metadata": {},
   "outputs": [],
   "source": [
    "# linear = nn.Sequential(\n",
    "#     nn.Flatten(),             \n",
    "#     ext_nn.LinearIdentity(m, n),\n",
    "#     nn.ReLU(),\n",
    "#     ext_nn.LinearIdentity(n, m),\n",
    "# )\n",
    "\n",
    "# batch = transforms.ToTensor()(image)\n",
    "\n",
    "# new = linear(batch).detach().view(28, 28).numpy()\n",
    "\n",
    "# print(new.shape)\n",
    "# plt.matshow(batch.squeeze(0), interpolation=None, cmap='Greys')\n",
    "# plt.matshow(new, interpolation=None, cmap='Greys')\n",
    "# plt.show()"
   ]
  },
  {
   "cell_type": "code",
   "execution_count": 21,
   "id": "58a910ed",
   "metadata": {},
   "outputs": [],
   "source": [
    "dataset_fast = mnist_dataset()\n",
    "dataset_test_fast = mnist_dataset(train=False)\n",
    "\n",
    "# cifar_train = cifar100_dataset(True, True)\n",
    "# cifar_test = cifar100_dataset(False, True)"
   ]
  },
  {
   "cell_type": "code",
   "execution_count": 57,
   "id": "262b1b35",
   "metadata": {},
   "outputs": [
    {
     "name": "stdout",
     "output_type": "stream",
     "text": [
      "(1, 28, 28) 784 7840\n"
     ]
    }
   ],
   "source": [
    "classes = 10\n",
    "dataset = dataset_fast\n",
    "dataset_test = dataset_test_fast\n",
    "input_shape = tuple(dataset[0][0].shape)\n",
    "epoch = 100\n",
    "m = 1\n",
    "for d in input_shape:\n",
    "    m *= d\n",
    "n = m * 10\n",
    "lr = 1\n",
    "lr_map = {0: 2}\n",
    "print(input_shape, m, n)"
   ]
  },
  {
   "cell_type": "code",
   "execution_count": 58,
   "id": "5327057a",
   "metadata": {},
   "outputs": [],
   "source": [
    "# cifar_train[0]"
   ]
  },
  {
   "cell_type": "code",
   "execution_count": 59,
   "id": "66c4b58a",
   "metadata": {},
   "outputs": [
    {
     "name": "stdout",
     "output_type": "stream",
     "text": [
      "0 -0.025555684169133504\n",
      "1 -0.03536695639292399\n",
      "2 -0.0379931648572286\n",
      "3 -0.03852124611536662\n",
      "4 -0.03941693703333537\n",
      "5 -0.04256021976470947\n",
      "6 -0.04344993829727173\n",
      "7 -0.043715135256449385\n",
      "8 -0.04385221799214681\n",
      "9 -0.0440597414970398\n",
      "10 -0.044163020451863606\n",
      "11 -0.04432543516159058\n",
      "12 -0.044439419110616045\n",
      "13 -0.0463610847791036\n",
      "14 -0.050869258244832356\n",
      "15 -0.053956902027130126\n",
      "16 -0.054728591442108156\n",
      "17 -0.05514369408289591\n",
      "18 -0.05541585683822632\n",
      "19 -0.05563295284907023\n",
      "20 -0.055819602807362874\n",
      "21 -0.05598190625508626\n",
      "22 -0.05612589120864868\n",
      "23 -0.05625528891881307\n",
      "24 -0.05637274980545044\n",
      "25 -0.0564799427986145\n",
      "26 -0.056578528881072995\n",
      "27 -0.056669898827870685\n",
      "28 -0.05675488313039144\n",
      "29 -0.05683398644129435\n",
      "30 -0.056907927989959715\n",
      "31 -0.05697723229726156\n",
      "32 -0.057042276859283446\n",
      "33 -0.05710335969924927\n",
      "34 -0.05716089407602946\n",
      "35 -0.057215221722920734\n",
      "36 -0.057266736030578615\n",
      "37 -0.05731560786565145\n",
      "38 -0.05736196041107178\n",
      "39 -0.05740603605906169\n",
      "40 -0.0574479341506958\n",
      "41 -0.057487761974334715\n",
      "42 -0.05752566655476888\n",
      "43 -0.057561830679575605\n",
      "44 -0.057596381505330405\n",
      "45 -0.057629501819610594\n",
      "46 -0.05766131083170573\n",
      "47 -0.05769197146097819\n",
      "48 -0.05772157907485962\n",
      "49 -0.057750606536865236\n",
      "50 -0.0577823003133138\n",
      "51 -0.06146527131398519\n",
      "52 -0.0646008531252543\n",
      "53 -0.064784836769104\n",
      "54 -0.06487625439961751\n",
      "55 -0.06493757565816244\n",
      "56 -0.06498626470565796\n",
      "57 -0.06502844095230102\n",
      "58 -0.06506635745366414\n",
      "59 -0.06510111093521118\n",
      "60 -0.06513330936431885\n",
      "61 -0.06516340970993043\n",
      "62 -0.06519163846969604\n",
      "63 -0.06521817843119303\n",
      "64 -0.06524310906728109\n",
      "65 -0.06526662906010945\n",
      "66 -0.06528891722361246\n",
      "67 -0.06531011660893758\n",
      "68 -0.06533037821451823\n",
      "69 -0.06534982919692993\n",
      "70 -0.06536857684453329\n",
      "71 -0.06538675626118978\n",
      "72 -0.0654044508934021\n",
      "73 -0.06542172829310099\n",
      "74 -0.06543862024943034\n",
      "75 -0.0654551068941752\n",
      "76 -0.06547118822733561\n",
      "77 -0.06548685232798258\n",
      "78 -0.06550209124883016\n",
      "79 -0.06551691691080729\n",
      "80 -0.0655313769976298\n",
      "81 -0.06554553906122844\n",
      "82 -0.06555945078531901\n",
      "83 -0.06557318766911825\n",
      "84 -0.06558679342269898\n",
      "85 -0.06560026407241822\n",
      "86 -0.06561357577641805\n",
      "87 -0.06562670071919759\n",
      "88 -0.06563957134882609\n",
      "89 -0.06565215587615966\n",
      "90 -0.06566436688105265\n",
      "91 -0.06567620833714803\n",
      "92 -0.06568762063980102\n",
      "93 -0.06569861968358358\n",
      "94 -0.06570918957392374\n",
      "95 -0.06571932633717854\n",
      "96 -0.06572908560434977\n",
      "97 -0.06573845942815144\n",
      "98 -0.06574748754501343\n",
      "99 -0.06575618982315064\n",
      "Accuracy: 98.94166666666668 Loss: -0.9864011800130208\n",
      "Accuracy: 97.78 Loss: -0.9733637573242188\n"
     ]
    }
   ],
   "source": [
    "linear = nn.Sequential(\n",
    "    nn.Flatten(),             \n",
    "    nn.Linear(m, n),\n",
    "    nn.ReLU(),\n",
    "    nn.Linear(n, classes),\n",
    "    nn.Softmax(dim=1),\n",
    ")\n",
    "\n",
    "gpu_train(linear, dataset, epoch, lr=lr, lr_map=lr_map)\n",
    "gpu_test_model(linear, dataset)\n",
    "gpu_test_model(linear, dataset_test)"
   ]
  },
  {
   "cell_type": "code",
   "execution_count": 162,
   "id": "eab7a206",
   "metadata": {},
   "outputs": [
    {
     "name": "stdout",
     "output_type": "stream",
     "text": [
      "0 0 0.9998999834060669\n"
     ]
    },
    {
     "data": {
      "image/png": "[encoded data removed]",
      "text/plain": [
       "<Figure size 480x480 with 1 Axes>"
      ]
     },
     "metadata": {},
     "output_type": "display_data"
    }
   ],
   "source": [
    "def derivable_cross_entroy(output, target):\n",
    "    one_hot = torch.zeros((target.shape[0], classes))\n",
    "\n",
    "    for i, t in enumerate(target):\n",
    "        one_hot[i, int(t)] = 1\n",
    "        \n",
    "    return torch.log(output) @ one_hot.cuda().t()\n",
    "\n",
    "\n",
    "from torch.autograd import Variable\n",
    "\n",
    "\n",
    "linear.eval()\n",
    "for param in linear.parameters():\n",
    "    param.require_grads = False\n",
    "\n",
    "import torch.optim as optim\n",
    "\n",
    "\n",
    "abc = torch.zeros(1, *input_shape).cuda().requires_grad_(True)\n",
    "assert abc.is_leaf\n",
    "optimizer = optim.SGD([abc], lr=1)\n",
    "\n",
    "label = 0\n",
    "confidence = 0\n",
    "\n",
    "while confidence < 0.9999:\n",
    "    optimizer.zero_grad()\n",
    "    output = linear(abc)\n",
    "    loss = F.cross_entropy(output, torch.tensor([label], dtype=torch.long).cuda())\n",
    "    loss.backward()\n",
    "    optimizer.step()\n",
    "    \n",
    "    pred = output.argmax(dim=1, keepdim=True) \n",
    "    confidence = output[0, label]\n",
    "\n",
    "print(pred.item(), label, confidence.item())\n",
    "plt.matshow(-abc.grad[0][0].detach().cpu(), interpolation=None, cmap='Greys')\n",
    "plt.show()"
   ]
  },
  {
   "cell_type": "code",
   "execution_count": 165,
   "id": "6b2a70ac",
   "metadata": {},
   "outputs": [
    {
     "ename": "TypeError",
     "evalue": "Invalid shape (1, 28, 28) for image data",
     "output_type": "error",
     "traceback": [
      "\u001b[1;31m---------------------------------------------------------------------------\u001b[0m",
      "\u001b[1;31mTypeError\u001b[0m                                 Traceback (most recent call last)",
      "Cell \u001b[1;32mIn [165], line 8\u001b[0m\n\u001b[0;32m      4\u001b[0m importlib\u001b[38;5;241m.\u001b[39mreload(taranis\u001b[38;5;241m.\u001b[39mcore\u001b[38;5;241m.\u001b[39mvisualization\u001b[38;5;241m.\u001b[39mextract)\n\u001b[0;32m      6\u001b[0m img \u001b[38;5;241m=\u001b[39m extract\u001b[38;5;241m.\u001b[39mgenerate_image(linear, input_shape, \u001b[38;5;241m0\u001b[39m, \u001b[38;5;241m1\u001b[39m, \u001b[38;5;241m0.9999\u001b[39m)\n\u001b[1;32m----> 8\u001b[0m \u001b[43mplt\u001b[49m\u001b[38;5;241;43m.\u001b[39;49m\u001b[43mmatshow\u001b[49m\u001b[43m(\u001b[49m\u001b[43mimg\u001b[49m\u001b[43m[\u001b[49m\u001b[38;5;241;43m0\u001b[39;49m\u001b[43m]\u001b[49m\u001b[43m,\u001b[49m\u001b[43m \u001b[49m\u001b[43minterpolation\u001b[49m\u001b[38;5;241;43m=\u001b[39;49m\u001b[38;5;28;43;01mNone\u001b[39;49;00m\u001b[43m,\u001b[49m\u001b[43m \u001b[49m\u001b[43mcmap\u001b[49m\u001b[38;5;241;43m=\u001b[39;49m\u001b[38;5;124;43m'\u001b[39;49m\u001b[38;5;124;43mGreys\u001b[39;49m\u001b[38;5;124;43m'\u001b[39;49m\u001b[43m)\u001b[49m\n\u001b[0;32m      9\u001b[0m plt\u001b[38;5;241m.\u001b[39mshow()\n",
      "File \u001b[1;32mE:\\Anaconda\\lib\\site-packages\\matplotlib\\pyplot.py:2168\u001b[0m, in \u001b[0;36mmatshow\u001b[1;34m(A, fignum, **kwargs)\u001b[0m\n\u001b[0;32m   2166\u001b[0m     fig \u001b[38;5;241m=\u001b[39m figure(fignum, figsize\u001b[38;5;241m=\u001b[39mfigaspect(A))\n\u001b[0;32m   2167\u001b[0m     ax \u001b[38;5;241m=\u001b[39m fig\u001b[38;5;241m.\u001b[39madd_axes([\u001b[38;5;241m0.15\u001b[39m, \u001b[38;5;241m0.09\u001b[39m, \u001b[38;5;241m0.775\u001b[39m, \u001b[38;5;241m0.775\u001b[39m])\n\u001b[1;32m-> 2168\u001b[0m im \u001b[38;5;241m=\u001b[39m ax\u001b[38;5;241m.\u001b[39mmatshow(A, \u001b[38;5;241m*\u001b[39m\u001b[38;5;241m*\u001b[39mkwargs)\n\u001b[0;32m   2169\u001b[0m sci(im)\n\u001b[0;32m   2170\u001b[0m \u001b[38;5;28;01mreturn\u001b[39;00m im\n",
      "File \u001b[1;32mE:\\Anaconda\\lib\\site-packages\\matplotlib\\axes\\_axes.py:7898\u001b[0m, in \u001b[0;36mAxes.matshow\u001b[1;34m(self, Z, **kwargs)\u001b[0m\n\u001b[0;32m   7893\u001b[0m Z \u001b[38;5;241m=\u001b[39m np\u001b[38;5;241m.\u001b[39masanyarray(Z)\n\u001b[0;32m   7894\u001b[0m kw \u001b[38;5;241m=\u001b[39m {\u001b[38;5;124m'\u001b[39m\u001b[38;5;124morigin\u001b[39m\u001b[38;5;124m'\u001b[39m: \u001b[38;5;124m'\u001b[39m\u001b[38;5;124mupper\u001b[39m\u001b[38;5;124m'\u001b[39m,\n\u001b[0;32m   7895\u001b[0m       \u001b[38;5;124m'\u001b[39m\u001b[38;5;124minterpolation\u001b[39m\u001b[38;5;124m'\u001b[39m: \u001b[38;5;124m'\u001b[39m\u001b[38;5;124mnearest\u001b[39m\u001b[38;5;124m'\u001b[39m,\n\u001b[0;32m   7896\u001b[0m       \u001b[38;5;124m'\u001b[39m\u001b[38;5;124maspect\u001b[39m\u001b[38;5;124m'\u001b[39m: \u001b[38;5;124m'\u001b[39m\u001b[38;5;124mequal\u001b[39m\u001b[38;5;124m'\u001b[39m,          \u001b[38;5;66;03m# (already the imshow default)\u001b[39;00m\n\u001b[0;32m   7897\u001b[0m       \u001b[38;5;241m*\u001b[39m\u001b[38;5;241m*\u001b[39mkwargs}\n\u001b[1;32m-> 7898\u001b[0m im \u001b[38;5;241m=\u001b[39m \u001b[38;5;28mself\u001b[39m\u001b[38;5;241m.\u001b[39mimshow(Z, \u001b[38;5;241m*\u001b[39m\u001b[38;5;241m*\u001b[39mkw)\n\u001b[0;32m   7899\u001b[0m \u001b[38;5;28mself\u001b[39m\u001b[38;5;241m.\u001b[39mtitle\u001b[38;5;241m.\u001b[39mset_y(\u001b[38;5;241m1.05\u001b[39m)\n\u001b[0;32m   7900\u001b[0m \u001b[38;5;28mself\u001b[39m\u001b[38;5;241m.\u001b[39mxaxis\u001b[38;5;241m.\u001b[39mtick_top()\n",
      "File \u001b[1;32mE:\\Anaconda\\lib\\site-packages\\matplotlib\\_api\\deprecation.py:454\u001b[0m, in \u001b[0;36mmake_keyword_only.<locals>.wrapper\u001b[1;34m(*args, **kwargs)\u001b[0m\n\u001b[0;32m    448\u001b[0m \u001b[38;5;28;01mif\u001b[39;00m \u001b[38;5;28mlen\u001b[39m(args) \u001b[38;5;241m>\u001b[39m name_idx:\n\u001b[0;32m    449\u001b[0m     warn_deprecated(\n\u001b[0;32m    450\u001b[0m         since, message\u001b[38;5;241m=\u001b[39m\u001b[38;5;124m\"\u001b[39m\u001b[38;5;124mPassing the \u001b[39m\u001b[38;5;132;01m%(name)s\u001b[39;00m\u001b[38;5;124m \u001b[39m\u001b[38;5;132;01m%(obj_type)s\u001b[39;00m\u001b[38;5;124m \u001b[39m\u001b[38;5;124m\"\u001b[39m\n\u001b[0;32m    451\u001b[0m         \u001b[38;5;124m\"\u001b[39m\u001b[38;5;124mpositionally is deprecated since Matplotlib \u001b[39m\u001b[38;5;132;01m%(since)s\u001b[39;00m\u001b[38;5;124m; the \u001b[39m\u001b[38;5;124m\"\u001b[39m\n\u001b[0;32m    452\u001b[0m         \u001b[38;5;124m\"\u001b[39m\u001b[38;5;124mparameter will become keyword-only \u001b[39m\u001b[38;5;132;01m%(removal)s\u001b[39;00m\u001b[38;5;124m.\u001b[39m\u001b[38;5;124m\"\u001b[39m,\n\u001b[0;32m    453\u001b[0m         name\u001b[38;5;241m=\u001b[39mname, obj_type\u001b[38;5;241m=\u001b[39m\u001b[38;5;124mf\u001b[39m\u001b[38;5;124m\"\u001b[39m\u001b[38;5;124mparameter of \u001b[39m\u001b[38;5;132;01m{\u001b[39;00mfunc\u001b[38;5;241m.\u001b[39m\u001b[38;5;18m__name__\u001b[39m\u001b[38;5;132;01m}\u001b[39;00m\u001b[38;5;124m()\u001b[39m\u001b[38;5;124m\"\u001b[39m)\n\u001b[1;32m--> 454\u001b[0m \u001b[38;5;28;01mreturn\u001b[39;00m func(\u001b[38;5;241m*\u001b[39margs, \u001b[38;5;241m*\u001b[39m\u001b[38;5;241m*\u001b[39mkwargs)\n",
      "File \u001b[1;32mE:\\Anaconda\\lib\\site-packages\\matplotlib\\__init__.py:1423\u001b[0m, in \u001b[0;36m_preprocess_data.<locals>.inner\u001b[1;34m(ax, data, *args, **kwargs)\u001b[0m\n\u001b[0;32m   1420\u001b[0m \u001b[38;5;129m@functools\u001b[39m\u001b[38;5;241m.\u001b[39mwraps(func)\n\u001b[0;32m   1421\u001b[0m \u001b[38;5;28;01mdef\u001b[39;00m \u001b[38;5;21minner\u001b[39m(ax, \u001b[38;5;241m*\u001b[39margs, data\u001b[38;5;241m=\u001b[39m\u001b[38;5;28;01mNone\u001b[39;00m, \u001b[38;5;241m*\u001b[39m\u001b[38;5;241m*\u001b[39mkwargs):\n\u001b[0;32m   1422\u001b[0m     \u001b[38;5;28;01mif\u001b[39;00m data \u001b[38;5;129;01mis\u001b[39;00m \u001b[38;5;28;01mNone\u001b[39;00m:\n\u001b[1;32m-> 1423\u001b[0m         \u001b[38;5;28;01mreturn\u001b[39;00m func(ax, \u001b[38;5;241m*\u001b[39m\u001b[38;5;28mmap\u001b[39m(sanitize_sequence, args), \u001b[38;5;241m*\u001b[39m\u001b[38;5;241m*\u001b[39mkwargs)\n\u001b[0;32m   1425\u001b[0m     bound \u001b[38;5;241m=\u001b[39m new_sig\u001b[38;5;241m.\u001b[39mbind(ax, \u001b[38;5;241m*\u001b[39margs, \u001b[38;5;241m*\u001b[39m\u001b[38;5;241m*\u001b[39mkwargs)\n\u001b[0;32m   1426\u001b[0m     auto_label \u001b[38;5;241m=\u001b[39m (bound\u001b[38;5;241m.\u001b[39marguments\u001b[38;5;241m.\u001b[39mget(label_namer)\n\u001b[0;32m   1427\u001b[0m                   \u001b[38;5;129;01mor\u001b[39;00m bound\u001b[38;5;241m.\u001b[39mkwargs\u001b[38;5;241m.\u001b[39mget(label_namer))\n",
      "File \u001b[1;32mE:\\Anaconda\\lib\\site-packages\\matplotlib\\axes\\_axes.py:5574\u001b[0m, in \u001b[0;36mAxes.imshow\u001b[1;34m(self, X, cmap, norm, aspect, interpolation, alpha, vmin, vmax, origin, extent, interpolation_stage, filternorm, filterrad, resample, url, **kwargs)\u001b[0m\n\u001b[0;32m   5566\u001b[0m \u001b[38;5;28mself\u001b[39m\u001b[38;5;241m.\u001b[39mset_aspect(aspect)\n\u001b[0;32m   5567\u001b[0m im \u001b[38;5;241m=\u001b[39m mimage\u001b[38;5;241m.\u001b[39mAxesImage(\u001b[38;5;28mself\u001b[39m, cmap\u001b[38;5;241m=\u001b[39mcmap, norm\u001b[38;5;241m=\u001b[39mnorm,\n\u001b[0;32m   5568\u001b[0m                       interpolation\u001b[38;5;241m=\u001b[39minterpolation, origin\u001b[38;5;241m=\u001b[39morigin,\n\u001b[0;32m   5569\u001b[0m                       extent\u001b[38;5;241m=\u001b[39mextent, filternorm\u001b[38;5;241m=\u001b[39mfilternorm,\n\u001b[0;32m   5570\u001b[0m                       filterrad\u001b[38;5;241m=\u001b[39mfilterrad, resample\u001b[38;5;241m=\u001b[39mresample,\n\u001b[0;32m   5571\u001b[0m                       interpolation_stage\u001b[38;5;241m=\u001b[39minterpolation_stage,\n\u001b[0;32m   5572\u001b[0m                       \u001b[38;5;241m*\u001b[39m\u001b[38;5;241m*\u001b[39mkwargs)\n\u001b[1;32m-> 5574\u001b[0m \u001b[43mim\u001b[49m\u001b[38;5;241;43m.\u001b[39;49m\u001b[43mset_data\u001b[49m\u001b[43m(\u001b[49m\u001b[43mX\u001b[49m\u001b[43m)\u001b[49m\n\u001b[0;32m   5575\u001b[0m im\u001b[38;5;241m.\u001b[39mset_alpha(alpha)\n\u001b[0;32m   5576\u001b[0m \u001b[38;5;28;01mif\u001b[39;00m im\u001b[38;5;241m.\u001b[39mget_clip_path() \u001b[38;5;129;01mis\u001b[39;00m \u001b[38;5;28;01mNone\u001b[39;00m:\n\u001b[0;32m   5577\u001b[0m     \u001b[38;5;66;03m# image does not already have clipping set, clip to axes patch\u001b[39;00m\n",
      "File \u001b[1;32mE:\\Anaconda\\lib\\site-packages\\matplotlib\\image.py:710\u001b[0m, in \u001b[0;36m_ImageBase.set_data\u001b[1;34m(self, A)\u001b[0m\n\u001b[0;32m    706\u001b[0m     \u001b[38;5;28mself\u001b[39m\u001b[38;5;241m.\u001b[39m_A \u001b[38;5;241m=\u001b[39m \u001b[38;5;28mself\u001b[39m\u001b[38;5;241m.\u001b[39m_A[:, :, \u001b[38;5;241m0\u001b[39m]\n\u001b[0;32m    708\u001b[0m \u001b[38;5;28;01mif\u001b[39;00m \u001b[38;5;129;01mnot\u001b[39;00m (\u001b[38;5;28mself\u001b[39m\u001b[38;5;241m.\u001b[39m_A\u001b[38;5;241m.\u001b[39mndim \u001b[38;5;241m==\u001b[39m \u001b[38;5;241m2\u001b[39m\n\u001b[0;32m    709\u001b[0m         \u001b[38;5;129;01mor\u001b[39;00m \u001b[38;5;28mself\u001b[39m\u001b[38;5;241m.\u001b[39m_A\u001b[38;5;241m.\u001b[39mndim \u001b[38;5;241m==\u001b[39m \u001b[38;5;241m3\u001b[39m \u001b[38;5;129;01mand\u001b[39;00m \u001b[38;5;28mself\u001b[39m\u001b[38;5;241m.\u001b[39m_A\u001b[38;5;241m.\u001b[39mshape[\u001b[38;5;241m-\u001b[39m\u001b[38;5;241m1\u001b[39m] \u001b[38;5;129;01min\u001b[39;00m [\u001b[38;5;241m3\u001b[39m, \u001b[38;5;241m4\u001b[39m]):\n\u001b[1;32m--> 710\u001b[0m     \u001b[38;5;28;01mraise\u001b[39;00m \u001b[38;5;167;01mTypeError\u001b[39;00m(\u001b[38;5;124m\"\u001b[39m\u001b[38;5;124mInvalid shape \u001b[39m\u001b[38;5;132;01m{}\u001b[39;00m\u001b[38;5;124m for image data\u001b[39m\u001b[38;5;124m\"\u001b[39m\n\u001b[0;32m    711\u001b[0m                     \u001b[38;5;241m.\u001b[39mformat(\u001b[38;5;28mself\u001b[39m\u001b[38;5;241m.\u001b[39m_A\u001b[38;5;241m.\u001b[39mshape))\n\u001b[0;32m    713\u001b[0m \u001b[38;5;28;01mif\u001b[39;00m \u001b[38;5;28mself\u001b[39m\u001b[38;5;241m.\u001b[39m_A\u001b[38;5;241m.\u001b[39mndim \u001b[38;5;241m==\u001b[39m \u001b[38;5;241m3\u001b[39m:\n\u001b[0;32m    714\u001b[0m     \u001b[38;5;66;03m# If the input data has values outside the valid range (after\u001b[39;00m\n\u001b[0;32m    715\u001b[0m     \u001b[38;5;66;03m# normalisation), we issue a warning and then clip X to the bounds\u001b[39;00m\n\u001b[0;32m    716\u001b[0m     \u001b[38;5;66;03m# - otherwise casting wraps extreme values, hiding outliers and\u001b[39;00m\n\u001b[0;32m    717\u001b[0m     \u001b[38;5;66;03m# making reliable interpretation impossible.\u001b[39;00m\n\u001b[0;32m    718\u001b[0m     high \u001b[38;5;241m=\u001b[39m \u001b[38;5;241m255\u001b[39m \u001b[38;5;28;01mif\u001b[39;00m np\u001b[38;5;241m.\u001b[39missubdtype(\u001b[38;5;28mself\u001b[39m\u001b[38;5;241m.\u001b[39m_A\u001b[38;5;241m.\u001b[39mdtype, np\u001b[38;5;241m.\u001b[39minteger) \u001b[38;5;28;01melse\u001b[39;00m \u001b[38;5;241m1\u001b[39m\n",
      "\u001b[1;31mTypeError\u001b[0m: Invalid shape (1, 28, 28) for image data"
     ]
    },
    {
     "data": {
      "image/png": "[encoded data removed]",
      "text/plain": [
       "<Figure size 1600x200 with 1 Axes>"
      ]
     },
     "metadata": {},
     "output_type": "display_data"
    }
   ],
   "source": [
    "import importlib\n",
    "import taranis\n",
    "import taranis.core.visualization.extract as extract\n",
    "importlib.reload(taranis.core.visualization.extract)\n",
    "\n",
    "img = extract.generate_image(linear, input_shape, 0, 1, 0.9999)\n",
    "\n",
    "plt.matshow(img[0][0, interpolation=None, cmap='Greys')\n",
    "plt.show()"
   ]
  },
  {
   "cell_type": "code",
   "execution_count": 82,
   "id": "81bff9f9",
   "metadata": {},
   "outputs": [],
   "source": [
    "output = linear(image)\n",
    "loss = F.cross_entropy(output, torch.tensor([1], dtype=torch.long).cuda())\n",
    "loss\n",
    "loss.backward()"
   ]
  },
  {
   "cell_type": "code",
   "execution_count": 89,
   "id": "8aae8747",
   "metadata": {},
   "outputs": [
    {
     "data": {
      "image/png": "[encoded data removed]",
      "text/plain": [
       "<Figure size 480x480 with 1 Axes>"
      ]
     },
     "metadata": {},
     "output_type": "display_data"
    }
   ],
   "source": []
  },
  {
   "cell_type": "code",
   "execution_count": 33,
   "id": "7be512d5",
   "metadata": {},
   "outputs": [
    {
     "name": "stdout",
     "output_type": "stream",
     "text": [
      "0 -0.025855847199757895\n",
      "1 -0.03305356502532959\n",
      "2 -0.0333518385887146\n",
      "3 -0.03350720405578613\n",
      "4 -0.0336058775583903\n",
      "5 -0.033682103951772055\n",
      "6 -0.033739880720774336\n",
      "7 -0.0337876836458842\n",
      "8 -0.033828870455423994\n",
      "9 -0.03386344909667969\n",
      "10 -0.03389474153518677\n",
      "11 -0.033921349048614505\n",
      "12 -0.033944257100423175\n",
      "13 -0.033961776892344156\n",
      "14 -0.03397780259450277\n",
      "15 -0.03399474223454793\n",
      "16 -0.034009210268656415\n",
      "17 -0.034020551045735675\n",
      "18 -0.0340305765469869\n",
      "19 -0.034040276209513345\n",
      "20 -0.0340502659479777\n",
      "21 -0.03406020005544027\n",
      "22 -0.03406988382339478\n",
      "23 -0.03407861391703288\n",
      "24 -0.03408615191777547\n",
      "25 -0.034093423684438066\n",
      "26 -0.03410022258758545\n",
      "27 -0.03410675128300985\n",
      "28 -0.034113192558288576\n",
      "29 -0.03411925236384074\n",
      "30 -0.034125296274820964\n",
      "31 -0.034131773312886554\n",
      "32 -0.03413831392923991\n",
      "33 -0.03414405981699626\n",
      "34 -0.03414921760559082\n",
      "35 -0.034153703848520914\n",
      "36 -0.034157633781433105\n",
      "37 -0.034161420663197835\n",
      "38 -0.03416534662246704\n",
      "39 -0.03416927258173625\n",
      "40 -0.03417319854100545\n",
      "41 -0.034176842371622725\n",
      "42 -0.03418022394180298\n",
      "43 -0.03418296972910563\n",
      "44 -0.034185147285461424\n",
      "45 -0.03418712615966797\n",
      "46 -0.03418908913930257\n",
      "47 -0.03419114351272583\n",
      "48 -0.03419327735900879\n",
      "49 -0.03419574499130249\n",
      "50 -0.03419861396153768\n",
      "51 -0.03420174519220988\n",
      "52 -0.03420497973759969\n",
      "53 -0.034207626183827715\n",
      "54 -0.0342099666595459\n",
      "55 -0.034212092558542885\n",
      "56 -0.034214107195536296\n",
      "57 -0.03421602249145508\n",
      "58 -0.034218076864878336\n",
      "59 -0.03421990076700846\n",
      "60 -0.03422158161799113\n",
      "61 -0.034223739306132\n",
      "62 -0.03422638972600301\n",
      "63 -0.03422861893971761\n",
      "64 -0.03423063755035401\n",
      "65 -0.034232568740844724\n",
      "66 -0.03423429727554321\n",
      "67 -0.03423578341801961\n",
      "68 -0.03423708279927572\n",
      "69 -0.03423832257588704\n",
      "70 -0.03423955837885539\n",
      "71 -0.034240814050038655\n",
      "72 -0.03424203793207804\n",
      "73 -0.03424321015675862\n",
      "74 -0.0342443585395813\n",
      "75 -0.034245634078979494\n",
      "76 -0.03424708048502604\n"
     ]
    },
    {
     "ename": "KeyboardInterrupt",
     "evalue": "",
     "output_type": "error",
     "traceback": [
      "\u001b[1;31m---------------------------------------------------------------------------\u001b[0m",
      "\u001b[1;31mKeyboardInterrupt\u001b[0m                         Traceback (most recent call last)",
      "Cell \u001b[1;32mIn [33], line 11\u001b[0m\n\u001b[0;32m      1\u001b[0m \u001b[38;5;28;01mimport\u001b[39;00m \u001b[38;5;21;01mtaranis\u001b[39;00m\u001b[38;5;21;01m.\u001b[39;00m\u001b[38;5;21;01mcore\u001b[39;00m\u001b[38;5;21;01m.\u001b[39;00m\u001b[38;5;21;01mnn\u001b[39;00m \u001b[38;5;28;01mas\u001b[39;00m \u001b[38;5;21;01mext_nn\u001b[39;00m\n\u001b[0;32m      3\u001b[0m linear \u001b[38;5;241m=\u001b[39m nn\u001b[38;5;241m.\u001b[39mSequential(\n\u001b[0;32m      4\u001b[0m     nn\u001b[38;5;241m.\u001b[39mFlatten(),             \n\u001b[0;32m      5\u001b[0m     ext_nn\u001b[38;5;241m.\u001b[39mLinearIdentity(m, n),\n\u001b[1;32m   (...)\u001b[0m\n\u001b[0;32m      8\u001b[0m     nn\u001b[38;5;241m.\u001b[39mSoftmax(dim\u001b[38;5;241m=\u001b[39m\u001b[38;5;241m1\u001b[39m),\n\u001b[0;32m      9\u001b[0m )\n\u001b[1;32m---> 11\u001b[0m \u001b[43mgpu_train\u001b[49m\u001b[43m(\u001b[49m\u001b[43mlinear\u001b[49m\u001b[43m,\u001b[49m\u001b[43m \u001b[49m\u001b[43mdataset\u001b[49m\u001b[43m,\u001b[49m\u001b[43m \u001b[49m\u001b[38;5;241;43m100\u001b[39;49m\u001b[43m,\u001b[49m\u001b[43m \u001b[49m\u001b[43mlr\u001b[49m\u001b[38;5;241;43m=\u001b[39;49m\u001b[38;5;241;43m3\u001b[39;49m\u001b[43m)\u001b[49m\n\u001b[0;32m     12\u001b[0m gpu_test_model(linear, dataset)\n\u001b[0;32m     13\u001b[0m gpu_test_model(linear, dataset_test)\n",
      "File \u001b[1;32me:\\work\\taranis\\taranis\\core\\trainer\\train.py:85\u001b[0m, in \u001b[0;36mgpu_train\u001b[1;34m(model, dataset, epoch, batch_size, lr, lr_map)\u001b[0m\n\u001b[0;32m     83\u001b[0m losses \u001b[38;5;241m=\u001b[39m []\n\u001b[0;32m     84\u001b[0m count \u001b[38;5;241m=\u001b[39m \u001b[38;5;241m0\u001b[39m\n\u001b[1;32m---> 85\u001b[0m \u001b[38;5;28;01mfor\u001b[39;00m batch, labels \u001b[38;5;129;01min\u001b[39;00m dataloader:\n\u001b[0;32m     86\u001b[0m     batch, labels \u001b[38;5;241m=\u001b[39m batch\u001b[38;5;241m.\u001b[39mcuda(), labels\u001b[38;5;241m.\u001b[39mcuda() \u001b[38;5;66;03m# HERE\u001b[39;00m\n\u001b[0;32m     88\u001b[0m     optimizer\u001b[38;5;241m.\u001b[39mzero_grad()\n",
      "File \u001b[1;32mE:\\Anaconda\\lib\\site-packages\\torch\\utils\\data\\dataloader.py:634\u001b[0m, in \u001b[0;36m_BaseDataLoaderIter.__next__\u001b[1;34m(self)\u001b[0m\n\u001b[0;32m    631\u001b[0m \u001b[38;5;28;01mif\u001b[39;00m \u001b[38;5;28mself\u001b[39m\u001b[38;5;241m.\u001b[39m_sampler_iter \u001b[38;5;129;01mis\u001b[39;00m \u001b[38;5;28;01mNone\u001b[39;00m:\n\u001b[0;32m    632\u001b[0m     \u001b[38;5;66;03m# TODO(https://github.com/pytorch/pytorch/issues/76750)\u001b[39;00m\n\u001b[0;32m    633\u001b[0m     \u001b[38;5;28mself\u001b[39m\u001b[38;5;241m.\u001b[39m_reset()  \u001b[38;5;66;03m# type: ignore[call-arg]\u001b[39;00m\n\u001b[1;32m--> 634\u001b[0m data \u001b[38;5;241m=\u001b[39m \u001b[38;5;28;43mself\u001b[39;49m\u001b[38;5;241;43m.\u001b[39;49m\u001b[43m_next_data\u001b[49m\u001b[43m(\u001b[49m\u001b[43m)\u001b[49m\n\u001b[0;32m    635\u001b[0m \u001b[38;5;28mself\u001b[39m\u001b[38;5;241m.\u001b[39m_num_yielded \u001b[38;5;241m+\u001b[39m\u001b[38;5;241m=\u001b[39m \u001b[38;5;241m1\u001b[39m\n\u001b[0;32m    636\u001b[0m \u001b[38;5;28;01mif\u001b[39;00m \u001b[38;5;28mself\u001b[39m\u001b[38;5;241m.\u001b[39m_dataset_kind \u001b[38;5;241m==\u001b[39m _DatasetKind\u001b[38;5;241m.\u001b[39mIterable \u001b[38;5;129;01mand\u001b[39;00m \\\n\u001b[0;32m    637\u001b[0m         \u001b[38;5;28mself\u001b[39m\u001b[38;5;241m.\u001b[39m_IterableDataset_len_called \u001b[38;5;129;01mis\u001b[39;00m \u001b[38;5;129;01mnot\u001b[39;00m \u001b[38;5;28;01mNone\u001b[39;00m \u001b[38;5;129;01mand\u001b[39;00m \\\n\u001b[0;32m    638\u001b[0m         \u001b[38;5;28mself\u001b[39m\u001b[38;5;241m.\u001b[39m_num_yielded \u001b[38;5;241m>\u001b[39m \u001b[38;5;28mself\u001b[39m\u001b[38;5;241m.\u001b[39m_IterableDataset_len_called:\n",
      "File \u001b[1;32mE:\\Anaconda\\lib\\site-packages\\torch\\utils\\data\\dataloader.py:678\u001b[0m, in \u001b[0;36m_SingleProcessDataLoaderIter._next_data\u001b[1;34m(self)\u001b[0m\n\u001b[0;32m    676\u001b[0m \u001b[38;5;28;01mdef\u001b[39;00m \u001b[38;5;21m_next_data\u001b[39m(\u001b[38;5;28mself\u001b[39m):\n\u001b[0;32m    677\u001b[0m     index \u001b[38;5;241m=\u001b[39m \u001b[38;5;28mself\u001b[39m\u001b[38;5;241m.\u001b[39m_next_index()  \u001b[38;5;66;03m# may raise StopIteration\u001b[39;00m\n\u001b[1;32m--> 678\u001b[0m     data \u001b[38;5;241m=\u001b[39m \u001b[38;5;28;43mself\u001b[39;49m\u001b[38;5;241;43m.\u001b[39;49m\u001b[43m_dataset_fetcher\u001b[49m\u001b[38;5;241;43m.\u001b[39;49m\u001b[43mfetch\u001b[49m\u001b[43m(\u001b[49m\u001b[43mindex\u001b[49m\u001b[43m)\u001b[49m  \u001b[38;5;66;03m# may raise StopIteration\u001b[39;00m\n\u001b[0;32m    679\u001b[0m     \u001b[38;5;28;01mif\u001b[39;00m \u001b[38;5;28mself\u001b[39m\u001b[38;5;241m.\u001b[39m_pin_memory:\n\u001b[0;32m    680\u001b[0m         data \u001b[38;5;241m=\u001b[39m _utils\u001b[38;5;241m.\u001b[39mpin_memory\u001b[38;5;241m.\u001b[39mpin_memory(data, \u001b[38;5;28mself\u001b[39m\u001b[38;5;241m.\u001b[39m_pin_memory_device)\n",
      "File \u001b[1;32mE:\\Anaconda\\lib\\site-packages\\torch\\utils\\data\\_utils\\fetch.py:51\u001b[0m, in \u001b[0;36m_MapDatasetFetcher.fetch\u001b[1;34m(self, possibly_batched_index)\u001b[0m\n\u001b[0;32m     49\u001b[0m         data \u001b[38;5;241m=\u001b[39m \u001b[38;5;28mself\u001b[39m\u001b[38;5;241m.\u001b[39mdataset\u001b[38;5;241m.\u001b[39m__getitems__(possibly_batched_index)\n\u001b[0;32m     50\u001b[0m     \u001b[38;5;28;01melse\u001b[39;00m:\n\u001b[1;32m---> 51\u001b[0m         data \u001b[38;5;241m=\u001b[39m [\u001b[38;5;28mself\u001b[39m\u001b[38;5;241m.\u001b[39mdataset[idx] \u001b[38;5;28;01mfor\u001b[39;00m idx \u001b[38;5;129;01min\u001b[39;00m possibly_batched_index]\n\u001b[0;32m     52\u001b[0m \u001b[38;5;28;01melse\u001b[39;00m:\n\u001b[0;32m     53\u001b[0m     data \u001b[38;5;241m=\u001b[39m \u001b[38;5;28mself\u001b[39m\u001b[38;5;241m.\u001b[39mdataset[possibly_batched_index]\n",
      "File \u001b[1;32mE:\\Anaconda\\lib\\site-packages\\torch\\utils\\data\\_utils\\fetch.py:51\u001b[0m, in \u001b[0;36m<listcomp>\u001b[1;34m(.0)\u001b[0m\n\u001b[0;32m     49\u001b[0m         data \u001b[38;5;241m=\u001b[39m \u001b[38;5;28mself\u001b[39m\u001b[38;5;241m.\u001b[39mdataset\u001b[38;5;241m.\u001b[39m__getitems__(possibly_batched_index)\n\u001b[0;32m     50\u001b[0m     \u001b[38;5;28;01melse\u001b[39;00m:\n\u001b[1;32m---> 51\u001b[0m         data \u001b[38;5;241m=\u001b[39m [\u001b[38;5;28;43mself\u001b[39;49m\u001b[38;5;241;43m.\u001b[39;49m\u001b[43mdataset\u001b[49m\u001b[43m[\u001b[49m\u001b[43midx\u001b[49m\u001b[43m]\u001b[49m \u001b[38;5;28;01mfor\u001b[39;00m idx \u001b[38;5;129;01min\u001b[39;00m possibly_batched_index]\n\u001b[0;32m     52\u001b[0m \u001b[38;5;28;01melse\u001b[39;00m:\n\u001b[0;32m     53\u001b[0m     data \u001b[38;5;241m=\u001b[39m \u001b[38;5;28mself\u001b[39m\u001b[38;5;241m.\u001b[39mdataset[possibly_batched_index]\n",
      "File \u001b[1;32mE:\\Anaconda\\lib\\site-packages\\torch\\utils\\data\\dataset.py:196\u001b[0m, in \u001b[0;36mTensorDataset.__getitem__\u001b[1;34m(self, index)\u001b[0m\n\u001b[0;32m    195\u001b[0m \u001b[38;5;28;01mdef\u001b[39;00m \u001b[38;5;21m__getitem__\u001b[39m(\u001b[38;5;28mself\u001b[39m, index):\n\u001b[1;32m--> 196\u001b[0m     \u001b[38;5;28;01mreturn\u001b[39;00m \u001b[38;5;28;43mtuple\u001b[39;49m\u001b[43m(\u001b[49m\u001b[43mtensor\u001b[49m\u001b[43m[\u001b[49m\u001b[43mindex\u001b[49m\u001b[43m]\u001b[49m\u001b[43m \u001b[49m\u001b[38;5;28;43;01mfor\u001b[39;49;00m\u001b[43m \u001b[49m\u001b[43mtensor\u001b[49m\u001b[43m \u001b[49m\u001b[38;5;129;43;01min\u001b[39;49;00m\u001b[43m \u001b[49m\u001b[38;5;28;43mself\u001b[39;49m\u001b[38;5;241;43m.\u001b[39;49m\u001b[43mtensors\u001b[49m\u001b[43m)\u001b[49m\n",
      "File \u001b[1;32mE:\\Anaconda\\lib\\site-packages\\torch\\utils\\data\\dataset.py:196\u001b[0m, in \u001b[0;36m<genexpr>\u001b[1;34m(.0)\u001b[0m\n\u001b[0;32m    195\u001b[0m \u001b[38;5;28;01mdef\u001b[39;00m \u001b[38;5;21m__getitem__\u001b[39m(\u001b[38;5;28mself\u001b[39m, index):\n\u001b[1;32m--> 196\u001b[0m     \u001b[38;5;28;01mreturn\u001b[39;00m \u001b[38;5;28mtuple\u001b[39m(tensor[index] \u001b[38;5;28;01mfor\u001b[39;00m tensor \u001b[38;5;129;01min\u001b[39;00m \u001b[38;5;28mself\u001b[39m\u001b[38;5;241m.\u001b[39mtensors)\n",
      "\u001b[1;31mKeyboardInterrupt\u001b[0m: "
     ]
    }
   ],
   "source": [
    "import taranis.core.nn as ext_nn\n",
    "\n",
    "linear = nn.Sequential(\n",
    "    nn.Flatten(),             \n",
    "    ext_nn.LinearIdentity(m, n),\n",
    "    nn.ReLU(),\n",
    "    ext_nn.LinearIdentity(n, classes),\n",
    "    nn.Softmax(dim=1),\n",
    ")\n",
    "\n",
    "gpu_train(linear, dataset, 100, lr=lr, lr_map=lr_map)\n",
    "gpu_test_model(linear, dataset)\n",
    "gpu_test_model(linear, dataset_test)"
   ]
  },
  {
   "cell_type": "code",
   "execution_count": 34,
   "id": "f91dc60f",
   "metadata": {},
   "outputs": [
    {
     "name": "stdout",
     "output_type": "stream",
     "text": [
      "0 -0.006673250099023183\n",
      "1 -0.006693302094936371\n",
      "2 -0.006725814441839854\n",
      "3 -0.006791658202807109\n",
      "4 -0.006949969132741292\n",
      "5 -0.007450894514719645\n",
      "6 -0.01029404600461324\n",
      "7 -0.015508286158243815\n",
      "8 -0.026666657129923502\n",
      "9 -0.03587265809377035\n",
      "10 -0.04214041630427043\n",
      "11 -0.04457614421844482\n",
      "12 -0.045877838134765626\n",
      "13 -0.04671330054601033\n",
      "14 -0.04766329526901245\n",
      "15 -0.050970753033955894\n",
      "16 -0.05199408928553263\n",
      "17 -0.052573045094807945\n",
      "18 -0.052996317545572914\n",
      "19 -0.053338428338368736\n",
      "20 -0.05362682342529297\n",
      "21 -0.05387606223424276\n",
      "22 -0.05409533580144246\n",
      "23 -0.0542911171913147\n",
      "24 -0.05446806351343791\n",
      "25 -0.05462963581085205\n",
      "26 -0.05477875868479411\n",
      "27 -0.05491885741551717\n",
      "28 -0.05505885283152263\n",
      "29 -0.05538970629374186\n",
      "30 -0.05722528298695882\n",
      "31 -0.05850963592529297\n",
      "32 -0.058987804253896076\n",
      "33 -0.059304277102152504\n",
      "34 -0.05955933729807536\n",
      "35 -0.059779131412506105\n",
      "36 -0.059975095589955646\n",
      "37 -0.06015317440032959\n",
      "38 -0.060316729545593264\n",
      "39 -0.06046823263168335\n",
      "40 -0.060609809557596844\n",
      "41 -0.06074319283167521\n",
      "42 -0.06086955467859904\n",
      "43 -0.06098949511845907\n",
      "44 -0.06110352675120036\n",
      "45 -0.061212186018625894\n",
      "46 -0.06131590604782104\n",
      "47 -0.061415135860443115\n",
      "48 -0.06151027282079061\n",
      "49 -0.061601694424947104\n",
      "50 -0.061689762274424235\n",
      "51 -0.06177475849787394\n",
      "52 -0.06185686190923055\n",
      "53 -0.061936259269714355\n",
      "54 -0.06201293468475342\n",
      "55 -0.06208697557449341\n",
      "56 -0.06215856075286865\n",
      "57 -0.062227801481882734\n",
      "58 -0.06229485670725505\n",
      "59 -0.06235987345377604\n",
      "60 -0.06242303450902303\n",
      "61 -0.062484467029571535\n",
      "62 -0.062544318040212\n",
      "63 -0.0626026749610901\n",
      "64 -0.06265960137049358\n",
      "65 -0.06271512111028035\n",
      "66 -0.06276920239130655\n",
      "67 -0.06282179355621338\n",
      "68 -0.06287296215693156\n",
      "69 -0.06292274395624796\n",
      "70 -0.06297119458516438\n",
      "71 -0.06301839749018351\n",
      "72 -0.06306434472401937\n",
      "73 -0.0631090799967448\n",
      "74 -0.06315263907114664\n",
      "75 -0.06319512923558553\n",
      "76 -0.06323658227920533\n",
      "77 -0.06327706575393677\n",
      "78 -0.06331661939620972\n",
      "79 -0.06335531075795492\n",
      "80 -0.0633932113647461\n",
      "81 -0.06343037684758504\n",
      "82 -0.06346687078475952\n",
      "83 -0.06350275675455729\n",
      "84 -0.06353803873062133\n",
      "85 -0.06357276837031046\n",
      "86 -0.06360692580540975\n",
      "87 -0.06364051500956218\n",
      "88 -0.0636735200881958\n",
      "89 -0.06370594501495361\n",
      "90 -0.06373775800069173\n",
      "91 -0.06376904646555583\n",
      "92 -0.0637997547785441\n",
      "93 -0.06382991870244344\n",
      "94 -0.06385952631632487\n",
      "95 -0.06388862133026123\n",
      "96 -0.06391718387603759\n",
      "97 -0.06394527753194174\n",
      "98 -0.06397290627161661\n",
      "99 -0.06400014162063598\n",
      "Accuracy: 96.62666666666667 Loss: -0.9601057373046875\n",
      "Accuracy: 95.99 Loss: -0.9542965454101563\n"
     ]
    }
   ],
   "source": [
    "import math\n",
    "\n",
    "linear = nn.Sequential(\n",
    "    ext_nn.MaskLayer(input_shape, True),\n",
    "    nn.Flatten(),             \n",
    "    nn.Linear(m, n),\n",
    "    nn.ReLU(),\n",
    "    nn.Linear(n, 10),\n",
    "    nn.Softmax(dim=1),\n",
    ")\n",
    "# nn.init.kaiming_uniform_(list(linear.children())[0].weight, a=math.sqrt(5))\n",
    "\n",
    "gpu_train(linear, dataset, epoch, lr=lr, lr_map=lr_map)\n",
    "gpu_test_model(linear, dataset)\n",
    "gpu_test_model(linear, dataset_test)"
   ]
  },
  {
   "cell_type": "code",
   "execution_count": 18,
   "id": "ae5012ab",
   "metadata": {},
   "outputs": [],
   "source": []
  },
  {
   "cell_type": "code",
   "execution_count": 35,
   "id": "40a40bc6",
   "metadata": {},
   "outputs": [
    {
     "data": {
      "image/png": "[encoded data removed]",
      "text/plain": [
       "<Figure size 480x480 with 1 Axes>"
      ]
     },
     "metadata": {},
     "output_type": "display_data"
    }
   ],
   "source": [
    "plt.matshow(list(linear.children())[0].weight[0].detach().cpu(), interpolation=None, cmap='Greys')\n",
    "plt.show()"
   ]
  },
  {
   "cell_type": "code",
   "execution_count": 16,
   "id": "fa1fd672",
   "metadata": {},
   "outputs": [
    {
     "name": "stdout",
     "output_type": "stream",
     "text": [
      "0 -0.0066677391529083255\n",
      "1 -0.006668297946453095\n",
      "2 -0.006668853759765625\n",
      "3 -0.0066694115598996484\n",
      "4 -0.006669969856739044\n",
      "5 -0.00667052815357844\n",
      "6 -0.006671087940533956\n",
      "7 -0.006671648720900218\n",
      "8 -0.00667220950126648\n",
      "9 -0.006672769784927368\n",
      "10 -0.006673331061999003\n",
      "11 -0.006673892339070638\n",
      "12 -0.006674454112847646\n",
      "13 -0.006675017873446146\n",
      "14 -0.006675581137339274\n",
      "15 -0.006676144401232402\n",
      "16 -0.006676707168420156\n",
      "17 -0.006677271922429403\n",
      "18 -0.006677836179733276\n",
      "19 -0.006678399940331777\n",
      "20 -0.006678963204224905\n",
      "21 -0.006679527461528778\n",
      "22 -0.006680091222127278\n",
      "23 -0.0066806554794311525\n",
      "24 -0.006681221723556519\n",
      "25 -0.006681787967681885\n",
      "26 -0.006682356695334116\n",
      "27 -0.006682927906513214\n",
      "28 -0.0066835001111030575\n",
      "29 -0.0066840743025143945\n",
      "30 -0.006684649487336477\n",
      "31 -0.006685227652390798\n",
      "32 -0.006685807804266612\n"
     ]
    },
    {
     "ename": "KeyboardInterrupt",
     "evalue": "",
     "output_type": "error",
     "traceback": [
      "\u001b[1;31m---------------------------------------------------------------------------\u001b[0m",
      "\u001b[1;31mKeyboardInterrupt\u001b[0m                         Traceback (most recent call last)",
      "Cell \u001b[1;32mIn [16], line 10\u001b[0m\n\u001b[0;32m      1\u001b[0m linear \u001b[38;5;241m=\u001b[39m nn\u001b[38;5;241m.\u001b[39mSequential(\n\u001b[0;32m      2\u001b[0m     ext_nn\u001b[38;5;241m.\u001b[39mMaskLayer(input_shape, \u001b[38;5;28;01mTrue\u001b[39;00m),\n\u001b[0;32m      3\u001b[0m     nn\u001b[38;5;241m.\u001b[39mFlatten(),             \n\u001b[1;32m   (...)\u001b[0m\n\u001b[0;32m      7\u001b[0m     nn\u001b[38;5;241m.\u001b[39mSoftmax(dim\u001b[38;5;241m=\u001b[39m\u001b[38;5;241m1\u001b[39m),\n\u001b[0;32m      8\u001b[0m )\n\u001b[1;32m---> 10\u001b[0m \u001b[43mgpu_train\u001b[49m\u001b[43m(\u001b[49m\u001b[43mlinear\u001b[49m\u001b[43m,\u001b[49m\u001b[43m \u001b[49m\u001b[43mdataset\u001b[49m\u001b[43m,\u001b[49m\u001b[43m \u001b[49m\u001b[43mepoch\u001b[49m\u001b[43m,\u001b[49m\u001b[43m \u001b[49m\u001b[43mlr\u001b[49m\u001b[38;5;241;43m=\u001b[39;49m\u001b[43mlr\u001b[49m\u001b[43m,\u001b[49m\u001b[43m \u001b[49m\u001b[43mlr_map\u001b[49m\u001b[38;5;241;43m=\u001b[39;49m\u001b[43mlr_map\u001b[49m\u001b[43m)\u001b[49m\n\u001b[0;32m     11\u001b[0m gpu_test_model(linear, dataset)\n\u001b[0;32m     12\u001b[0m gpu_test_model(linear, dataset_test)\n",
      "File \u001b[1;32me:\\work\\taranis\\taranis\\core\\trainer\\train.py:86\u001b[0m, in \u001b[0;36mgpu_train\u001b[1;34m(model, dataset, epoch, batch_size, lr, lr_map)\u001b[0m\n\u001b[0;32m     84\u001b[0m count \u001b[38;5;241m=\u001b[39m \u001b[38;5;241m0\u001b[39m\n\u001b[0;32m     85\u001b[0m \u001b[38;5;28;01mfor\u001b[39;00m batch, labels \u001b[38;5;129;01min\u001b[39;00m dataloader:\n\u001b[1;32m---> 86\u001b[0m     batch, labels \u001b[38;5;241m=\u001b[39m \u001b[43mbatch\u001b[49m\u001b[38;5;241;43m.\u001b[39;49m\u001b[43mcuda\u001b[49m\u001b[43m(\u001b[49m\u001b[43m)\u001b[49m, labels\u001b[38;5;241m.\u001b[39mcuda() \u001b[38;5;66;03m# HERE\u001b[39;00m\n\u001b[0;32m     88\u001b[0m     optimizer\u001b[38;5;241m.\u001b[39mzero_grad()\n\u001b[0;32m     89\u001b[0m     probabilities \u001b[38;5;241m=\u001b[39m cuda_model(batch)\n",
      "\u001b[1;31mKeyboardInterrupt\u001b[0m: "
     ]
    }
   ],
   "source": [
    "linear = nn.Sequential(\n",
    "    ext_nn.MaskLayer(input_shape, True),\n",
    "    nn.Flatten(),             \n",
    "    ext_nn.LinearIdentity(m, n),\n",
    "    nn.ReLU(),\n",
    "    ext_nn.LinearIdentity(n, 10),\n",
    "    nn.Softmax(dim=1),\n",
    ")\n",
    "          \n",
    "gpu_train(linear, dataset, epoch, lr=lr, lr_map=lr_map)\n",
    "gpu_test_model(linear, dataset)\n",
    "gpu_test_model(linear, dataset_test)"
   ]
  },
  {
   "cell_type": "code",
   "execution_count": 13,
   "id": "faa7a050",
   "metadata": {},
   "outputs": [
    {
     "data": {
      "image/png": "[encoded data removed]",
      "text/plain": [
       "<Figure size 480x480 with 1 Axes>"
      ]
     },
     "metadata": {},
     "output_type": "display_data"
    }
   ],
   "source": [
    "plt.matshow(list(linear.children())[0].weight.detach().cpu(), interpolation=None, cmap='Greys')\n",
    "plt.show()"
   ]
  },
  {
   "cell_type": "code",
   "execution_count": 14,
   "id": "57b2ae50",
   "metadata": {},
   "outputs": [
    {
     "data": {
      "text/plain": [
       "tensor(-0.1497, device='cuda:0', grad_fn=<MinBackward1>)"
      ]
     },
     "execution_count": 14,
     "metadata": {},
     "output_type": "execute_result"
    }
   ],
   "source": [
    "list(linear.children())[0].weight.min()"
   ]
  },
  {
   "cell_type": "code",
   "execution_count": null,
   "id": "bfbd2ec8",
   "metadata": {},
   "outputs": [],
   "source": []
  },
  {
   "cell_type": "code",
   "execution_count": null,
   "id": "99b4f33d",
   "metadata": {},
   "outputs": [],
   "source": []
  },
  {
   "cell_type": "code",
   "execution_count": null,
   "id": "2886976a",
   "metadata": {},
   "outputs": [],
   "source": []
  },
  {
   "cell_type": "code",
   "execution_count": 14,
   "id": "7f235e18",
   "metadata": {},
   "outputs": [],
   "source": [
    "# mnist_dataset()"
   ]
  },
  {
   "cell_type": "code",
   "execution_count": null,
   "id": "ff2648c0",
   "metadata": {},
   "outputs": [],
   "source": []
  },
  {
   "cell_type": "code",
   "execution_count": null,
   "id": "7ae7ccea",
   "metadata": {},
   "outputs": [],
   "source": []
  },
  {
   "cell_type": "code",
   "execution_count": 10,
   "id": "6d2f5011",
   "metadata": {},
   "outputs": [],
   "source": [
    "dataloader = torch.utils.data.DataLoader(\n",
    "        dataset,\n",
    "        batch_size = 128,\n",
    "        num_workers = 0,\n",
    "    )"
   ]
  },
  {
   "cell_type": "code",
   "execution_count": 11,
   "id": "8cf5c347",
   "metadata": {},
   "outputs": [
    {
     "data": {
      "text/plain": [
       "[tensor([[[[ 1.8431,  1.8431,  1.8431,  ...,  0.9633,  1.2126,  0.7727],\n",
       "           [ 1.8431,  1.8284,  1.8284,  ...,  0.5968,  0.4648,  0.2449],\n",
       "           [ 1.8431,  1.8284,  1.8431,  ...,  0.8754,  0.5381, -0.1217],\n",
       "           ...,\n",
       "           [ 0.2742,  0.1862,  0.1569,  ..., -1.4560, -0.9428, -0.7815],\n",
       "           [-0.1070, -0.1364, -0.0484,  ..., -1.5733, -0.4736,  0.1716],\n",
       "           [-0.6202, -0.6056, -0.4150,  ..., -1.3974, -0.3563,  0.1276]],\n",
       " \n",
       "          [[ 2.0015,  2.0015,  2.0015,  ...,  1.2370,  1.5275,  1.0688],\n",
       "           [ 2.0015,  1.9862,  1.9862,  ...,  0.7936,  0.6713,  0.4572],\n",
       "           [ 2.0015,  1.9862,  2.0015,  ...,  1.1453,  0.8242,  0.1361],\n",
       "           ...,\n",
       "           [ 0.9312,  0.8853,  0.8394,  ..., -1.6376, -0.9495, -0.7202],\n",
       "           [ 0.5031,  0.4725,  0.5489,  ..., -1.6529, -0.1850,  0.5642],\n",
       "           [-0.0321, -0.0321,  0.1514,  ..., -1.3471,  0.1361,  0.7477]],\n",
       " \n",
       "          [[ 2.0256,  2.0256,  2.0256,  ...,  1.1449,  1.3011,  0.7756],\n",
       "           [ 2.0256,  2.0114,  2.0114,  ...,  0.5341,  0.2500,  0.0085],\n",
       "           [ 2.0256,  2.0114,  2.0256,  ...,  0.8040,  0.2500, -0.3608],\n",
       "           ...,\n",
       "           [-0.4744, -0.7869, -0.7443,  ..., -1.5824, -1.3835, -1.3125],\n",
       "           [-0.6591, -0.7727, -0.5881,  ..., -1.5540, -0.8011, -0.3608],\n",
       "           [-1.0142, -1.0426, -0.8011,  ..., -1.4545, -0.7585, -0.4744]]],\n",
       " \n",
       " \n",
       "         [[[ 1.8431,  1.8138,  1.8138,  ...,  1.8138,  1.8138,  1.8431],\n",
       "           [ 1.8431,  1.8431,  1.8431,  ...,  1.8431,  1.8431,  1.8431],\n",
       "           [ 1.8431,  1.8431,  1.8431,  ...,  1.8431,  1.8431,  1.8431],\n",
       "           ...,\n",
       "           [ 1.8431,  1.8431,  1.8431,  ...,  1.8431,  1.8431,  1.8431],\n",
       "           [ 1.8431,  1.8431,  1.8431,  ...,  1.8431,  1.8431,  1.8431],\n",
       "           [ 1.8431,  1.8138,  1.8138,  ...,  1.8138,  1.8138,  1.8431]],\n",
       " \n",
       "          [[ 2.0015,  1.9709,  1.9709,  ...,  1.9709,  1.9709,  2.0015],\n",
       "           [ 2.0015,  2.0015,  2.0015,  ...,  2.0015,  2.0015,  2.0015],\n",
       "           [ 2.0015,  2.0015,  2.0015,  ...,  2.0015,  2.0015,  2.0015],\n",
       "           ...,\n",
       "           [ 2.0015,  2.0015,  2.0015,  ...,  2.0015,  2.0015,  2.0015],\n",
       "           [ 2.0015,  2.0015,  2.0015,  ...,  2.0015,  2.0015,  2.0015],\n",
       "           [ 2.0015,  1.9709,  1.9709,  ...,  1.9709,  1.9709,  2.0015]],\n",
       " \n",
       "          [[ 2.0256,  1.9972,  1.9972,  ...,  1.9972,  1.9972,  2.0256],\n",
       "           [ 2.0256,  2.0256,  2.0256,  ...,  2.0256,  2.0256,  2.0256],\n",
       "           [ 2.0256,  2.0256,  2.0256,  ...,  2.0256,  2.0256,  2.0256],\n",
       "           ...,\n",
       "           [ 2.0256,  2.0256,  2.0256,  ...,  2.0256,  2.0256,  2.0256],\n",
       "           [ 2.0256,  2.0256,  2.0256,  ...,  2.0256,  2.0256,  2.0256],\n",
       "           [ 2.0256,  1.9972,  1.9972,  ...,  1.9972,  1.9972,  2.0256]]],\n",
       " \n",
       " \n",
       "         [[[ 1.7698,  1.7405,  1.7258,  ...,  1.7698,  1.7698,  1.7551],\n",
       "           [ 1.7698,  1.7405,  1.7258,  ...,  1.7845,  1.7845,  1.7698],\n",
       "           [ 1.7845,  1.7698,  1.7698,  ...,  1.7698,  1.7698,  1.7698],\n",
       "           ...,\n",
       "           [ 1.3446,  1.3446,  1.4032,  ...,  1.0220,  1.1393,  1.5205],\n",
       "           [ 1.4032,  1.4326,  1.4619,  ...,  1.0953,  1.2126,  1.5352],\n",
       "           [ 1.5205,  1.5352,  1.5499,  ...,  1.3152,  1.3739,  1.5059]],\n",
       " \n",
       "          [[ 1.9251,  1.9098,  1.8945,  ...,  1.9251,  1.9251,  1.9251],\n",
       "           [ 1.9404,  1.9098,  1.8792,  ...,  1.9404,  1.9557,  1.9404],\n",
       "           [ 1.9404,  1.8945,  1.8486,  ...,  1.9098,  1.9098,  1.9098],\n",
       "           ...,\n",
       "           [ 1.3593,  1.2523,  1.2676,  ...,  0.7936,  1.0535,  1.6040],\n",
       "           [ 1.5122,  1.4511,  1.4052,  ...,  0.9312,  1.1758,  1.6498],\n",
       "           [ 1.6651,  1.6498,  1.6193,  ...,  1.2982,  1.4052,  1.6193]],\n",
       " \n",
       "          [[ 1.9261,  1.8551,  1.7983,  ...,  1.8977,  1.8977,  1.8977],\n",
       "           [ 1.8835,  1.7841,  1.7273,  ...,  1.8409,  1.8551,  1.8551],\n",
       "           [ 1.8693,  1.7699,  1.7131,  ...,  1.7841,  1.8125,  1.8409],\n",
       "           ...,\n",
       "           [ 1.1165,  0.9034,  0.9744,  ...,  0.3068,  0.7472,  1.6136],\n",
       "           [ 1.3011,  1.1875,  1.2443,  ...,  0.5483,  0.9602,  1.6420],\n",
       "           [ 1.6136,  1.5852,  1.5994,  ...,  1.1591,  1.3438,  1.6420]]],\n",
       " \n",
       " \n",
       "         ...,\n",
       " \n",
       " \n",
       "         [[[-1.5587, -1.5147, -1.5293,  ..., -1.5440, -1.5587, -1.6320],\n",
       "           [-1.6320, -1.5440, -1.4853,  ..., -1.4853, -1.5440, -1.5733],\n",
       "           [-1.5440, -1.5293, -1.4413,  ..., -1.4707, -1.5000, -1.5000],\n",
       "           ...,\n",
       "           [ 0.4941,  0.5088,  0.7874,  ...,  0.2742,  0.4355,  0.5088],\n",
       "           [ 0.4501,  0.5235,  0.8460,  ...,  0.0249,  0.2155,  0.3768],\n",
       "           [ 0.3182,  0.5088,  0.8607,  ..., -0.0630, -0.1364, -0.1364]],\n",
       " \n",
       "          [[ 0.2431,  0.2737,  0.2737,  ...,  0.2584,  0.2278,  0.1820],\n",
       "           [ 0.2125,  0.2890,  0.3502,  ...,  0.3502,  0.2584,  0.2125],\n",
       "           [ 0.3502,  0.3502,  0.4419,  ...,  0.3807,  0.3043,  0.2431],\n",
       "           ...,\n",
       "           [ 0.9771,  0.9465,  1.2217,  ...,  1.0994,  1.0382,  1.0382],\n",
       "           [ 0.9312,  0.9618,  1.2676,  ...,  0.8394,  0.8547,  0.9006],\n",
       "           [ 0.8394,  0.9312,  1.2370,  ...,  0.7477,  0.7018,  0.6101]],\n",
       " \n",
       "          [[ 0.5341,  0.5625,  0.5625,  ...,  0.5341,  0.5199,  0.4631],\n",
       "           [ 0.5057,  0.5767,  0.6335,  ...,  0.5909,  0.5199,  0.4773],\n",
       "           [ 0.6193,  0.6051,  0.7045,  ...,  0.5767,  0.5199,  0.4773],\n",
       "           ...,\n",
       "           [ 1.1733,  1.1307,  1.3580,  ...,  1.1449,  1.1591,  1.1733],\n",
       "           [ 1.1307,  1.1307,  1.3864,  ...,  0.9176,  1.0170,  1.1023],\n",
       "           [ 1.0028,  1.0739,  1.3295,  ...,  0.8750,  0.9034,  0.8608]]],\n",
       " \n",
       " \n",
       "         [[[ 1.8431,  1.8431,  1.8431,  ...,  1.8431,  1.8431,  1.8431],\n",
       "           [ 1.8431,  1.8138,  1.8284,  ...,  1.8284,  1.8138,  1.8431],\n",
       "           [ 1.8431,  1.8284,  1.8284,  ...,  1.8284,  1.8284,  1.8431],\n",
       "           ...,\n",
       "           [ 1.8431,  1.8284,  1.8284,  ...,  1.8431,  1.8138,  1.8431],\n",
       "           [ 1.8431,  1.8138,  1.8284,  ...,  1.8138,  1.7845,  1.8431],\n",
       "           [ 1.8431,  1.8431,  1.8431,  ...,  1.8431,  1.8431,  1.8431]],\n",
       " \n",
       "          [[ 2.0015,  2.0015,  2.0015,  ...,  2.0015,  2.0015,  2.0015],\n",
       "           [ 2.0015,  1.9709,  1.9709,  ...,  1.9862,  1.9709,  2.0015],\n",
       "           [ 2.0015,  1.9862,  1.9862,  ...,  1.9862,  1.9862,  2.0015],\n",
       "           ...,\n",
       "           [ 2.0015,  1.9862,  1.9862,  ...,  1.9709,  1.9709,  2.0015],\n",
       "           [ 2.0015,  1.9709,  1.9709,  ...,  1.9862,  1.9862,  2.0015],\n",
       "           [ 2.0015,  2.0015,  2.0015,  ...,  2.0015,  2.0015,  2.0015]],\n",
       " \n",
       "          [[ 2.0256,  2.0256,  2.0256,  ...,  2.0256,  2.0256,  2.0256],\n",
       "           [ 2.0256,  1.9972,  2.0114,  ...,  2.0114,  1.9972,  2.0256],\n",
       "           [ 2.0256,  2.0114,  2.0114,  ...,  2.0114,  2.0114,  2.0256],\n",
       "           ...,\n",
       "           [ 2.0256,  2.0114,  2.0114,  ...,  1.9830,  1.9972,  2.0256],\n",
       "           [ 2.0256,  1.9972,  2.0114,  ...,  1.9687,  1.9972,  2.0256],\n",
       "           [ 2.0256,  2.0256,  2.0256,  ...,  2.0256,  2.0256,  2.0256]]],\n",
       " \n",
       " \n",
       "         [[[-0.0484,  0.1569,  0.2449,  ...,  0.3915,  0.4648,  0.5528],\n",
       "           [ 0.4648,  0.4795,  0.3915,  ...,  0.6408,  0.4941,  0.4355],\n",
       "           [-0.0337,  0.2009,  0.4501,  ...,  0.7141,  0.6994,  0.5821],\n",
       "           ...,\n",
       "           [-0.4296,  0.1276,  0.0689,  ..., -0.0044, -0.1364,  0.1862],\n",
       "           [-0.2243, -0.1364,  0.0689,  ..., -0.3416, -0.2830, -0.0924],\n",
       "           [-0.0337,  0.1422,  0.0249,  ..., -0.0630, -0.0924, -0.2830]],\n",
       " \n",
       "          [[ 0.3960,  0.4113,  0.4572,  ...,  1.2370,  1.3746,  1.4511],\n",
       "           [ 0.9771,  0.9006,  0.7936,  ...,  1.3440,  1.2217,  1.1911],\n",
       "           [ 0.7324,  1.0076,  1.2829,  ...,  1.3135,  1.2676,  1.2676],\n",
       "           ...,\n",
       "           [-0.4450,  0.1667, -0.0168,  ...,  0.1208, -0.0474,  0.4572],\n",
       "           [-0.3379, -0.0321,  0.2125,  ..., -0.1239, -0.0780,  0.1972],\n",
       "           [ 0.1361,  0.5795,  0.5948,  ...,  0.3043,  0.2431,  0.0443]],\n",
       " \n",
       "          [[-0.1051,  0.0369,  0.1222,  ...,  0.2926,  0.3778,  0.4915],\n",
       "           [ 0.4915,  0.4915,  0.3778,  ...,  0.4915,  0.3778,  0.3210],\n",
       "           [ 0.0369,  0.3068,  0.5199,  ...,  0.5199,  0.5341,  0.4347],\n",
       "           ...,\n",
       "           [-0.7017, -0.1335, -0.2045,  ..., -0.2330, -0.3324,  0.0511],\n",
       "           [-0.3892, -0.3040, -0.1477,  ..., -0.5455, -0.4602, -0.2187],\n",
       "           [-0.0909, -0.0341, -0.1761,  ..., -0.2756, -0.3040, -0.4460]]]],\n",
       "        device='cuda:0'),\n",
       " tensor([19, 29,  0, 11,  1, 86, 90, 28, 23, 31, 39, 96, 82, 17, 71, 39,  8, 97,\n",
       "         80, 71, 74, 59, 70, 87, 59, 84, 64, 52, 42, 64,  8, 17, 47, 65, 21, 22,\n",
       "         81, 11, 24, 84, 78, 45, 49, 97, 56, 76, 11, 90, 89, 78, 73, 14, 87,  9,\n",
       "         71,  6, 47, 20, 98, 47, 36, 55, 72, 43, 51, 35, 83, 33, 27, 53, 92, 50,\n",
       "         15, 89, 36, 18, 89, 46, 33, 42, 39, 64, 75, 38, 23, 42, 66, 77, 49, 18,\n",
       "         46, 15, 35, 69, 95, 83, 75, 99, 73, 93, 55, 39,  4, 97, 61, 93, 51, 69,\n",
       "         56, 84, 59, 64, 94,  4, 11, 33, 68, 38, 20, 33, 34, 32, 46, 53, 88, 67,\n",
       "         70, 64], device='cuda:0')]"
      ]
     },
     "execution_count": 11,
     "metadata": {},
     "output_type": "execute_result"
    }
   ],
   "source": [
    "b = next(iter(dataloader))\n",
    "b"
   ]
  },
  {
   "cell_type": "code",
   "execution_count": 13,
   "id": "460b6d04",
   "metadata": {},
   "outputs": [],
   "source": [
    "l = ext_nn.MaskLayer(input_shape).cuda()"
   ]
  },
  {
   "cell_type": "code",
   "execution_count": 16,
   "id": "1f4a47f2",
   "metadata": {},
   "outputs": [
    {
     "data": {
      "text/plain": [
       "torch.Size([128, 3, 32, 32])"
      ]
     },
     "execution_count": 16,
     "metadata": {},
     "output_type": "execute_result"
    }
   ],
   "source": [
    "b[0].shape"
   ]
  },
  {
   "cell_type": "code",
   "execution_count": 18,
   "id": "153745f6",
   "metadata": {},
   "outputs": [
    {
     "data": {
      "text/plain": [
       "tensor(0., device='cuda:0', grad_fn=<MeanBackward0>)"
      ]
     },
     "execution_count": 18,
     "metadata": {},
     "output_type": "execute_result"
    }
   ],
   "source": [
    "l(b[0]).mean()"
   ]
  },
  {
   "cell_type": "code",
   "execution_count": null,
   "id": "4c83f494",
   "metadata": {},
   "outputs": [],
   "source": []
  }
 ],
 "metadata": {
  "kernelspec": {
   "display_name": "Python 3 (ipykernel)",
   "language": "python",
   "name": "python3"
  },
  "language_info": {
   "codemirror_mode": {
    "name": "ipython",
    "version": 3
   },
   "file_extension": ".py",
   "mimetype": "text/x-python",
   "name": "python",
   "nbconvert_exporter": "python",
   "pygments_lexer": "ipython3",
   "version": "3.9.12"
  }
 },
 "nbformat": 4,
 "nbformat_minor": 5
}
