{
 "cells": [
  {
   "cell_type": "code",
   "execution_count": 1,
   "id": "493c2a37",
   "metadata": {},
   "outputs": [],
   "source": [
    "import numpy as np"
   ]
  },
  {
   "cell_type": "code",
   "execution_count": 108,
   "id": "d921e230",
   "metadata": {},
   "outputs": [],
   "source": [
    "\n",
    "def make_matrix(i, size):\n",
    "    pix = np.zeros((size, size))\n",
    "    for row in range(0, size):\n",
    "        for col in range(0, size):\n",
    "            value = bool((i >> (row * size)) & (1 << col))\n",
    "            pix[row, col] = value * 255\n",
    "    return pix\n",
    "\n",
    "\n",
    "def show_matrix(value, size):\n",
    "    print(f'{value} {value:016b}')\n",
    "    print(make_matrix(value, size))\n",
    "\n",
    "def make_upscaling_pat(size=4):\n",
    "    options = {}\n",
    "    posibilities = 2 ** (size * size)\n",
    "    for i in range(0, posibilities):\n",
    "        pix = make_matrix(i, size)\n",
    "        options[i] = (f'{i:016b}', pix)\n",
    "        \n",
    "    return options\n"
   ]
  },
  {
   "cell_type": "code",
   "execution_count": 112,
   "id": "813780de",
   "metadata": {},
   "outputs": [
    {
     "data": {
      "text/plain": [
       "('1111111111111111',\n",
       " array([[255., 255., 255., 255.],\n",
       "        [255., 255., 255., 255.],\n",
       "        [255., 255., 255., 255.],\n",
       "        [255., 255., 255., 255.]]))"
      ]
     },
     "execution_count": 112,
     "metadata": {},
     "output_type": "execute_result"
    }
   ],
   "source": [
    "make_upscaling_pat(4)[65535]"
   ]
  },
  {
   "cell_type": "code",
   "execution_count": 111,
   "id": "33a0b09f",
   "metadata": {},
   "outputs": [
    {
     "name": "stdout",
     "output_type": "stream",
     "text": [
      "512\n"
     ]
    },
    {
     "data": {
      "text/plain": [
       "('0000000111111111',\n",
       " array([[255., 255., 255.],\n",
       "        [255., 255., 255.],\n",
       "        [255., 255., 255.]]))"
      ]
     },
     "execution_count": 111,
     "metadata": {},
     "output_type": "execute_result"
    }
   ],
   "source": [
    "a = make_upscaling_pat(3)\n",
    "a[511]"
   ]
  },
  {
   "cell_type": "code",
   "execution_count": 101,
   "id": "073e59ae",
   "metadata": {},
   "outputs": [
    {
     "data": {
      "text/plain": [
       "('0000000011111111',\n",
       " array([[255., 255.],\n",
       "        [255., 255.]]))"
      ]
     },
     "execution_count": 101,
     "metadata": {},
     "output_type": "execute_result"
    }
   ],
   "source": [
    "make_upscaling_pat(2)[255]"
   ]
  },
  {
   "cell_type": "code",
   "execution_count": 124,
   "id": "e05d444c",
   "metadata": {},
   "outputs": [
    {
     "name": "stdout",
     "output_type": "stream",
     "text": [
      "[[  0.   0.]\n",
      " [255.   0.]]\n"
     ]
    },
    {
     "data": {
      "text/plain": [
       "array([[  0.,   0.,   0.,   0.],\n",
       "       [  0.,   0.,   0.,   0.],\n",
       "       [  0.,   0.,   0.,   0.],\n",
       "       [  0., 255., 510., 255.]])"
      ]
     },
     "execution_count": 124,
     "metadata": {},
     "output_type": "execute_result"
    }
   ],
   "source": [
    "import scipy\n",
    "\n",
    "def expand(original, mid=128, high=255):\n",
    "    w, h = original.shape\n",
    "    pix = np.zeros((w * 2, w * 2))\n",
    "    kernel = np.ones((3, 3))\n",
    "    \n",
    "    for r in range(w):\n",
    "        for c in range(h):\n",
    "            v = original[r, c]\n",
    "            \n",
    "            pix[r * 2 + 1, c * 2 + 1] = v\n",
    "            pix = scipy.signal.convolve2d(pix, kernel, mode='same')\n",
    "        \n",
    "            # pix[r * 2 + 0, c * 2 + 0] = v\n",
    "            # pix[r * 2 + 0, c * 2 + 1] = v\n",
    "            # pix[r * 2 + 1, c * 2 + 0] = v\n",
    "            # \n",
    "    \n",
    "    print(original)\n",
    "    return pix\n",
    "\n",
    "expand(make_upscaling_pat(2)[4][1])"
   ]
  },
  {
   "cell_type": "code",
   "execution_count": 90,
   "id": "6b5e8655",
   "metadata": {},
   "outputs": [
    {
     "name": "stdout",
     "output_type": "stream",
     "text": [
      "65536\n"
     ]
    }
   ],
   "source": [
    "print(2 ** 16)"
   ]
  },
  {
   "cell_type": "code",
   "execution_count": 92,
   "id": "8f0555fc",
   "metadata": {},
   "outputs": [
    {
     "name": "stdout",
     "output_type": "stream",
     "text": [
      "65535 1111111111111111\n",
      "[[1. 1. 1. 1.]\n",
      " [1. 1. 1. 1.]\n",
      " [1. 1. 1. 1.]\n",
      " [1. 1. 1. 1.]]\n"
     ]
    }
   ],
   "source": [
    "show_matrix(65535)"
   ]
  },
  {
   "cell_type": "code",
   "execution_count": 25,
   "id": "8f78cbea",
   "metadata": {},
   "outputs": [
    {
     "name": "stdout",
     "output_type": "stream",
     "text": [
      "256\n"
     ]
    }
   ],
   "source": [
    "print(len(options))"
   ]
  },
  {
   "cell_type": "code",
   "execution_count": 88,
   "id": "e3fc3b5d",
   "metadata": {},
   "outputs": [
    {
     "name": "stdout",
     "output_type": "stream",
     "text": [
      "0001\n",
      "0010\n",
      "0100\n",
      "1000\n"
     ]
    }
   ],
   "source": [
    "for i in range(4):\n",
    "    print(f'{(1 << i):04b}')"
   ]
  },
  {
   "cell_type": "code",
   "execution_count": 28,
   "id": "ccf4626f",
   "metadata": {},
   "outputs": [
    {
     "name": "stdout",
     "output_type": "stream",
     "text": [
      "0001\n"
     ]
    }
   ],
   "source": [
    "i = 0b10000\n",
    "print(f'{i >> 4:04b}')"
   ]
  },
  {
   "cell_type": "code",
   "execution_count": null,
   "id": "c11650d1",
   "metadata": {},
   "outputs": [],
   "source": [
    "\n"
   ]
  }
 ],
 "metadata": {
  "kernelspec": {
   "display_name": "Python 3 (ipykernel)",
   "language": "python",
   "name": "python3"
  },
  "language_info": {
   "codemirror_mode": {
    "name": "ipython",
    "version": 3
   },
   "file_extension": ".py",
   "mimetype": "text/x-python",
   "name": "python",
   "nbconvert_exporter": "python",
   "pygments_lexer": "ipython3",
   "version": "3.9.12"
  }
 },
 "nbformat": 4,
 "nbformat_minor": 5
}
