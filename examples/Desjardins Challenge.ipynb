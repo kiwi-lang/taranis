{
 "cells": [
  {
   "cell_type": "code",
   "execution_count": 150,
   "id": "5dbd5dc9",
   "metadata": {},
   "outputs": [
    {
     "name": "stdout",
     "output_type": "stream",
     "text": [
      "Requirement already satisfied: torchmetrics in e:\\anaconda\\lib\\site-packages (1.2.0)\n",
      "Collecting torcheval\n",
      "  Obtaining dependency information for torcheval from https://files.pythonhosted.org/packages/e4/de/e7abc784b00de9d05999657d29187f1f7a3406ed10ecaf164de06482608f/torcheval-0.0.7-py3-none-any.whl.metadata\n",
      "  Downloading torcheval-0.0.7-py3-none-any.whl.metadata (8.6 kB)\n",
      "Requirement already satisfied: numpy>1.20.0 in e:\\anaconda\\lib\\site-packages (from torchmetrics) (1.23.4)\n",
      "Requirement already satisfied: torch>=1.8.1 in e:\\anaconda\\lib\\site-packages (from torchmetrics) (2.0.0+cu118)\n",
      "Requirement already satisfied: lightning-utilities>=0.8.0 in e:\\anaconda\\lib\\site-packages (from torchmetrics) (0.9.0)\n",
      "Requirement already satisfied: typing-extensions in e:\\anaconda\\lib\\site-packages (from torcheval) (4.7.1)\n",
      "Requirement already satisfied: packaging>=17.1 in e:\\anaconda\\lib\\site-packages (from lightning-utilities>=0.8.0->torchmetrics) (22.0)\n",
      "Requirement already satisfied: filelock in e:\\anaconda\\lib\\site-packages (from torch>=1.8.1->torchmetrics) (3.8.2)\n",
      "Requirement already satisfied: sympy in e:\\anaconda\\lib\\site-packages (from torch>=1.8.1->torchmetrics) (1.11.1)\n",
      "Requirement already satisfied: networkx in e:\\anaconda\\lib\\site-packages (from torch>=1.8.1->torchmetrics) (3.0)\n",
      "Requirement already satisfied: jinja2 in e:\\anaconda\\lib\\site-packages (from torch>=1.8.1->torchmetrics) (3.1.2)\n",
      "Requirement already satisfied: MarkupSafe>=2.0 in e:\\anaconda\\lib\\site-packages (from jinja2->torch>=1.8.1->torchmetrics) (2.1.1)\n",
      "Requirement already satisfied: mpmath>=0.19 in e:\\anaconda\\lib\\site-packages (from sympy->torch>=1.8.1->torchmetrics) (1.2.1)\n",
      "Downloading torcheval-0.0.7-py3-none-any.whl (179 kB)\n",
      "   -------------------------------------- 179.2/179.2 kB 982.3 kB/s eta 0:00:00\n",
      "Installing collected packages: torcheval\n",
      "Successfully installed torcheval-0.0.7\n"
     ]
    },
    {
     "name": "stderr",
     "output_type": "stream",
     "text": [
      "\n",
      "[notice] A new release of pip is available: 23.1.2 -> 23.2.1\n",
      "[notice] To update, run: python.exe -m pip install --upgrade pip\n"
     ]
    }
   ],
   "source": [
    "!pip install torchmetrics torcheval"
   ]
  },
  {
   "cell_type": "markdown",
   "id": "15c08e48",
   "metadata": {},
   "source": [
    "# Prepare Data"
   ]
  },
  {
   "cell_type": "code",
   "execution_count": 152,
   "id": "829316b8",
   "metadata": {},
   "outputs": [
    {
     "data": {
      "text/html": [
       "<div>\n",
       "<style scoped>\n",
       "    .dataframe tbody tr th:only-of-type {\n",
       "        vertical-align: middle;\n",
       "    }\n",
       "\n",
       "    .dataframe tbody tr th {\n",
       "        vertical-align: top;\n",
       "    }\n",
       "\n",
       "    .dataframe thead th {\n",
       "        text-align: right;\n",
       "    }\n",
       "</style>\n",
       "<table border=\"1\" class=\"dataframe\">\n",
       "  <thead>\n",
       "    <tr style=\"text-align: right;\">\n",
       "      <th></th>\n",
       "      <th>LIMIT_BAL</th>\n",
       "      <th>AGE</th>\n",
       "      <th>BILL_AMT1</th>\n",
       "      <th>BILL_AMT2</th>\n",
       "      <th>BILL_AMT3</th>\n",
       "      <th>BILL_AMT4</th>\n",
       "      <th>BILL_AMT5</th>\n",
       "      <th>BILL_AMT6</th>\n",
       "      <th>PAY_AMT1</th>\n",
       "      <th>PAY_AMT2</th>\n",
       "      <th>...</th>\n",
       "      <th>PAY_6_-2</th>\n",
       "      <th>PAY_6_-1</th>\n",
       "      <th>PAY_6_0</th>\n",
       "      <th>PAY_6_2</th>\n",
       "      <th>PAY_6_3</th>\n",
       "      <th>PAY_6_4</th>\n",
       "      <th>PAY_6_5</th>\n",
       "      <th>PAY_6_6</th>\n",
       "      <th>PAY_6_7</th>\n",
       "      <th>PAY_6_8</th>\n",
       "    </tr>\n",
       "  </thead>\n",
       "  <tbody>\n",
       "    <tr>\n",
       "      <th>0</th>\n",
       "      <td>0.558907</td>\n",
       "      <td>1.140680</td>\n",
       "      <td>-0.596802</td>\n",
       "      <td>-0.679743</td>\n",
       "      <td>-0.671627</td>\n",
       "      <td>-0.491809</td>\n",
       "      <td>-0.508263</td>\n",
       "      <td>-0.708406</td>\n",
       "      <td>-0.293400</td>\n",
       "      <td>-0.238023</td>\n",
       "      <td>...</td>\n",
       "      <td>1</td>\n",
       "      <td>0</td>\n",
       "      <td>0</td>\n",
       "      <td>0</td>\n",
       "      <td>0</td>\n",
       "      <td>0</td>\n",
       "      <td>0</td>\n",
       "      <td>0</td>\n",
       "      <td>0</td>\n",
       "      <td>0</td>\n",
       "    </tr>\n",
       "    <tr>\n",
       "      <th>1</th>\n",
       "      <td>-0.674276</td>\n",
       "      <td>-1.354506</td>\n",
       "      <td>-0.681341</td>\n",
       "      <td>-0.688272</td>\n",
       "      <td>-0.542568</td>\n",
       "      <td>-0.670554</td>\n",
       "      <td>-0.664177</td>\n",
       "      <td>-0.657107</td>\n",
       "      <td>-0.341942</td>\n",
       "      <td>0.150424</td>\n",
       "      <td>...</td>\n",
       "      <td>1</td>\n",
       "      <td>0</td>\n",
       "      <td>0</td>\n",
       "      <td>0</td>\n",
       "      <td>0</td>\n",
       "      <td>0</td>\n",
       "      <td>0</td>\n",
       "      <td>0</td>\n",
       "      <td>0</td>\n",
       "      <td>0</td>\n",
       "    </tr>\n",
       "    <tr>\n",
       "      <th>2</th>\n",
       "      <td>-1.059646</td>\n",
       "      <td>1.140680</td>\n",
       "      <td>-0.331139</td>\n",
       "      <td>-0.335355</td>\n",
       "      <td>-0.304365</td>\n",
       "      <td>-0.276208</td>\n",
       "      <td>-0.252079</td>\n",
       "      <td>-0.234358</td>\n",
       "      <td>-0.341942</td>\n",
       "      <td>-0.178693</td>\n",
       "      <td>...</td>\n",
       "      <td>0</td>\n",
       "      <td>0</td>\n",
       "      <td>1</td>\n",
       "      <td>0</td>\n",
       "      <td>0</td>\n",
       "      <td>0</td>\n",
       "      <td>0</td>\n",
       "      <td>0</td>\n",
       "      <td>0</td>\n",
       "      <td>0</td>\n",
       "    </tr>\n",
       "    <tr>\n",
       "      <th>3</th>\n",
       "      <td>0.327685</td>\n",
       "      <td>-0.812074</td>\n",
       "      <td>1.857396</td>\n",
       "      <td>2.029488</td>\n",
       "      <td>2.025832</td>\n",
       "      <td>1.925627</td>\n",
       "      <td>2.148140</td>\n",
       "      <td>2.274679</td>\n",
       "      <td>0.171250</td>\n",
       "      <td>0.116266</td>\n",
       "      <td>...</td>\n",
       "      <td>0</td>\n",
       "      <td>0</td>\n",
       "      <td>1</td>\n",
       "      <td>0</td>\n",
       "      <td>0</td>\n",
       "      <td>0</td>\n",
       "      <td>0</td>\n",
       "      <td>0</td>\n",
       "      <td>0</td>\n",
       "      <td>0</td>\n",
       "    </tr>\n",
       "    <tr>\n",
       "      <th>4</th>\n",
       "      <td>0.481833</td>\n",
       "      <td>0.055816</td>\n",
       "      <td>-0.683039</td>\n",
       "      <td>-0.687021</td>\n",
       "      <td>-0.673862</td>\n",
       "      <td>-0.634771</td>\n",
       "      <td>-0.658420</td>\n",
       "      <td>-0.647989</td>\n",
       "      <td>-0.324916</td>\n",
       "      <td>-0.244750</td>\n",
       "      <td>...</td>\n",
       "      <td>1</td>\n",
       "      <td>0</td>\n",
       "      <td>0</td>\n",
       "      <td>0</td>\n",
       "      <td>0</td>\n",
       "      <td>0</td>\n",
       "      <td>0</td>\n",
       "      <td>0</td>\n",
       "      <td>0</td>\n",
       "      <td>0</td>\n",
       "    </tr>\n",
       "    <tr>\n",
       "      <th>...</th>\n",
       "      <td>...</td>\n",
       "      <td>...</td>\n",
       "      <td>...</td>\n",
       "      <td>...</td>\n",
       "      <td>...</td>\n",
       "      <td>...</td>\n",
       "      <td>...</td>\n",
       "      <td>...</td>\n",
       "      <td>...</td>\n",
       "      <td>...</td>\n",
       "      <td>...</td>\n",
       "      <td>...</td>\n",
       "      <td>...</td>\n",
       "      <td>...</td>\n",
       "      <td>...</td>\n",
       "      <td>...</td>\n",
       "      <td>...</td>\n",
       "      <td>...</td>\n",
       "      <td>...</td>\n",
       "      <td>...</td>\n",
       "      <td>...</td>\n",
       "    </tr>\n",
       "    <tr>\n",
       "      <th>29995</th>\n",
       "      <td>-0.443054</td>\n",
       "      <td>-1.137534</td>\n",
       "      <td>0.797188</td>\n",
       "      <td>0.879916</td>\n",
       "      <td>0.882414</td>\n",
       "      <td>0.505894</td>\n",
       "      <td>0.627977</td>\n",
       "      <td>0.711403</td>\n",
       "      <td>0.020312</td>\n",
       "      <td>-0.066889</td>\n",
       "      <td>...</td>\n",
       "      <td>0</td>\n",
       "      <td>0</td>\n",
       "      <td>1</td>\n",
       "      <td>0</td>\n",
       "      <td>0</td>\n",
       "      <td>0</td>\n",
       "      <td>0</td>\n",
       "      <td>0</td>\n",
       "      <td>0</td>\n",
       "      <td>0</td>\n",
       "    </tr>\n",
       "    <tr>\n",
       "      <th>29996</th>\n",
       "      <td>-0.905498</td>\n",
       "      <td>-0.812074</td>\n",
       "      <td>-0.313254</td>\n",
       "      <td>-0.291827</td>\n",
       "      <td>-0.280096</td>\n",
       "      <td>-0.239197</td>\n",
       "      <td>-0.193637</td>\n",
       "      <td>-0.162372</td>\n",
       "      <td>-0.255605</td>\n",
       "      <td>-0.180168</td>\n",
       "      <td>...</td>\n",
       "      <td>0</td>\n",
       "      <td>0</td>\n",
       "      <td>1</td>\n",
       "      <td>0</td>\n",
       "      <td>0</td>\n",
       "      <td>0</td>\n",
       "      <td>0</td>\n",
       "      <td>0</td>\n",
       "      <td>0</td>\n",
       "      <td>0</td>\n",
       "    </tr>\n",
       "    <tr>\n",
       "      <th>29997</th>\n",
       "      <td>-0.674276</td>\n",
       "      <td>-1.029047</td>\n",
       "      <td>0.277555</td>\n",
       "      <td>0.291797</td>\n",
       "      <td>0.400037</td>\n",
       "      <td>0.504712</td>\n",
       "      <td>0.560654</td>\n",
       "      <td>0.692932</td>\n",
       "      <td>-0.341942</td>\n",
       "      <td>0.003422</td>\n",
       "      <td>...</td>\n",
       "      <td>0</td>\n",
       "      <td>0</td>\n",
       "      <td>0</td>\n",
       "      <td>1</td>\n",
       "      <td>0</td>\n",
       "      <td>0</td>\n",
       "      <td>0</td>\n",
       "      <td>0</td>\n",
       "      <td>0</td>\n",
       "      <td>0</td>\n",
       "    </tr>\n",
       "    <tr>\n",
       "      <th>29998</th>\n",
       "      <td>1.483795</td>\n",
       "      <td>-0.703588</td>\n",
       "      <td>0.305966</td>\n",
       "      <td>0.166201</td>\n",
       "      <td>0.039912</td>\n",
       "      <td>-0.472814</td>\n",
       "      <td>-0.588251</td>\n",
       "      <td>-0.487829</td>\n",
       "      <td>-0.032759</td>\n",
       "      <td>0.184841</td>\n",
       "      <td>...</td>\n",
       "      <td>0</td>\n",
       "      <td>1</td>\n",
       "      <td>0</td>\n",
       "      <td>0</td>\n",
       "      <td>0</td>\n",
       "      <td>0</td>\n",
       "      <td>0</td>\n",
       "      <td>0</td>\n",
       "      <td>0</td>\n",
       "      <td>0</td>\n",
       "    </tr>\n",
       "    <tr>\n",
       "      <th>29999</th>\n",
       "      <td>1.175499</td>\n",
       "      <td>-0.812074</td>\n",
       "      <td>3.658763</td>\n",
       "      <td>3.707620</td>\n",
       "      <td>3.547918</td>\n",
       "      <td>3.518044</td>\n",
       "      <td>3.417677</td>\n",
       "      <td>3.360920</td>\n",
       "      <td>0.412752</td>\n",
       "      <td>-0.256035</td>\n",
       "      <td>...</td>\n",
       "      <td>0</td>\n",
       "      <td>0</td>\n",
       "      <td>1</td>\n",
       "      <td>0</td>\n",
       "      <td>0</td>\n",
       "      <td>0</td>\n",
       "      <td>0</td>\n",
       "      <td>0</td>\n",
       "      <td>0</td>\n",
       "      <td>0</td>\n",
       "    </tr>\n",
       "  </tbody>\n",
       "</table>\n",
       "<p>30000 rows × 90 columns</p>\n",
       "</div>"
      ],
      "text/plain": [
       "       LIMIT_BAL       AGE  BILL_AMT1  BILL_AMT2  BILL_AMT3  BILL_AMT4  \\\n",
       "0       0.558907  1.140680  -0.596802  -0.679743  -0.671627  -0.491809   \n",
       "1      -0.674276 -1.354506  -0.681341  -0.688272  -0.542568  -0.670554   \n",
       "2      -1.059646  1.140680  -0.331139  -0.335355  -0.304365  -0.276208   \n",
       "3       0.327685 -0.812074   1.857396   2.029488   2.025832   1.925627   \n",
       "4       0.481833  0.055816  -0.683039  -0.687021  -0.673862  -0.634771   \n",
       "...          ...       ...        ...        ...        ...        ...   \n",
       "29995  -0.443054 -1.137534   0.797188   0.879916   0.882414   0.505894   \n",
       "29996  -0.905498 -0.812074  -0.313254  -0.291827  -0.280096  -0.239197   \n",
       "29997  -0.674276 -1.029047   0.277555   0.291797   0.400037   0.504712   \n",
       "29998   1.483795 -0.703588   0.305966   0.166201   0.039912  -0.472814   \n",
       "29999   1.175499 -0.812074   3.658763   3.707620   3.547918   3.518044   \n",
       "\n",
       "       BILL_AMT5  BILL_AMT6  PAY_AMT1  PAY_AMT2  ...  PAY_6_-2  PAY_6_-1  \\\n",
       "0      -0.508263  -0.708406 -0.293400 -0.238023  ...         1         0   \n",
       "1      -0.664177  -0.657107 -0.341942  0.150424  ...         1         0   \n",
       "2      -0.252079  -0.234358 -0.341942 -0.178693  ...         0         0   \n",
       "3       2.148140   2.274679  0.171250  0.116266  ...         0         0   \n",
       "4      -0.658420  -0.647989 -0.324916 -0.244750  ...         1         0   \n",
       "...          ...        ...       ...       ...  ...       ...       ...   \n",
       "29995   0.627977   0.711403  0.020312 -0.066889  ...         0         0   \n",
       "29996  -0.193637  -0.162372 -0.255605 -0.180168  ...         0         0   \n",
       "29997   0.560654   0.692932 -0.341942  0.003422  ...         0         0   \n",
       "29998  -0.588251  -0.487829 -0.032759  0.184841  ...         0         1   \n",
       "29999   3.417677   3.360920  0.412752 -0.256035  ...         0         0   \n",
       "\n",
       "       PAY_6_0  PAY_6_2  PAY_6_3  PAY_6_4  PAY_6_5  PAY_6_6  PAY_6_7  PAY_6_8  \n",
       "0            0        0        0        0        0        0        0        0  \n",
       "1            0        0        0        0        0        0        0        0  \n",
       "2            1        0        0        0        0        0        0        0  \n",
       "3            1        0        0        0        0        0        0        0  \n",
       "4            0        0        0        0        0        0        0        0  \n",
       "...        ...      ...      ...      ...      ...      ...      ...      ...  \n",
       "29995        1        0        0        0        0        0        0        0  \n",
       "29996        1        0        0        0        0        0        0        0  \n",
       "29997        0        1        0        0        0        0        0        0  \n",
       "29998        0        0        0        0        0        0        0        0  \n",
       "29999        1        0        0        0        0        0        0        0  \n",
       "\n",
       "[30000 rows x 90 columns]"
      ]
     },
     "execution_count": 152,
     "metadata": {},
     "output_type": "execute_result"
    }
   ],
   "source": [
    "import numpy as np\n",
    "import pandas as pd\n",
    "from sklearn.preprocessing import scale\n",
    "\n",
    "\n",
    "import torch\n",
    "import torch.nn as nn\n",
    "import torch.optim as optim\n",
    "from torcheval.metrics.functional import binary_f1_score\n",
    "from torch.utils.data import DataLoader, TensorDataset, WeightedRandomSampler\n",
    "\n",
    "\n",
    "\n",
    "categories = [\n",
    "    \"SEX\",\n",
    "    \"EDUCATION\",\n",
    "    \"MARRIAGE\",\n",
    "    \"PAY_0\",\n",
    "    \"PAY_2\",\n",
    "    \"PAY_3\",\n",
    "    \"PAY_4\",\n",
    "    \"PAY_5\",\n",
    "    \"PAY_6\"\n",
    "]\n",
    "\n",
    "standardize = [\n",
    "    'LIMIT_BAL',\n",
    "    'AGE',\n",
    "    'BILL_AMT1',\n",
    "    'BILL_AMT2',\n",
    "    'BILL_AMT3',\n",
    "    'BILL_AMT4',\n",
    "    'BILL_AMT5',\n",
    "    'BILL_AMT6',\n",
    "    'PAY_AMT1',\n",
    "    'PAY_AMT2',\n",
    "    'PAY_AMT3',\n",
    "    'PAY_AMT4',\n",
    "    'PAY_AMT5',\n",
    "    'PAY_AMT6',\n",
    "]\n",
    "\n",
    "def read_data():\n",
    "    df = pd.read_csv(\"../data/data_participant.csv\")\n",
    "    \n",
    "    df = df.drop('ID', axis=1)\n",
    "    \n",
    "    df = pd.get_dummies(df, columns=categories, drop_first=False)\n",
    "    \n",
    "    df[standardize] = scale(df[standardize]) \n",
    "    \n",
    "    return df\n",
    "\n",
    "\n",
    "df = read_data()\n",
    "df"
   ]
  },
  {
   "cell_type": "code",
   "execution_count": 15,
   "id": "13613b1b",
   "metadata": {},
   "outputs": [],
   "source": [
    "\n",
    "\n",
    "OFFICIAL_TEST_SIZE = 6000\n",
    "OFFICIAL_TEST  = df.iloc[-6000:, :]\n",
    "OFFICIAL_TRAIN = df.iloc[:-6000, :]"
   ]
  },
  {
   "cell_type": "code",
   "execution_count": 18,
   "id": "ea04631b",
   "metadata": {},
   "outputs": [
    {
     "data": {
      "text/plain": [
       "0"
      ]
     },
     "execution_count": 18,
     "metadata": {},
     "output_type": "execute_result"
    }
   ],
   "source": [
    "OFFICIAL_TRAIN['default-payment-next-month'].isna().sum()"
   ]
  },
  {
   "cell_type": "code",
   "execution_count": 19,
   "id": "0805acd1",
   "metadata": {},
   "outputs": [
    {
     "data": {
      "text/plain": [
       "6000"
      ]
     },
     "execution_count": 19,
     "metadata": {},
     "output_type": "execute_result"
    }
   ],
   "source": [
    "OFFICIAL_TEST['default-payment-next-month'].isna().sum()"
   ]
  },
  {
   "cell_type": "code",
   "execution_count": 20,
   "id": "2ca31376",
   "metadata": {},
   "outputs": [],
   "source": [
    "train_p = 0.8\n",
    "test_p = 0.2\n",
    "\n",
    "rows, cols = OFFICIAL_TRAIN.shape\n",
    "\n",
    "train_size = int(rows * train_p)\n",
    "test_size = rows - train_size\n",
    "\n",
    "df_train = OFFICIAL_TRAIN.iloc[:train_size, :]\n",
    "df_test =  OFFICIAL_TRAIN.iloc[train_size:, :]"
   ]
  },
  {
   "cell_type": "code",
   "execution_count": 25,
   "id": "cf62abda",
   "metadata": {},
   "outputs": [],
   "source": [
    "cols = list(df_train.columns)\n",
    "label = 'default-payment-next-month'\n",
    "cols.remove(label)\n",
    "features = cols"
   ]
  },
  {
   "cell_type": "code",
   "execution_count": 28,
   "id": "238a2960",
   "metadata": {},
   "outputs": [],
   "source": [
    "x_train = torch.from_numpy(df_train[features].values).float()\n",
    "y_train = torch.from_numpy(df_train[label].values).float()\n",
    "\n",
    "x_test = torch.from_numpy(df_test[features].values).float()\n",
    "y_test = torch.from_numpy(df_test[label].values).float()"
   ]
  },
  {
   "cell_type": "markdown",
   "id": "890509fa",
   "metadata": {},
   "source": [
    "# Train"
   ]
  },
  {
   "cell_type": "code",
   "execution_count": 115,
   "id": "078984a9",
   "metadata": {},
   "outputs": [],
   "source": [
    "from tqdm import tqdm\n",
    "\n",
    "\n",
    "def valid(model, x, y):\n",
    "    loss_fn = nn.BCELoss()  # binary cross entropy\n",
    "    \n",
    "    with torch.no_grad():\n",
    "        prob = model(x).squeeze(dim=1)\n",
    "        \n",
    "        loss = loss_fn(prob, y).item()\n",
    "        \n",
    "        pred = (prob > 0.5).int()\n",
    "        \n",
    "        correct = pred.eq(y.view_as(pred).int()).sum().item()\n",
    "        \n",
    "        acc = correct / x.shape[0]\n",
    "\n",
    "    return loss, acc\n",
    "    \n",
    "\n",
    "def train(model, x, y, epochs=100, batch_size=128, lr=0.01, validation=None):\n",
    "    loss_fn = nn.BCELoss()\n",
    "    optimizer = optim.SGD(model.parameters(), lr=lr)\n",
    "    \n",
    "    dataset = TensorDataset(\n",
    "        x,\n",
    "        y\n",
    "    )\n",
    "    \n",
    "    valid_loss, valid_acc = 0, 0\n",
    "    \n",
    "    true_pct = y_test.sum() / y_test.shape[0]\n",
    "    false_pct = 1  - true_pct\n",
    "    \n",
    "    def weight(yy):\n",
    "        if yy >= 1:\n",
    "            return false_pct\n",
    "    \n",
    "        return true_pct\n",
    "    \n",
    "    sampler = WeightedRandomSampler(\n",
    "        [weight(yy) for yy in y] ,\n",
    "        y.shape[0]\n",
    "    )\n",
    "    \n",
    "    loader = DataLoader(\n",
    "        dataset, \n",
    "        batch_size=batch_size, \n",
    "        sampler=sampler\n",
    "    )\n",
    "    \n",
    "    for epoch in range(epochs):\n",
    "        wloss = 0\n",
    "        wcnt = 0\n",
    "\n",
    "        for xin, yout in loader:\n",
    "\n",
    "            y_pred = model(xin).squeeze(dim=1)\n",
    "            loss = loss_fn(y_pred, yout)\n",
    "\n",
    "            optimizer.zero_grad()\n",
    "            loss.backward()\n",
    "            optimizer.step()\n",
    "\n",
    "            wloss += loss.item()\n",
    "            wcnt += 1\n",
    "\n",
    "        if validation is not None:\n",
    "            valid_loss, valid_acc = valid(model, *validation)\n",
    "            \n",
    "        loss = (wloss / wcnt)\n",
    "        print(f\"\\r{epoch:3d}/{epochs:3d} (loss: {loss:8.4f}) \"\n",
    "              f\"(vloss: {valid_loss:.2f}) (vacc: {valid_acc * 100:.2f}%)\", \n",
    "              end=\"\",\n",
    "         )\n"
   ]
  },
  {
   "cell_type": "code",
   "execution_count": 109,
   "id": "b9625566",
   "metadata": {
    "scrolled": true
   },
   "outputs": [
    {
     "name": "stdout",
     "output_type": "stream",
     "text": [
      " 99/100 (loss:   0.5609) (vloss: 0.59) (vacc: 70.79%)"
     ]
    }
   ],
   "source": [
    "model = nn.Sequential(\n",
    "    nn.Linear(len(features), 1024), \n",
    "    nn.ReLU(), \n",
    "    nn.Linear(1024, 512), \n",
    "    nn.ReLU(), \n",
    "    nn.Linear(512, 1), c\n",
    "    nn.Sigmoid()\n",
    ")\n",
    "\n",
    "\n",
    "valid(model, x_test, y_test)\n",
    "train(model, x_train, y_train, validation=(x_test, y_test))"
   ]
  },
  {
   "cell_type": "code",
   "execution_count": 116,
   "id": "917daca0",
   "metadata": {},
   "outputs": [
    {
     "name": "stdout",
     "output_type": "stream",
     "text": [
      " 99/100 (loss:   0.5328) (vloss: 0.59) (vacc: 70.56%)"
     ]
    }
   ],
   "source": [
    "train(model, x_train, y_train, validation=(x_test, y_test), lr=0.001)"
   ]
  },
  {
   "cell_type": "code",
   "execution_count": 130,
   "id": "0d7f21e4",
   "metadata": {},
   "outputs": [
    {
     "data": {
      "text/plain": [
       "tensor(1691)"
      ]
     },
     "execution_count": 130,
     "metadata": {},
     "output_type": "execute_result"
    }
   ],
   "source": [
    "(model(x_test) > 0.5).int().sum()"
   ]
  },
  {
   "cell_type": "code",
   "execution_count": 131,
   "id": "ddcea088",
   "metadata": {},
   "outputs": [
    {
     "data": {
      "text/plain": [
       "tensor(3109)"
      ]
     },
     "execution_count": 131,
     "metadata": {},
     "output_type": "execute_result"
    }
   ],
   "source": [
    "(model(x_test) < 0.5).int().sum()"
   ]
  },
  {
   "cell_type": "code",
   "execution_count": 132,
   "id": "decfcd06",
   "metadata": {},
   "outputs": [
    {
     "data": {
      "text/plain": [
       "tensor(1172.)"
      ]
     },
     "execution_count": 132,
     "metadata": {},
     "output_type": "execute_result"
    }
   ],
   "source": [
    "y_test.sum()"
   ]
  },
  {
   "cell_type": "code",
   "execution_count": 133,
   "id": "852c32ea",
   "metadata": {},
   "outputs": [
    {
     "data": {
      "text/plain": [
       "4800"
      ]
     },
     "execution_count": 133,
     "metadata": {},
     "output_type": "execute_result"
    }
   ],
   "source": [
    "y_test.shape[0]"
   ]
  },
  {
   "cell_type": "code",
   "execution_count": null,
   "id": "4c9a3c5e",
   "metadata": {},
   "outputs": [],
   "source": []
  },
  {
   "cell_type": "code",
   "execution_count": 118,
   "id": "7d2a3061",
   "metadata": {},
   "outputs": [
    {
     "name": "stderr",
     "output_type": "stream",
     "text": [
      "E:\\Anaconda\\lib\\site-packages\\torchaudio\\backend\\utils.py:74: UserWarning: No audio backend is available.\n",
      "  warnings.warn(\"No audio backend is available.\")\n"
     ]
    }
   ],
   "source": []
  },
  {
   "cell_type": "code",
   "execution_count": 119,
   "id": "41813243",
   "metadata": {},
   "outputs": [],
   "source": [
    "\n"
   ]
  },
  {
   "cell_type": "code",
   "execution_count": null,
   "id": "85a02ddd",
   "metadata": {},
   "outputs": [],
   "source": []
  },
  {
   "cell_type": "code",
   "execution_count": 161,
   "id": "0d92a500",
   "metadata": {},
   "outputs": [
    {
     "name": "stdout",
     "output_type": "stream",
     "text": [
      "binary_f1_score: 50.73\n"
     ]
    },
    {
     "data": {
      "image/png": "[encoded data removed]",
      "text/plain": [
       "<Figure size 640x480 with 1 Axes>"
      ]
     },
     "execution_count": 161,
     "metadata": {},
     "output_type": "execute_result"
    }
   ],
   "source": [
    "def get_roc(tresh=0.5):\n",
    "    import torchmetrics\n",
    "\n",
    "    roc = torchmetrics.classification.BinaryROC()\n",
    "\n",
    "    with torch.no_grad():\n",
    "        prob = model(x_test).squeeze(dim=1)\n",
    "\n",
    "    roc.update(prob, y_test.int())\n",
    "\n",
    "    print(f\"binary_f1_score: {binary_f1_score(prob, y_test.int(), threshold=tresh) * 100:.2f}\")\n",
    "    fig_, ax_ = roc.plot(score=True)\n",
    "    return fig_\n",
    "    \n",
    "    \n",
    "get_roc()"
   ]
  },
  {
   "cell_type": "code",
   "execution_count": null,
   "id": "046d1f66",
   "metadata": {},
   "outputs": [],
   "source": []
  },
  {
   "cell_type": "code",
   "execution_count": 174,
   "id": "70a95410",
   "metadata": {
    "scrolled": true
   },
   "outputs": [],
   "source": [
    "from math import sqrt\n",
    "\n",
    "class Model(nn.Module):\n",
    "    def __init__(self):\n",
    "        super().__init__()\n",
    "        \n",
    "        self.l1 = nn.Sequential(\n",
    "            nn.Linear(len(features), 1024),\n",
    "            nn.LayerNorm(1024)\n",
    "        )\n",
    "        \n",
    "        self.a = nn.Linear(1024, 1024)\n",
    "        self.b = nn.Linear(1024, 1024)\n",
    "        \n",
    "        self.out = nn.Sequential(\n",
    "            nn.ReLU(), \n",
    "            nn.Linear(1024, 512), \n",
    "            nn.ReLU(), \n",
    "            nn.Linear(512, 1),\n",
    "            nn.Sigmoid()\n",
    "        )\n",
    "\n",
    "        \n",
    "    def forward(self, x):\n",
    "        x = self.l1(x)\n",
    "        \n",
    "        xa = self.a(x).unsqueeze(1)\n",
    "        xb = self.b(x).unsqueeze(1)\n",
    "        \n",
    "        weight = xa @ xb.transpose(1, 2) / sqrt(1024)\n",
    "        \n",
    "        x = x.unsqueeze(1)\n",
    "        x = (weight @ x).squeeze(1)\n",
    "        \n",
    "        return self.out(x)\n",
    "        \n",
    "        \n",
    "model = Model()"
   ]
  },
  {
   "cell_type": "code",
   "execution_count": 175,
   "id": "7202870e",
   "metadata": {},
   "outputs": [
    {
     "name": "stdout",
     "output_type": "stream",
     "text": [
      "  9/ 10 (loss:   0.5754) (vloss: 0.61) (vacc: 67.92%)binary_f1_score: 50.00\n"
     ]
    },
    {
     "name": "stderr",
     "output_type": "stream",
     "text": [
      "E:\\Anaconda\\lib\\site-packages\\torchmetrics\\utilities\\plot.py:303: RuntimeWarning: More than 20 figures have been opened. Figures created through the pyplot interface (`matplotlib.pyplot.figure`) are retained until explicitly closed and may consume too much memory. (To control this warning, see the rcParam `figure.max_open_warning`). Consider using `matplotlib.pyplot.close()`.\n",
      "  fig, ax = plt.subplots() if ax is None else (None, ax)\n"
     ]
    },
    {
     "data": {
      "image/png": "[encoded data removed]",
      "text/plain": [
       "<Figure size 640x480 with 1 Axes>"
      ]
     },
     "execution_count": 175,
     "metadata": {},
     "output_type": "execute_result"
    }
   ],
   "source": [
    "        \n",
    "model = Model()\n",
    "train(model, x_train, y_train, epochs=10, validation=(x_test, y_test), lr=0.01)\n",
    "get_roc()"
   ]
  },
  {
   "cell_type": "code",
   "execution_count": null,
   "id": "b5501162",
   "metadata": {},
   "outputs": [
    {
     "name": "stdout",
     "output_type": "stream",
     "text": [
      "\r",
      "  0/ 10 (loss:   0.8460) (vloss: 0.66) (vacc: 65.44%)"
     ]
    }
   ],
   "source": [
    "train(model, x_train, y_train, epochs=10, validation=(x_test, y_test), lr=0.1)\n",
    "get_roc()"
   ]
  },
  {
   "cell_type": "code",
   "execution_count": null,
   "id": "a5f1cf9f",
   "metadata": {},
   "outputs": [],
   "source": []
  }
 ],
 "metadata": {
  "kernelspec": {
   "display_name": "Python 3 (ipykernel)",
   "language": "python",
   "name": "python3"
  },
  "language_info": {
   "codemirror_mode": {
    "name": "ipython",
    "version": 3
   },
   "file_extension": ".py",
   "mimetype": "text/x-python",
   "name": "python",
   "nbconvert_exporter": "python",
   "pygments_lexer": "ipython3",
   "version": "3.9.18"
  }
 },
 "nbformat": 4,
 "nbformat_minor": 5
}
