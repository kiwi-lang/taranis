{
 "cells": [
  {
   "cell_type": "markdown",
   "id": "1ad6b2b6",
   "metadata": {},
   "source": [
    "# Dataset"
   ]
  },
  {
   "cell_type": "code",
   "execution_count": 32,
   "id": "79f20ba2",
   "metadata": {},
   "outputs": [],
   "source": [
    "import datasets\n",
    "from datasets import load_dataset"
   ]
  },
  {
   "cell_type": "code",
   "execution_count": 33,
   "id": "3293fc78",
   "metadata": {},
   "outputs": [],
   "source": [
    "# https://github.com/huggingface/datasets\n",
    "\n",
    "#\n",
    "# Download the dataset\n",
    "#\n",
    "\n",
    "raw_datasets = load_dataset(\n",
    "    \"wikitext\", \n",
    "    \"wikitext-103-v1\"\n",
    ")"
   ]
  },
  {
   "cell_type": "code",
   "execution_count": 34,
   "id": "cec82488",
   "metadata": {},
   "outputs": [
    {
     "name": "stdout",
     "output_type": "stream",
     "text": [
      "{'text': ''}\n",
      "{'text': ' = Valkyria Chronicles III = \\n'}\n",
      "{'text': ''}\n",
      "{'text': ' Senjō no Valkyria 3 : <unk> Chronicles ( Japanese : 戦場のヴァルキュリア3 , lit . Valkyria of the Battlefield 3 ) , commonly referred to as Valkyria Chronicles III outside Japan , is a tactical role @-@ playing video game developed by Sega and Media.Vision for the PlayStation Portable . Released in January 2011 in Japan , it is the third game in the Valkyria series . Employing the same fusion of tactical and real @-@ time gameplay as its predecessors , the story runs parallel to the first game and follows the \" Nameless \" , a penal military unit serving the nation of Gallia during the Second Europan War who perform secret black operations and are pitted against the Imperial unit \" <unk> Raven \" . \\n'}\n",
      "{'text': \" The game began development in 2010 , carrying over a large portion of the work done on Valkyria Chronicles II . While it retained the standard features of the series , it also underwent multiple adjustments , such as making the game more forgiving for series newcomers . Character designer <unk> Honjou and composer Hitoshi Sakimoto both returned from previous entries , along with Valkyria Chronicles II director Takeshi Ozawa . A large team of writers handled the script . The game 's opening theme was sung by May 'n . \\n\"}\n",
      "{'text': \" It met with positive sales in Japan , and was praised by both Japanese and western critics . After release , it received downloadable content , along with an expanded edition in November of that year . It was also adapted into manga and an original video animation series . Due to low sales of Valkyria Chronicles II , Valkyria Chronicles III was not localized , but a fan translation compatible with the game 's expanded edition was released in 2014 . Media.Vision would return to the franchise with the development of Valkyria : Azure Revolution for the PlayStation 4 . \\n\"}\n",
      "{'text': ''}\n",
      "{'text': ' = = Gameplay = = \\n'}\n",
      "{'text': ''}\n",
      "{'text': \" As with previous <unk> Chronicles games , Valkyria Chronicles III is a tactical role @-@ playing game where players take control of a military unit and take part in missions against enemy forces . Stories are told through comic book @-@ like panels with animated character portraits , with characters speaking partially through voiced speech bubbles and partially through unvoiced text . The player progresses through a series of linear missions , gradually unlocked as maps that can be freely scanned through and replayed as they are unlocked . The route to each story location on the map varies depending on an individual player 's approach : when one option is selected , the other is sealed off to the player . Outside missions , the player characters rest in a camp , where units can be customized and character growth occurs . Alongside the main story missions are character @-@ specific sub missions relating to different squad members . After the game 's completion , additional episodes are unlocked , some of them having a higher difficulty than those found in the rest of the game . There are also love simulation elements related to the game 's two main heroines , although they take a very minor role . \\n\"}\n"
     ]
    }
   ],
   "source": [
    "# https://en.wikipedia.org/wiki/Valkyria_Chronicles_III\n",
    "\n",
    "for i in range(10):\n",
    "    print(raw_datasets['train'][i])"
   ]
  },
  {
   "cell_type": "markdown",
   "id": "3bf4c61e",
   "metadata": {},
   "source": [
    "## Tokenize the dataset"
   ]
  },
  {
   "cell_type": "code",
   "execution_count": 35,
   "id": "e0243f81",
   "metadata": {},
   "outputs": [],
   "source": [
    "from transformers import AutoTokenizer\n",
    "\n",
    "# Download tokenizer model\n",
    "tokenizer = AutoTokenizer.from_pretrained('facebook/opt-125m', use_fast=True)"
   ]
  },
  {
   "cell_type": "code",
   "execution_count": 36,
   "id": "55b2f719",
   "metadata": {},
   "outputs": [],
   "source": [
    "class Wrapper:\n",
    "    def __init__(self, tok):\n",
    "        self.tok = tok\n",
    "        \n",
    "    def __call__(self, examples):\n",
    "        return self.tok(examples['text'])\n",
    "\n",
    "\n",
    "tokenized_datasets = raw_datasets.map(\n",
    "    Wrapper(tokenizer),\n",
    "    batched=True,\n",
    "    num_proc=32,\n",
    "    remove_columns=raw_datasets[\"train\"].column_names,\n",
    "    load_from_cache_file=True,\n",
    "    desc=\"Running tokenizer on dataset\",\n",
    ")"
   ]
  },
  {
   "cell_type": "code",
   "execution_count": 37,
   "id": "005f0d51",
   "metadata": {},
   "outputs": [
    {
     "name": "stdout",
     "output_type": "stream",
     "text": [
      "{'input_ids': [2], 'attention_mask': [1]}\n",
      "{'input_ids': [2, 5457, 468, 44068, 6374, 41674, 6395, 5457, 1437, 50118], 'attention_mask': [1, 1, 1, 1, 1, 1, 1, 1, 1, 1]}\n",
      "{'input_ids': [2], 'attention_mask': [1]}\n",
      "{'input_ids': [2, 2211, 267, 38183, 117, 468, 44068, 6374, 155, 4832, 28696, 6435, 15698, 41674, 36, 2898, 4832, 47416, 23133, 18164, 42393, 21402, 20024, 48018, 50033, 49080, 49587, 49432, 48947, 49017, 246, 2156, 6474, 479, 468, 44068, 6374, 9, 5, 36954, 155, 4839, 2156, 10266, 4997, 7, 25, 468, 44068, 6374, 41674, 6395, 751, 1429, 2156, 16, 10, 15714, 774, 787, 12, 1039, 816, 569, 177, 2226, 30, 43561, 8, 2454, 4, 36753, 13, 5, 15592, 39435, 479, 30939, 11, 644, 1466, 11, 1429, 2156, 24, 16, 5, 371, 177, 11, 5, 468, 44068, 6374, 651, 479, 23564, 154, 5, 276, 24904, 9, 15714, 8, 588, 787, 12, 1039, 86, 23841, 25, 63, 20193, 2156, 5, 527, 1237, 12980, 7, 5, 78, 177, 8, 3905, 5, 22, 8603, 13802, 22, 2156, 10, 14914, 831, 1933, 2754, 5, 1226, 9, 7155, 493, 148, 5, 4665, 5122, 12560, 1771, 54, 3008, 3556, 909, 1414, 8, 32, 30259, 136, 5, 16659, 1933, 22, 28696, 6435, 15698, 22546, 22, 479, 1437, 50118], 'attention_mask': [1, 1, 1, 1, 1, 1, 1, 1, 1, 1, 1, 1, 1, 1, 1, 1, 1, 1, 1, 1, 1, 1, 1, 1, 1, 1, 1, 1, 1, 1, 1, 1, 1, 1, 1, 1, 1, 1, 1, 1, 1, 1, 1, 1, 1, 1, 1, 1, 1, 1, 1, 1, 1, 1, 1, 1, 1, 1, 1, 1, 1, 1, 1, 1, 1, 1, 1, 1, 1, 1, 1, 1, 1, 1, 1, 1, 1, 1, 1, 1, 1, 1, 1, 1, 1, 1, 1, 1, 1, 1, 1, 1, 1, 1, 1, 1, 1, 1, 1, 1, 1, 1, 1, 1, 1, 1, 1, 1, 1, 1, 1, 1, 1, 1, 1, 1, 1, 1, 1, 1, 1, 1, 1, 1, 1, 1, 1, 1, 1, 1, 1, 1, 1, 1, 1, 1, 1, 1, 1, 1, 1, 1, 1, 1, 1, 1, 1, 1, 1, 1, 1, 1, 1, 1, 1, 1, 1, 1, 1, 1, 1, 1, 1, 1, 1, 1, 1]}\n",
      "{'input_ids': [2, 20, 177, 880, 709, 11, 1824, 2156, 3406, 81, 10, 739, 4745, 9, 5, 173, 626, 15, 468, 44068, 6374, 41674, 3082, 479, 616, 24, 12544, 5, 2526, 1575, 9, 5, 651, 2156, 24, 67, 12796, 1533, 11431, 2156, 215, 25, 442, 5, 177, 55, 36341, 13, 651, 19298, 479, 35177, 6004, 28696, 6435, 15698, 8768, 267, 1438, 8, 17964, 15225, 23552, 17040, 36066, 258, 1835, 31, 986, 11410, 2156, 552, 19, 468, 44068, 6374, 41674, 3082, 736, 29072, 3592, 10548, 6498, 479, 83, 739, 165, 9, 6737, 7521, 5, 8543, 479, 20, 177, 128, 29, 1273, 4782, 21, 26115, 30, 392, 128, 282, 479, 1437, 50118], 'attention_mask': [1, 1, 1, 1, 1, 1, 1, 1, 1, 1, 1, 1, 1, 1, 1, 1, 1, 1, 1, 1, 1, 1, 1, 1, 1, 1, 1, 1, 1, 1, 1, 1, 1, 1, 1, 1, 1, 1, 1, 1, 1, 1, 1, 1, 1, 1, 1, 1, 1, 1, 1, 1, 1, 1, 1, 1, 1, 1, 1, 1, 1, 1, 1, 1, 1, 1, 1, 1, 1, 1, 1, 1, 1, 1, 1, 1, 1, 1, 1, 1, 1, 1, 1, 1, 1, 1, 1, 1, 1, 1, 1, 1, 1, 1, 1, 1, 1, 1, 1, 1, 1, 1, 1, 1, 1, 1, 1, 1]}\n",
      "{'input_ids': [2, 85, 1145, 19, 1313, 647, 11, 1429, 2156, 8, 21, 6425, 30, 258, 2898, 8, 4669, 4853, 479, 572, 800, 2156, 24, 829, 40908, 1383, 2156, 552, 19, 41, 4939, 5403, 11, 759, 9, 14, 76, 479, 85, 21, 67, 15517, 88, 38996, 8, 41, 1461, 569, 19269, 651, 479, 11050, 7, 614, 647, 9, 468, 44068, 6374, 41674, 3082, 2156, 468, 44068, 6374, 41674, 6395, 21, 45, 35668, 2156, 53, 10, 2378, 19850, 16632, 19, 5, 177, 128, 29, 4939, 5403, 21, 703, 11, 777, 479, 2454, 4, 36753, 74, 671, 7, 5, 3468, 19, 5, 709, 9, 468, 44068, 6374, 4832, 25959, 13340, 13, 5, 15592, 204, 479, 1437, 50118], 'attention_mask': [1, 1, 1, 1, 1, 1, 1, 1, 1, 1, 1, 1, 1, 1, 1, 1, 1, 1, 1, 1, 1, 1, 1, 1, 1, 1, 1, 1, 1, 1, 1, 1, 1, 1, 1, 1, 1, 1, 1, 1, 1, 1, 1, 1, 1, 1, 1, 1, 1, 1, 1, 1, 1, 1, 1, 1, 1, 1, 1, 1, 1, 1, 1, 1, 1, 1, 1, 1, 1, 1, 1, 1, 1, 1, 1, 1, 1, 1, 1, 1, 1, 1, 1, 1, 1, 1, 1, 1, 1, 1, 1, 1, 1, 1, 1, 1, 1, 1, 1, 1, 1, 1, 1, 1, 1, 1, 1, 1, 1, 1, 1, 1, 1]}\n",
      "{'input_ids': [2], 'attention_mask': [1]}\n",
      "{'input_ids': [2, 5457, 5457, 2436, 5785, 5457, 5457, 1437, 50118], 'attention_mask': [1, 1, 1, 1, 1, 1, 1, 1, 1]}\n",
      "{'input_ids': [2], 'attention_mask': [1]}\n",
      "{'input_ids': [2, 287, 19, 986, 28696, 6435, 15698, 41674, 426, 2156, 468, 44068, 6374, 41674, 6395, 16, 10, 15714, 774, 787, 12, 1039, 816, 177, 147, 472, 185, 797, 9, 10, 831, 1933, 8, 185, 233, 11, 10779, 136, 8636, 1572, 479, 9739, 32, 174, 149, 10360, 1040, 787, 12, 1039, 101, 9217, 19, 12847, 2048, 22713, 2156, 19, 3768, 2686, 8531, 149, 12559, 1901, 26054, 8, 8531, 149, 542, 5766, 12646, 2788, 479, 20, 869, 26658, 149, 10, 651, 9, 26956, 10779, 2156, 9097, 22804, 25, 12879, 14, 64, 28, 13215, 32840, 149, 8, 769, 13089, 25, 51, 32, 22804, 479, 20, 3420, 7, 349, 527, 2259, 15, 5, 5456, 23653, 6122, 15, 41, 1736, 869, 128, 29, 1548, 4832, 77, 65, 1973, 16, 3919, 2156, 5, 97, 16, 10497, 160, 7, 5, 869, 479, 13149, 10779, 2156, 5, 869, 3768, 1079, 11, 10, 2205, 2156, 147, 2833, 64, 28, 16399, 8, 2048, 434, 11493, 479, 7538, 3730, 5, 1049, 527, 10779, 32, 2048, 787, 12, 1039, 2167, 2849, 10779, 8941, 7, 430, 2837, 453, 479, 572, 5, 177, 128, 29, 5687, 2156, 943, 7585, 32, 22804, 2156, 103, 9, 106, 519, 10, 723, 9600, 87, 167, 303, 11, 5, 1079, 9, 5, 177, 479, 345, 32, 67, 657, 23805, 4785, 1330, 7, 5, 177, 128, 29, 80, 1049, 6132, 3141, 2156, 1712, 51, 185, 10, 182, 3694, 774, 479, 1437, 50118], 'attention_mask': [1, 1, 1, 1, 1, 1, 1, 1, 1, 1, 1, 1, 1, 1, 1, 1, 1, 1, 1, 1, 1, 1, 1, 1, 1, 1, 1, 1, 1, 1, 1, 1, 1, 1, 1, 1, 1, 1, 1, 1, 1, 1, 1, 1, 1, 1, 1, 1, 1, 1, 1, 1, 1, 1, 1, 1, 1, 1, 1, 1, 1, 1, 1, 1, 1, 1, 1, 1, 1, 1, 1, 1, 1, 1, 1, 1, 1, 1, 1, 1, 1, 1, 1, 1, 1, 1, 1, 1, 1, 1, 1, 1, 1, 1, 1, 1, 1, 1, 1, 1, 1, 1, 1, 1, 1, 1, 1, 1, 1, 1, 1, 1, 1, 1, 1, 1, 1, 1, 1, 1, 1, 1, 1, 1, 1, 1, 1, 1, 1, 1, 1, 1, 1, 1, 1, 1, 1, 1, 1, 1, 1, 1, 1, 1, 1, 1, 1, 1, 1, 1, 1, 1, 1, 1, 1, 1, 1, 1, 1, 1, 1, 1, 1, 1, 1, 1, 1, 1, 1, 1, 1, 1, 1, 1, 1, 1, 1, 1, 1, 1, 1, 1, 1, 1, 1, 1, 1, 1, 1, 1, 1, 1, 1, 1, 1, 1, 1, 1, 1, 1, 1, 1, 1, 1, 1, 1, 1, 1, 1, 1, 1, 1, 1, 1, 1, 1, 1, 1, 1, 1, 1, 1, 1, 1, 1, 1, 1, 1, 1, 1, 1, 1]}\n"
     ]
    }
   ],
   "source": [
    "for i in range(10):\n",
    "    print(tokenized_datasets['train'][i])"
   ]
  },
  {
   "cell_type": "code",
   "execution_count": 7,
   "id": "47e7def6",
   "metadata": {},
   "outputs": [
    {
     "data": {
      "text/plain": [
       "1000000000000000019884624838656"
      ]
     },
     "execution_count": 7,
     "metadata": {},
     "output_type": "execute_result"
    }
   ],
   "source": [
    "tokenizer.model_max_length"
   ]
  },
  {
   "cell_type": "code",
   "execution_count": null,
   "id": "91fa05fe",
   "metadata": {},
   "outputs": [],
   "source": []
  },
  {
   "cell_type": "markdown",
   "id": "7a71709a",
   "metadata": {},
   "source": [
    "## Group text in block"
   ]
  },
  {
   "cell_type": "code",
   "execution_count": 38,
   "id": "bd1e7ed1",
   "metadata": {},
   "outputs": [],
   "source": [
    "block_size = 1024"
   ]
  },
  {
   "cell_type": "code",
   "execution_count": 39,
   "id": "ded7b77c",
   "metadata": {},
   "outputs": [],
   "source": [
    "\n",
    "\n",
    "class GroupText:\n",
    "    def __init__(self, block_size):\n",
    "        from itertools import chain\n",
    "        \n",
    "        self.block_size = block_size\n",
    "        self.chain = chain\n",
    "        \n",
    "    def __call__(self, examples):\n",
    "        # Concatenate all texts.\n",
    "        concatenated_examples = {\n",
    "            k: list(self.chain(*examples[k])) \n",
    "                for k in examples.keys()\n",
    "        }\n",
    "        \n",
    "        total_length = len(concatenated_examples[list(examples.keys())[0]])\n",
    "        \n",
    "        if total_length >= self.block_size:\n",
    "            total_length = (total_length // self.block_size) * self.block_size\n",
    "            \n",
    "        # Split by chunks of max_len.\n",
    "        result = {\n",
    "            k: [t[i : i + self.block_size] \n",
    "                for i in range(0, total_length, self.block_size)]\n",
    "                    for k, t in concatenated_examples.items()\n",
    "        }\n",
    "        result[\"labels\"] = result[\"input_ids\"].copy()\n",
    "        return result\n"
   ]
  },
  {
   "cell_type": "code",
   "execution_count": 40,
   "id": "52275e2d",
   "metadata": {},
   "outputs": [],
   "source": [
    "lm_datasets = tokenized_datasets.map(\n",
    "    GroupText(block_size),\n",
    "    batched=True,\n",
    "    num_proc=32,\n",
    "    load_from_cache_file=True,\n",
    "    desc=f\"Grouping texts in chunks of {block_size}\",\n",
    ")"
   ]
  },
  {
   "cell_type": "code",
   "execution_count": 41,
   "id": "32bca5c7",
   "metadata": {},
   "outputs": [
    {
     "data": {
      "text/plain": [
       "dict_keys(['input_ids', 'attention_mask', 'labels'])"
      ]
     },
     "execution_count": 41,
     "metadata": {},
     "output_type": "execute_result"
    }
   ],
   "source": [
    "lm_datasets['train'][0].keys()"
   ]
  },
  {
   "cell_type": "code",
   "execution_count": 42,
   "id": "bcf98538",
   "metadata": {},
   "outputs": [
    {
     "name": "stdout",
     "output_type": "stream",
     "text": [
      " IDS: [2, 2, 5457, 468, 44068, 6374, 41674, 6395, 5457, 1437]\n",
      " MASK [1, 1, 1, 1, 1, 1, 1, 1, 1, 1]\n",
      "LABEL [2, 2, 5457, 468, 44068, 6374, 41674, 6395, 5457, 1437]\n"
     ]
    }
   ],
   "source": [
    "print(' IDS:', lm_datasets['train'][0]['input_ids'][:10])\n",
    "print(' MASK', lm_datasets['train'][0]['attention_mask'][:10])\n",
    "print('LABEL', lm_datasets['train'][0]['labels'][:10])"
   ]
  },
  {
   "cell_type": "code",
   "execution_count": 27,
   "id": "bdc3d078",
   "metadata": {},
   "outputs": [
    {
     "name": "stdout",
     "output_type": "stream",
     "text": [
      "OPTConfig {\n",
      "  \"_name_or_path\": \"facebook/opt-125m\",\n",
      "  \"_remove_final_layer_norm\": false,\n",
      "  \"activation_dropout\": 0.0,\n",
      "  \"activation_function\": \"relu\",\n",
      "  \"architectures\": [\n",
      "    \"OPTForCausalLM\"\n",
      "  ],\n",
      "  \"attention_dropout\": 0.0,\n",
      "  \"bos_token_id\": 2,\n",
      "  \"do_layer_norm_before\": true,\n",
      "  \"dropout\": 0.1,\n",
      "  \"enable_bias\": true,\n",
      "  \"eos_token_id\": 2,\n",
      "  \"ffn_dim\": 3072,\n",
      "  \"hidden_size\": 768,\n",
      "  \"init_std\": 0.02,\n",
      "  \"layer_norm_elementwise_affine\": true,\n",
      "  \"layerdrop\": 0.0,\n",
      "  \"max_position_embeddings\": 2048,\n",
      "  \"model_type\": \"opt\",\n",
      "  \"num_attention_heads\": 12,\n",
      "  \"num_hidden_layers\": 12,\n",
      "  \"pad_token_id\": 1,\n",
      "  \"prefix\": \"</s>\",\n",
      "  \"torch_dtype\": \"float16\",\n",
      "  \"transformers_version\": \"4.31.0\",\n",
      "  \"use_cache\": true,\n",
      "  \"vocab_size\": 50272,\n",
      "  \"word_embed_proj_dim\": 768\n",
      "}\n",
      "\n"
     ]
    },
    {
     "data": {
      "text/plain": [
       "Embedding(50265, 768)"
      ]
     },
     "execution_count": 27,
     "metadata": {},
     "output_type": "execute_result"
    }
   ],
   "source": [
    "from transformers import AutoConfig, AutoModelForCausalLM\n",
    "    \n",
    "config = AutoConfig.from_pretrained('facebook/opt-125m')\n",
    "print(config)\n",
    "model = AutoModelForCausalLM.from_config(config)\n",
    "\n",
    "model.resize_token_embeddings(len(tokenizer))"
   ]
  },
  {
   "cell_type": "code",
   "execution_count": 28,
   "id": "97a37c51",
   "metadata": {},
   "outputs": [],
   "source": [
    "from transformers import default_data_collator\n",
    "from torch.utils.data import DataLoader\n",
    "\n",
    "\n",
    "# DataLoaders creation:\n",
    "train_dataset = lm_datasets[\"train\"]\n",
    "eval_dataset = lm_datasets[\"validation\"]\n",
    "\n",
    "per_gpu_batch_size = 2\n",
    "\n",
    "train_dataloader = DataLoader(\n",
    "    train_dataset,\n",
    "    shuffle=True,\n",
    "    collate_fn=default_data_collator,\n",
    "    batch_size=per_gpu_batch_size,\n",
    ")\n",
    "\n",
    "eval_dataloader = DataLoader(\n",
    "    eval_dataset, \n",
    "    collate_fn=default_data_collator, \n",
    "    batch_size=per_gpu_batch_size,\n",
    ")"
   ]
  },
  {
   "cell_type": "code",
   "execution_count": null,
   "id": "72f9fe9a",
   "metadata": {},
   "outputs": [],
   "source": [
    "for batch in train_dataloader:\n",
    "    print(batch.keys())\n",
    "    \n",
    "    print(batch['input_ids'][:, :10])\n",
    "    print(batch['attention_mask'][:, :10])\n",
    "    print(batch['labels'][:, :10])\n",
    "    break"
   ]
  },
  {
   "cell_type": "markdown",
   "id": "c88dcf5d",
   "metadata": {},
   "source": [
    "# Optimizer"
   ]
  },
  {
   "cell_type": "markdown",
   "id": "13a028ee",
   "metadata": {},
   "source": [
    "WTF is this why do we need to split the parameters here"
   ]
  },
  {
   "cell_type": "code",
   "execution_count": null,
   "id": "f48441f7",
   "metadata": {},
   "outputs": [],
   "source": [
    "no_decay = [\"bias\", \"LayerNorm.weight\"]\n",
    "parameters = [\n",
    "    {\n",
    "        \"params\": [\n",
    "            p\n",
    "            for n, p in model.named_parameters()\n",
    "            if not any(no_decay_str in n for no_decay_str in no_decay)\n",
    "        ],\n",
    "        \"weight_decay\": 0.0,\n",
    "    },\n",
    "    {\n",
    "        \"params\": [\n",
    "            p\n",
    "            for n, p in model.named_parameters()\n",
    "            if any(no_decay_str in n for no_decay_str in no_decay)\n",
    "        ],\n",
    "        \"weight_decay\": 0.0,\n",
    "    },\n",
    "]"
   ]
  },
  {
   "cell_type": "code",
   "execution_count": null,
   "id": "3e27de5e",
   "metadata": {},
   "outputs": [],
   "source": [
    "from transformers import get_scheduler, SchedulerType\n",
    "import torch.optim\n",
    "\n",
    "max_train_steps = 10\n",
    "gradient_accumulation_steps = 1\n",
    "\n",
    "optimizer = torch.optim.AdamW(parameters, lr=5e-5)\n",
    "\n",
    "lr_scheduler = get_scheduler(\n",
    "    name=SchedulerType.LINEAR,\n",
    "    optimizer=optimizer,\n",
    "    num_warmup_steps=0,\n",
    "    num_training_steps=max_train_steps,\n",
    ")"
   ]
  },
  {
   "cell_type": "code",
   "execution_count": null,
   "id": "3922cd1f",
   "metadata": {},
   "outputs": [],
   "source": []
  },
  {
   "cell_type": "code",
   "execution_count": null,
   "id": "e34d6c71",
   "metadata": {},
   "outputs": [],
   "source": [
    "from accelerate import Accelerator\n",
    "\n",
    "# Prepare everything with our `accelerator`.\n",
    "accelerator = Accelerator(\n",
    "    mixed_precision='fp16'\n",
    ")\n",
    "\n",
    "(\n",
    "    model,\n",
    "    optimizer,\n",
    "    train_dataloader,\n",
    "    eval_dataloader,\n",
    "    lr_scheduler,\n",
    ") = accelerator.prepare(\n",
    "    model, \n",
    "    optimizer, \n",
    "    train_dataloader, \n",
    "    eval_dataloader, \n",
    "    lr_scheduler\n",
    ")"
   ]
  },
  {
   "cell_type": "code",
   "execution_count": null,
   "id": "06a54efe",
   "metadata": {},
   "outputs": [],
   "source": [
    "batch_count = len(train_dataloader)\n",
    "max_epoch = 10\n",
    "total = batch_count * max_epoch\n",
    "\n",
    "for epoch in range(0, max_epoch):\n",
    "    model.train()\n",
    "    \n",
    "    for step, batch in enumerate(train_dataloader):\n",
    "        \n",
    "        outputs = model(**batch)\n",
    "        \n",
    "        loss = outputs.loss\n",
    "        \n",
    "        loss = loss / gradient_accumulation_steps\n",
    "        \n",
    "        accelerator.backward(loss)\n",
    "        \n",
    "        optimizer.step()\n",
    "        lr_scheduler.step()\n",
    "        optimizer.zero_grad()\n",
    "\n",
    "        print(f\"\\r{(epoch * batch_count + step) * 100/total:.2f}\", end='')\n",
    "        break\n",
    "    break"
   ]
  },
  {
   "cell_type": "code",
   "execution_count": null,
   "id": "c3740427",
   "metadata": {},
   "outputs": [],
   "source": [
    "print(loss.item())"
   ]
  },
  {
   "cell_type": "code",
   "execution_count": null,
   "id": "0b6ebfbc",
   "metadata": {},
   "outputs": [],
   "source": [
    "model"
   ]
  },
  {
   "cell_type": "code",
   "execution_count": null,
   "id": "c9d1b867",
   "metadata": {},
   "outputs": [],
   "source": [
    "type(model)"
   ]
  },
  {
   "cell_type": "markdown",
   "id": "25babf08",
   "metadata": {},
   "source": [
    "# Transformer in a nutshell"
   ]
  },
  {
   "cell_type": "markdown",
   "id": "11e5b15f",
   "metadata": {},
   "source": [
    "## Convert Word to ID\n",
    "\n",
    "Handled by the tokenizer"
   ]
  },
  {
   "cell_type": "code",
   "execution_count": 43,
   "id": "2d19607d",
   "metadata": {},
   "outputs": [
    {
     "name": "stdout",
     "output_type": "stream",
     "text": [
      "{'input_ids': [2, 31414, 6, 141, 32, 47], 'attention_mask': [1, 1, 1, 1, 1, 1]}\n"
     ]
    }
   ],
   "source": [
    "sentence = \"Hello, how are you\"\n",
    "\n",
    "tokenized = tokenizer(sentence)\n",
    "\n",
    "print(tokenized)"
   ]
  },
  {
   "cell_type": "markdown",
   "id": "5cb9247f",
   "metadata": {},
   "source": [
    "## Convert Word ID to a vector called Embedding"
   ]
  },
  {
   "cell_type": "code",
   "execution_count": 44,
   "id": "01e6f579",
   "metadata": {},
   "outputs": [],
   "source": [
    "import torch\n",
    "import torch.nn as nn"
   ]
  },
  {
   "cell_type": "code",
   "execution_count": 45,
   "id": "984a19e2",
   "metadata": {},
   "outputs": [
    {
     "name": "stdout",
     "output_type": "stream",
     "text": [
      "50265\n"
     ]
    }
   ],
   "source": [
    "print(len(tokenizer))"
   ]
  },
  {
   "cell_type": "code",
   "execution_count": 48,
   "id": "21d7ac24",
   "metadata": {},
   "outputs": [
    {
     "name": "stdout",
     "output_type": "stream",
     "text": [
      "torch.Size([2, 4])\n",
      "torch.Size([2, 4, 4])\n"
     ]
    },
    {
     "data": {
      "text/plain": [
       "tensor([[[-0.1390, -0.9837,  0.3531, -0.3547],\n",
       "         [-0.8929,  0.4041, -0.0699, -1.1943],\n",
       "         [-0.2368,  0.6996,  1.0251,  0.0677],\n",
       "         [ 1.5096, -2.6156,  1.7917,  1.2650]],\n",
       "\n",
       "        [[-0.1082,  1.4285,  0.8797,  0.9152],\n",
       "         [ 0.0837, -0.3266, -0.7952,  0.6647],\n",
       "         [ 0.0863, -0.9669, -0.3809, -0.0290],\n",
       "         [ 0.3739, -0.8265,  0.1591,  0.3284]]], grad_fn=<EmbeddingBackward0>)"
      ]
     },
     "execution_count": 48,
     "metadata": {},
     "output_type": "execute_result"
    }
   ],
   "source": [
    "word_count = len(tokenizer)\n",
    "embedding_size = 4\n",
    "\n",
    "embedding = nn.Embedding(\n",
    "    word_count,\n",
    "    embedding_size\n",
    ")\n",
    "\n",
    "words = torch.tensor([\n",
    "    [0, 1, 2, 3],\n",
    "    [4, 5, 6, 7]\n",
    "], dtype=torch.long)\n",
    "\n",
    "\n",
    "result = embedding(words)\n",
    "\n",
    "print(words.shape)\n",
    "print(result.shape)\n",
    "\n",
    "result"
   ]
  },
  {
   "cell_type": "markdown",
   "id": "d6ea3bb9",
   "metadata": {},
   "source": [
    "## Summary"
   ]
  },
  {
   "cell_type": "code",
   "execution_count": 17,
   "id": "dd5e9c06",
   "metadata": {},
   "outputs": [
    {
     "name": "stdout",
     "output_type": "stream",
     "text": [
      "torch.Size([2, 6, 4])\n",
      "tensor([[[ 0.4105, -0.4263, -0.3554, -0.0040],\n",
      "         [-1.1915, -0.3207, -0.0155,  0.1284],\n",
      "         [ 1.1196, -0.5289, -1.0816, -0.0611],\n",
      "         [-2.0500, -2.6651, -0.4958, -0.5997],\n",
      "         [ 1.0940,  0.4501, -0.8789, -0.7428],\n",
      "         [ 0.1306,  1.9094, -0.2398,  0.1954]],\n",
      "\n",
      "        [[ 0.4105, -0.4263, -0.3554, -0.0040],\n",
      "         [-1.1915, -0.3207, -0.0155,  0.1284],\n",
      "         [ 1.1196, -0.5289, -1.0816, -0.0611],\n",
      "         [-2.0500, -2.6651, -0.4958, -0.5997],\n",
      "         [ 1.0940,  0.4501, -0.8789, -0.7428],\n",
      "         [ 0.1306,  1.9094, -0.2398,  0.1954]]], grad_fn=<EmbeddingBackward0>)\n"
     ]
    }
   ],
   "source": [
    "sentence = \"Hello, how are you\"\n",
    "\n",
    "tokenized = tokenizer(sentence)\n",
    "\n",
    "batch = torch.tensor([\n",
    "    tokenized['input_ids'],\n",
    "    tokenized['input_ids']\n",
    "], dtype=torch.long)\n",
    "\n",
    "result = embedding(batch)\n",
    "\n",
    "print(result.shape)\n",
    "print(result)"
   ]
  },
  {
   "cell_type": "markdown",
   "id": "b1293dd2",
   "metadata": {},
   "source": [
    "#  Attention Layer"
   ]
  },
  {
   "cell_type": "code",
   "execution_count": 21,
   "id": "f65946c3",
   "metadata": {},
   "outputs": [],
   "source": [
    "# feed_forward(x) = Linear(Silu(Linear(x)) * Linear(x))\n",
    "\n",
    "# h = x + attention(norm(x), start_pos, freqs_cis, mask)\n",
    "# out = h + feed_forward(ffn_norm(h))\n"
   ]
  },
  {
   "cell_type": "code",
   "execution_count": 19,
   "id": "245ff943",
   "metadata": {},
   "outputs": [],
   "source": [
    "def positional_encoding(*args):\n",
    "    return args\n",
    "\n",
    "def apply_attention_mask(x):\n",
    "    return x"
   ]
  },
  {
   "cell_type": "code",
   "execution_count": 49,
   "id": "c27fdd3e",
   "metadata": {},
   "outputs": [
    {
     "name": "stdout",
     "output_type": "stream",
     "text": [
      "tensor([[[-0.0075, -0.2360,  0.2781,  0.2571],\n",
      "         [-0.0074, -0.2360,  0.2781,  0.2571],\n",
      "         [-0.0043, -0.2373,  0.2784,  0.2577],\n",
      "         [-0.0055, -0.2369,  0.2784,  0.2574]],\n",
      "\n",
      "        [[-0.0160, -0.2219,  0.2631,  0.2585],\n",
      "         [-0.0159, -0.2213,  0.2622,  0.2584],\n",
      "         [-0.0159, -0.2214,  0.2624,  0.2584],\n",
      "         [-0.0160, -0.2216,  0.2627,  0.2585]]], grad_fn=<ViewBackward0>)\n"
     ]
    }
   ],
   "source": [
    "import torch.nn.functional as F\n",
    "from math import sqrt\n",
    "\n",
    "n = embedding_size\n",
    "x = result\n",
    "\n",
    "# Single attention\n",
    "\n",
    "q = nn.Linear(embedding_size, n)\n",
    "k = nn.Linear(embedding_size, n)\n",
    "v = nn.Linear(embedding_size, n)\n",
    "o = nn.Linear(embedding_size, n)\n",
    "\n",
    "xq = q(x)\n",
    "xk = k(x)\n",
    "xv = v(x)\n",
    "\n",
    "xq, xk = positional_encoding(xq, xk)\n",
    "\n",
    "out = xq @ xk.transpose(1, 2) / sqrt(256)\n",
    "\n",
    "out = apply_attention_mask(out) #...\n",
    "\n",
    "attention_weight = F.softmax(out, dim=-1) \n",
    "\n",
    "# Input Selector, if attention_weight == Identity then everything would be equally selected\n",
    "out = o(attention_weight @ xv)\n",
    "\n",
    "# feed forward\n",
    "w1 = nn.Linear(n, n * 2)\n",
    "w2 = nn.Linear(n * 2, n)\n",
    "w3 = nn.Linear(n, n * 2)\n",
    "\n",
    "out = w2(F.silu(w1(out)) * w3(out))\n",
    "\n",
    "# go to next attention head\n",
    "print(out)"
   ]
  },
  {
   "cell_type": "code",
   "execution_count": 22,
   "id": "f371f743",
   "metadata": {},
   "outputs": [
    {
     "data": {
      "text/plain": [
       "{'input_ids': [2, 31414, 6, 141, 32, 47], 'attention_mask': [1, 1, 1, 1, 1, 1]}"
      ]
     },
     "execution_count": 22,
     "metadata": {},
     "output_type": "execute_result"
    }
   ],
   "source": [
    "tokenized"
   ]
  },
  {
   "cell_type": "code",
   "execution_count": null,
   "id": "f49b01d8",
   "metadata": {},
   "outputs": [],
   "source": []
  },
  {
   "cell_type": "code",
   "execution_count": 31,
   "id": "6ad3986b",
   "metadata": {},
   "outputs": [
    {
     "data": {
      "text/plain": [
       "{'input_ids': tensor([[   10,    22, 11346,  ...,     9,  4224,  5648],\n",
       "         [ 1824,    11,     5,  ...,  1813,   226,  4970]]),\n",
       " 'attention_mask': tensor([[1, 1, 1,  ..., 1, 1, 1],\n",
       "         [1, 1, 1,  ..., 1, 1, 1]]),\n",
       " 'labels': tensor([[   10,    22, 11346,  ...,     9,  4224,  5648],\n",
       "         [ 1824,    11,     5,  ...,  1813,   226,  4970]])}"
      ]
     },
     "execution_count": 31,
     "metadata": {},
     "output_type": "execute_result"
    }
   ],
   "source": [
    "next(iter(train_dataloader))"
   ]
  },
  {
   "cell_type": "code",
   "execution_count": 50,
   "id": "079d4d5d",
   "metadata": {},
   "outputs": [
    {
     "ename": "NameError",
     "evalue": "name 'f' is not defined",
     "output_type": "error",
     "traceback": [
      "\u001b[1;31m---------------------------------------------------------------------------\u001b[0m",
      "\u001b[1;31mNameError\u001b[0m                                 Traceback (most recent call last)",
      "Cell \u001b[1;32mIn [50], line 1\u001b[0m\n\u001b[1;32m----> 1\u001b[0m x \u001b[38;5;241m=\u001b[39m \u001b[43mf\u001b[49m(x)\n",
      "\u001b[1;31mNameError\u001b[0m: name 'f' is not defined"
     ]
    }
   ],
   "source": [
    "\n",
    "x = f(x)\n",
    "\n",
    "\n"
   ]
  },
  {
   "cell_type": "code",
   "execution_count": null,
   "id": "984fd72a",
   "metadata": {},
   "outputs": [],
   "source": []
  },
  {
   "cell_type": "code",
   "execution_count": 51,
   "id": "f595df88",
   "metadata": {},
   "outputs": [
    {
     "data": {
      "text/plain": [
       "<Figure size 640x480 with 0 Axes>"
      ]
     },
     "metadata": {},
     "output_type": "display_data"
    }
   ],
   "source": [
    "%matplotlib inline\n",
    "import numpy as np\n",
    "import matplotlib.pyplot as plt\n",
    " \n",
    "fig = plt.figure()"
   ]
  },
  {
   "cell_type": "code",
   "execution_count": 52,
   "id": "8378c9cd",
   "metadata": {},
   "outputs": [
    {
     "data": {
      "text/plain": [
       "<mpl_toolkits.mplot3d.art3d.Path3DCollection at 0x211d76a0820>"
      ]
     },
     "execution_count": 52,
     "metadata": {},
     "output_type": "execute_result"
    },
    {
     "data": {
      "image/png": "[encoded data removed]",
      "text/plain": [
       "<Figure size 640x480 with 1 Axes>"
      ]
     },
     "metadata": {},
     "output_type": "display_data"
    }
   ],
   "source": [
    "ax = plt.axes(projection ='3d')\n",
    " \n",
    "# defining axes\n",
    "z = np.linspace(0, 1, 100)\n",
    "x = z * np.sin(25 * z)\n",
    "y = z * np.cos(25 * z)\n",
    "c = x + y\n",
    "\n",
    "ax.scatter(x, y, z, c = c)"
   ]
  },
  {
   "cell_type": "code",
   "execution_count": 53,
   "id": "cf3cdb75",
   "metadata": {},
   "outputs": [
    {
     "ename": "AttributeError",
     "evalue": "'TrivialProducer' object has no attribute 'output'",
     "output_type": "error",
     "traceback": [
      "\u001b[1;31m---------------------------------------------------------------------------\u001b[0m",
      "\u001b[1;31mAttributeError\u001b[0m                            Traceback (most recent call last)",
      "Cell \u001b[1;32mIn [53], line 16\u001b[0m\n\u001b[0;32m     13\u001b[0m points \u001b[38;5;241m=\u001b[39m mlab\u001b[38;5;241m.\u001b[39mpoints3d(x, y, z, scale_factor\u001b[38;5;241m=\u001b[39m\u001b[38;5;241m0.1\u001b[39m, color\u001b[38;5;241m=\u001b[39m(\u001b[38;5;241m0\u001b[39m, \u001b[38;5;241m0\u001b[39m, \u001b[38;5;241m1\u001b[39m))\n\u001b[0;32m     15\u001b[0m \u001b[38;5;66;03m# Add legends for each point\u001b[39;00m\n\u001b[1;32m---> 16\u001b[0m legend \u001b[38;5;241m=\u001b[39m \u001b[43mmlab\u001b[49m\u001b[38;5;241;43m.\u001b[39;49m\u001b[43mscalarbar\u001b[49m\u001b[43m(\u001b[49m\u001b[43mpoints\u001b[49m\u001b[43m,\u001b[49m\u001b[43m \u001b[49m\u001b[43mtitle\u001b[49m\u001b[38;5;241;43m=\u001b[39;49m\u001b[38;5;124;43m'\u001b[39;49m\u001b[38;5;124;43mPoint Legends\u001b[39;49m\u001b[38;5;124;43m'\u001b[39;49m\u001b[43m)\u001b[49m\n\u001b[0;32m     17\u001b[0m legend\u001b[38;5;241m.\u001b[39mscalarbar_representation\u001b[38;5;241m.\u001b[39mposition \u001b[38;5;241m=\u001b[39m (\u001b[38;5;241m0.85\u001b[39m, \u001b[38;5;241m0.1\u001b[39m)\n\u001b[0;32m     18\u001b[0m legend\u001b[38;5;241m.\u001b[39mscalarbar_representation\u001b[38;5;241m.\u001b[39mposition2 \u001b[38;5;241m=\u001b[39m (\u001b[38;5;241m0.1\u001b[39m, \u001b[38;5;241m0.8\u001b[39m)\n",
      "File \u001b[1;32mE:\\Anaconda\\lib\\site-packages\\mayavi\\tools\\decorations.py:119\u001b[0m, in \u001b[0;36mscalarbar\u001b[1;34m(object, title, orientation, nb_labels, nb_colors, label_fmt)\u001b[0m\n\u001b[0;32m     95\u001b[0m \u001b[38;5;28;01mdef\u001b[39;00m \u001b[38;5;21mscalarbar\u001b[39m(\u001b[38;5;28mobject\u001b[39m\u001b[38;5;241m=\u001b[39m\u001b[38;5;28;01mNone\u001b[39;00m, title\u001b[38;5;241m=\u001b[39m\u001b[38;5;28;01mNone\u001b[39;00m, orientation\u001b[38;5;241m=\u001b[39m\u001b[38;5;28;01mNone\u001b[39;00m,\n\u001b[0;32m     96\u001b[0m                            nb_labels\u001b[38;5;241m=\u001b[39m\u001b[38;5;28;01mNone\u001b[39;00m, nb_colors\u001b[38;5;241m=\u001b[39m\u001b[38;5;28;01mNone\u001b[39;00m,\n\u001b[0;32m     97\u001b[0m                            label_fmt\u001b[38;5;241m=\u001b[39m\u001b[38;5;28;01mNone\u001b[39;00m):\n\u001b[0;32m     98\u001b[0m     \u001b[38;5;124;03m\"\"\"Adds a colorbar for the scalar color mapping of the given object.\u001b[39;00m\n\u001b[0;32m     99\u001b[0m \n\u001b[0;32m    100\u001b[0m \u001b[38;5;124;03m    If no object is specified, the first object with scalar data in the scene\u001b[39;00m\n\u001b[1;32m   (...)\u001b[0m\n\u001b[0;32m    117\u001b[0m \u001b[38;5;124;03m                    colorbar.\u001b[39;00m\n\u001b[0;32m    118\u001b[0m \u001b[38;5;124;03m    \"\"\"\u001b[39;00m\n\u001b[1;32m--> 119\u001b[0m     module_manager \u001b[38;5;241m=\u001b[39m \u001b[43mtools\u001b[49m\u001b[38;5;241;43m.\u001b[39;49m\u001b[43m_find_module_manager\u001b[49m\u001b[43m(\u001b[49m\u001b[38;5;28;43mobject\u001b[39;49m\u001b[38;5;241;43m=\u001b[39;49m\u001b[38;5;28;43mobject\u001b[39;49m\u001b[43m,\u001b[49m\n\u001b[0;32m    120\u001b[0m \u001b[43m                                                    \u001b[49m\u001b[43mdata_type\u001b[49m\u001b[38;5;241;43m=\u001b[39;49m\u001b[38;5;124;43m\"\u001b[39;49m\u001b[38;5;124;43mscalar\u001b[39;49m\u001b[38;5;124;43m\"\u001b[39;49m\u001b[43m)\u001b[49m\n\u001b[0;32m    121\u001b[0m     \u001b[38;5;28;01mif\u001b[39;00m module_manager \u001b[38;5;129;01mis\u001b[39;00m \u001b[38;5;28;01mNone\u001b[39;00m:\n\u001b[0;32m    122\u001b[0m         \u001b[38;5;28;01mreturn\u001b[39;00m\n",
      "File \u001b[1;32mE:\\Anaconda\\lib\\site-packages\\mayavi\\tools\\tools.py:233\u001b[0m, in \u001b[0;36m_find_module_manager\u001b[1;34m(object, data_type)\u001b[0m\n\u001b[0;32m    231\u001b[0m \u001b[38;5;28;01melse\u001b[39;00m:\n\u001b[0;32m    232\u001b[0m     \u001b[38;5;28;01mif\u001b[39;00m \u001b[38;5;28mhasattr\u001b[39m(\u001b[38;5;28mobject\u001b[39m, \u001b[38;5;124m'\u001b[39m\u001b[38;5;124mmodule_manager\u001b[39m\u001b[38;5;124m'\u001b[39m):\n\u001b[1;32m--> 233\u001b[0m         \u001b[38;5;28;01mif\u001b[39;00m ((data_type \u001b[38;5;241m==\u001b[39m \u001b[38;5;124m'\u001b[39m\u001b[38;5;124mscalar\u001b[39m\u001b[38;5;124m'\u001b[39m \u001b[38;5;129;01mand\u001b[39;00m \u001b[43m_has_scalar_data\u001b[49m\u001b[43m(\u001b[49m\u001b[38;5;28;43mobject\u001b[39;49m\u001b[43m)\u001b[49m)\n\u001b[0;32m    234\u001b[0m            \u001b[38;5;129;01mor\u001b[39;00m (data_type \u001b[38;5;241m==\u001b[39m \u001b[38;5;124m'\u001b[39m\u001b[38;5;124mvector\u001b[39m\u001b[38;5;124m'\u001b[39m \u001b[38;5;129;01mand\u001b[39;00m _has_vector_data(\u001b[38;5;28mobject\u001b[39m))\n\u001b[0;32m    235\u001b[0m            \u001b[38;5;129;01mor\u001b[39;00m (data_type \u001b[38;5;241m==\u001b[39m \u001b[38;5;124m'\u001b[39m\u001b[38;5;124mtensor\u001b[39m\u001b[38;5;124m'\u001b[39m \u001b[38;5;129;01mand\u001b[39;00m _has_tensor_data(\u001b[38;5;28mobject\u001b[39m))\n\u001b[0;32m    236\u001b[0m             \u001b[38;5;129;01mor\u001b[39;00m data_type \u001b[38;5;129;01mis\u001b[39;00m \u001b[38;5;28;01mNone\u001b[39;00m):\n\u001b[0;32m    237\u001b[0m             \u001b[38;5;28;01mreturn\u001b[39;00m \u001b[38;5;28mobject\u001b[39m\u001b[38;5;241m.\u001b[39mmodule_manager\n\u001b[0;32m    238\u001b[0m         \u001b[38;5;28;01melse\u001b[39;00m:\n",
      "File \u001b[1;32mE:\\Anaconda\\lib\\site-packages\\mayavi\\tools\\tools.py:178\u001b[0m, in \u001b[0;36m_has_scalar_data\u001b[1;34m(object)\u001b[0m\n\u001b[0;32m    175\u001b[0m \u001b[38;5;28;01mdef\u001b[39;00m \u001b[38;5;21m_has_scalar_data\u001b[39m(\u001b[38;5;28mobject\u001b[39m):\n\u001b[0;32m    176\u001b[0m     \u001b[38;5;124;03m\"\"\"Tests if an object has scalar data.\u001b[39;00m\n\u001b[0;32m    177\u001b[0m \u001b[38;5;124;03m    \"\"\"\u001b[39;00m\n\u001b[1;32m--> 178\u001b[0m     data_sources \u001b[38;5;241m=\u001b[39m \u001b[43mget_vtk_src\u001b[49m\u001b[43m(\u001b[49m\u001b[38;5;28;43mobject\u001b[39;49m\u001b[43m)\u001b[49m\n\u001b[0;32m    179\u001b[0m     \u001b[38;5;28;01mfor\u001b[39;00m source \u001b[38;5;129;01min\u001b[39;00m data_sources:\n\u001b[0;32m    180\u001b[0m         \u001b[38;5;28;01mif\u001b[39;00m source\u001b[38;5;241m.\u001b[39mpoint_data\u001b[38;5;241m.\u001b[39mscalars \u001b[38;5;129;01mis\u001b[39;00m \u001b[38;5;129;01mnot\u001b[39;00m \u001b[38;5;28;01mNone\u001b[39;00m:\n",
      "File \u001b[1;32mE:\\Anaconda\\lib\\site-packages\\mayavi\\tools\\tools.py:171\u001b[0m, in \u001b[0;36mget_vtk_src\u001b[1;34m(mayavi_object, stop_at_filter)\u001b[0m\n\u001b[0;32m    169\u001b[0m     \u001b[38;5;28;01mif\u001b[39;00m stop_at_filter \u001b[38;5;129;01mor\u001b[39;00m \u001b[38;5;129;01mnot\u001b[39;00m \u001b[38;5;28misinstance\u001b[39m(mayavi_object, Filter):\n\u001b[0;32m    170\u001b[0m         get_output \u001b[38;5;241m=\u001b[39m \u001b[38;5;28;01mlambda\u001b[39;00m x: x \u001b[38;5;28;01mif\u001b[39;00m x\u001b[38;5;241m.\u001b[39mis_a(\u001b[38;5;124m'\u001b[39m\u001b[38;5;124mvtkDataSet\u001b[39m\u001b[38;5;124m'\u001b[39m) \u001b[38;5;28;01melse\u001b[39;00m x\u001b[38;5;241m.\u001b[39moutput\n\u001b[1;32m--> 171\u001b[0m         \u001b[38;5;28;01mreturn\u001b[39;00m [get_output(x) \u001b[38;5;28;01mfor\u001b[39;00m x \u001b[38;5;129;01min\u001b[39;00m mayavi_object\u001b[38;5;241m.\u001b[39moutputs]\n\u001b[0;32m    172\u001b[0m mayavi_object \u001b[38;5;241m=\u001b[39m mayavi_object\u001b[38;5;241m.\u001b[39mparent\n",
      "File \u001b[1;32mE:\\Anaconda\\lib\\site-packages\\mayavi\\tools\\tools.py:171\u001b[0m, in \u001b[0;36m<listcomp>\u001b[1;34m(.0)\u001b[0m\n\u001b[0;32m    169\u001b[0m     \u001b[38;5;28;01mif\u001b[39;00m stop_at_filter \u001b[38;5;129;01mor\u001b[39;00m \u001b[38;5;129;01mnot\u001b[39;00m \u001b[38;5;28misinstance\u001b[39m(mayavi_object, Filter):\n\u001b[0;32m    170\u001b[0m         get_output \u001b[38;5;241m=\u001b[39m \u001b[38;5;28;01mlambda\u001b[39;00m x: x \u001b[38;5;28;01mif\u001b[39;00m x\u001b[38;5;241m.\u001b[39mis_a(\u001b[38;5;124m'\u001b[39m\u001b[38;5;124mvtkDataSet\u001b[39m\u001b[38;5;124m'\u001b[39m) \u001b[38;5;28;01melse\u001b[39;00m x\u001b[38;5;241m.\u001b[39moutput\n\u001b[1;32m--> 171\u001b[0m         \u001b[38;5;28;01mreturn\u001b[39;00m [\u001b[43mget_output\u001b[49m\u001b[43m(\u001b[49m\u001b[43mx\u001b[49m\u001b[43m)\u001b[49m \u001b[38;5;28;01mfor\u001b[39;00m x \u001b[38;5;129;01min\u001b[39;00m mayavi_object\u001b[38;5;241m.\u001b[39moutputs]\n\u001b[0;32m    172\u001b[0m mayavi_object \u001b[38;5;241m=\u001b[39m mayavi_object\u001b[38;5;241m.\u001b[39mparent\n",
      "File \u001b[1;32mE:\\Anaconda\\lib\\site-packages\\mayavi\\tools\\tools.py:170\u001b[0m, in \u001b[0;36mget_vtk_src.<locals>.<lambda>\u001b[1;34m(x)\u001b[0m\n\u001b[0;32m    168\u001b[0m \u001b[38;5;28;01mif\u001b[39;00m \u001b[38;5;28misinstance\u001b[39m(mayavi_object, Source):\n\u001b[0;32m    169\u001b[0m     \u001b[38;5;28;01mif\u001b[39;00m stop_at_filter \u001b[38;5;129;01mor\u001b[39;00m \u001b[38;5;129;01mnot\u001b[39;00m \u001b[38;5;28misinstance\u001b[39m(mayavi_object, Filter):\n\u001b[1;32m--> 170\u001b[0m         get_output \u001b[38;5;241m=\u001b[39m \u001b[38;5;28;01mlambda\u001b[39;00m x: x \u001b[38;5;28;01mif\u001b[39;00m x\u001b[38;5;241m.\u001b[39mis_a(\u001b[38;5;124m'\u001b[39m\u001b[38;5;124mvtkDataSet\u001b[39m\u001b[38;5;124m'\u001b[39m) \u001b[38;5;28;01melse\u001b[39;00m \u001b[43mx\u001b[49m\u001b[38;5;241;43m.\u001b[39;49m\u001b[43moutput\u001b[49m\n\u001b[0;32m    171\u001b[0m         \u001b[38;5;28;01mreturn\u001b[39;00m [get_output(x) \u001b[38;5;28;01mfor\u001b[39;00m x \u001b[38;5;129;01min\u001b[39;00m mayavi_object\u001b[38;5;241m.\u001b[39moutputs]\n\u001b[0;32m    172\u001b[0m mayavi_object \u001b[38;5;241m=\u001b[39m mayavi_object\u001b[38;5;241m.\u001b[39mparent\n",
      "\u001b[1;31mAttributeError\u001b[0m: 'TrivialProducer' object has no attribute 'output'"
     ]
    }
   ],
   "source": [
    "import numpy as np\n",
    "from mayavi import mlab\n",
    "\n",
    "# Generate random data points\n",
    "np.random.seed(42)\n",
    "num_points = 100\n",
    "x = np.random.rand(num_points)\n",
    "y = np.random.rand(num_points)\n",
    "z = np.random.rand(num_points)\n",
    "\n",
    "# Create a 3D scatter plot\n",
    "fig = mlab.figure(figure='3D Scatter Plot', bgcolor=(1, 1, 1), size=(800, 600))\n",
    "points = mlab.points3d(x, y, z, scale_factor=0.1, color=(0, 0, 1))\n",
    "\n",
    "# Add legends for each point\n",
    "legend = mlab.scalarbar(points, title='Point Legends')\n",
    "legend.scalarbar_representation.position = (0.85, 0.1)\n",
    "legend.scalarbar_representation.position2 = (0.1, 0.8)\n",
    "\n",
    "# Rotate the visualization\n",
    "mlab.view(azimuth=45, elevation=45, distance=4)\n",
    "\n",
    "# Display the plot\n",
    "mlab.show()"
   ]
  },
  {
   "cell_type": "code",
   "execution_count": null,
   "id": "050f050d",
   "metadata": {},
   "outputs": [],
   "source": []
  }
 ],
 "metadata": {
  "kernelspec": {
   "display_name": "Python 3 (ipykernel)",
   "language": "python",
   "name": "python3"
  },
  "language_info": {
   "codemirror_mode": {
    "name": "ipython",
    "version": 3
   },
   "file_extension": ".py",
   "mimetype": "text/x-python",
   "name": "python",
   "nbconvert_exporter": "python",
   "pygments_lexer": "ipython3",
   "version": "3.9.12"
  }
 },
 "nbformat": 4,
 "nbformat_minor": 5
}
