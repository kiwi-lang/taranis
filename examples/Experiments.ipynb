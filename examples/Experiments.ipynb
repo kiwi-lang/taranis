{
 "cells": [
  {
   "cell_type": "code",
   "execution_count": 1,
   "id": "ddd7f727",
   "metadata": {},
   "outputs": [],
   "source": [
    "%matplotlib inline\n",
    "%load_ext autoreload\n",
    "\n",
    "import numpy as np\n",
    "import matplotlib.pyplot as plt\n",
    "import torch\n",
    "import torch.nn as nn\n",
    "import torch.nn.functional as F\n",
    "from torchvision import datasets\n",
    "from torchvision import transforms"
   ]
  },
  {
   "cell_type": "code",
   "execution_count": 2,
   "id": "6b676df3",
   "metadata": {},
   "outputs": [
    {
     "name": "stderr",
     "output_type": "stream",
     "text": [
      "NOTE: Redirects are currently not supported in Windows or MacOs.\n"
     ]
    }
   ],
   "source": [
    "%autoreload 1\n",
    "import taranis.core.nn as ext_nn\n",
    "from taranis.core.trainer.train import gpu_train, mnist_dataset, gpu_test_model, cifar100_dataset"
   ]
  },
  {
   "cell_type": "code",
   "execution_count": 3,
   "id": "4531514c",
   "metadata": {},
   "outputs": [
    {
     "name": "stdout",
     "output_type": "stream",
     "text": [
      "60000\n",
      "(28, 28) 4\n"
     ]
    },
    {
     "data": {
      "image/png": "[encoded data removed]",
      "text/plain": [
       "<PIL.Image.Image image mode=L size=28x28>"
      ]
     },
     "execution_count": 3,
     "metadata": {},
     "output_type": "execute_result"
    }
   ],
   "source": [
    "dataset = datasets.MNIST(\n",
    "    '../data', \n",
    "    train=True, \n",
    "    download=True\n",
    ")\n",
    "print(len(dataset))\n",
    "\n",
    "image, label = dataset[2]\n",
    "print(image.size, label)  # A Black and white image is a 2D matrix (28x28)\n",
    "image"
   ]
  },
  {
   "cell_type": "code",
   "execution_count": 4,
   "id": "55413e92",
   "metadata": {},
   "outputs": [
    {
     "ename": "NameError",
     "evalue": "name 'm' is not defined",
     "output_type": "error",
     "traceback": [
      "\u001b[1;31m---------------------------------------------------------------------------\u001b[0m",
      "\u001b[1;31mNameError\u001b[0m                                 Traceback (most recent call last)",
      "Cell \u001b[1;32mIn [4], line 3\u001b[0m\n\u001b[0;32m      1\u001b[0m linear \u001b[38;5;241m=\u001b[39m nn\u001b[38;5;241m.\u001b[39mSequential(\n\u001b[0;32m      2\u001b[0m     nn\u001b[38;5;241m.\u001b[39mFlatten(),             \n\u001b[1;32m----> 3\u001b[0m     ext_nn\u001b[38;5;241m.\u001b[39mLinearIdentity(\u001b[43mm\u001b[49m, n),\n\u001b[0;32m      4\u001b[0m     nn\u001b[38;5;241m.\u001b[39mReLU(),\n\u001b[0;32m      5\u001b[0m     ext_nn\u001b[38;5;241m.\u001b[39mLinearIdentity(n, m),\n\u001b[0;32m      6\u001b[0m )\n\u001b[0;32m      8\u001b[0m batch \u001b[38;5;241m=\u001b[39m transforms\u001b[38;5;241m.\u001b[39mToTensor()(image)\n\u001b[0;32m     10\u001b[0m new \u001b[38;5;241m=\u001b[39m linear(batch)\u001b[38;5;241m.\u001b[39mdetach()\u001b[38;5;241m.\u001b[39mview(\u001b[38;5;241m28\u001b[39m, \u001b[38;5;241m28\u001b[39m)\u001b[38;5;241m.\u001b[39mnumpy()\n",
      "\u001b[1;31mNameError\u001b[0m: name 'm' is not defined"
     ]
    }
   ],
   "source": [
    "\n",
    "\n",
    "linear = nn.Sequential(\n",
    "    nn.Flatten(),             \n",
    "    ext_nn.LinearIdentity(m, n),\n",
    "    nn.ReLU(),\n",
    "    ext_nn.LinearIdentity(n, m),\n",
    ")\n",
    "\n",
    "batch = transforms.ToTensor()(image)\n",
    "\n",
    "new = linear(batch).detach().view(28, 28).numpy()\n",
    "\n",
    "print(new.shape)\n",
    "plt.matshow(batch.squeeze(0), interpolation=None, cmap='Greys')\n",
    "plt.matshow(new, interpolation=None, cmap='Greys')\n",
    "plt.show()"
   ]
  },
  {
   "cell_type": "code",
   "execution_count": 3,
   "id": "cfaf7353",
   "metadata": {},
   "outputs": [
    {
     "name": "stdout",
     "output_type": "stream",
     "text": [
      "Files already downloaded and verified\n",
      "Files already downloaded and verified\n"
     ]
    }
   ],
   "source": [
    "# dataset_fast = mnist_dataset()\n",
    "# dataset_test_fast = mnist_dataset(train=False)\n",
    "\n",
    "cifar_train = cifar100_dataset(True)\n",
    "cifar_test = cifar100_dataset(False)"
   ]
  },
  {
   "cell_type": "code",
   "execution_count": 4,
   "id": "21e8ebfc",
   "metadata": {},
   "outputs": [
    {
     "name": "stdout",
     "output_type": "stream",
     "text": [
      "(3, 32, 32) 3072 6144\n"
     ]
    }
   ],
   "source": [
    "classes = 100\n",
    "dataset = cifar_train\n",
    "dataset_test = cifar_test\n",
    "input_shape = tuple(dataset[0][0].shape)\n",
    "\n",
    "m = 1\n",
    "for d in input_shape:\n",
    "    m *= d\n",
    "n = m * 2\n",
    "print(input_shape, m, n)"
   ]
  },
  {
   "cell_type": "code",
   "execution_count": 8,
   "id": "af6cc8ad",
   "metadata": {},
   "outputs": [],
   "source": [
    "# cifar_train[0]"
   ]
  },
  {
   "cell_type": "code",
   "execution_count": 9,
   "id": "28ea80d2",
   "metadata": {},
   "outputs": [
    {
     "name": "stdout",
     "output_type": "stream",
     "text": [
      "0 -0.001023314678325103\n",
      "1 -0.001468826515170244\n",
      "2 -0.0021053627133369446\n",
      "3 -0.0027714454783843113\n",
      "4 -0.0033607153365245233\n",
      "5 -0.003574408017672025\n",
      "6 -0.003933497632925327\n",
      "7 -0.00424075355896583\n",
      "8 -0.00449133263184474\n",
      "9 -0.004681671754671977\n",
      "Accuracy: 6.601999999999999 Loss: -0.06168164581298828\n",
      "Accuracy: 6.59 Loss: -0.06144640884399414\n"
     ]
    }
   ],
   "source": [
    "linear = nn.Sequential(\n",
    "    nn.Flatten(),             \n",
    "    nn.Linear(m, n),\n",
    "    nn.ReLU(),\n",
    "    nn.Linear(n, classes),\n",
    "    nn.Softmax(dim=1),\n",
    ")\n",
    "\n",
    "gpu_train(linear, dataset, lr=1)\n",
    "gpu_test_model(linear, dataset)\n",
    "gpu_test_model(linear, dataset_test)"
   ]
  },
  {
   "cell_type": "code",
   "execution_count": null,
   "id": "50894915",
   "metadata": {},
   "outputs": [
    {
     "name": "stdout",
     "output_type": "stream",
     "text": [
      "0 -0.0018157086406762784\n",
      "1 -0.0029788043063420514\n"
     ]
    }
   ],
   "source": [
    "import taranis.core.nn as ext_nn\n",
    "\n",
    "linear = nn.Sequential(\n",
    "    nn.Flatten(),             \n",
    "    ext_nn.LinearIdentity(m, n),\n",
    "    nn.ReLU(),\n",
    "    ext_nn.LinearIdentity(n, classes),\n",
    "    nn.Softmax(dim=1),\n",
    ")\n",
    "\n",
    "gpu_train(linear, dataset, lr=1)\n",
    "gpu_test_model(linear, dataset_test)"
   ]
  },
  {
   "cell_type": "code",
   "execution_count": 15,
   "id": "e844fd8f",
   "metadata": {},
   "outputs": [
    {
     "ename": "RuntimeError",
     "evalue": "CUDA error: device-side assert triggered\nCUDA kernel errors might be asynchronously reported at some other API call, so the stacktrace below might be incorrect.\nFor debugging consider passing CUDA_LAUNCH_BLOCKING=1.\nCompile with `TORCH_USE_CUDA_DSA` to enable device-side assertions.\n",
     "output_type": "error",
     "traceback": [
      "\u001b[1;31m---------------------------------------------------------------------------\u001b[0m",
      "\u001b[1;31mRuntimeError\u001b[0m                              Traceback (most recent call last)",
      "Cell \u001b[1;32mIn [15], line 14\u001b[0m\n\u001b[0;32m      3\u001b[0m linear \u001b[38;5;241m=\u001b[39m nn\u001b[38;5;241m.\u001b[39mSequential(\n\u001b[0;32m      4\u001b[0m     \u001b[38;5;66;03m# ext_nn.MaskLayer(input_shape, True),\u001b[39;00m\n\u001b[0;32m      5\u001b[0m     nn\u001b[38;5;241m.\u001b[39mFlatten(),             \n\u001b[1;32m   (...)\u001b[0m\n\u001b[0;32m      9\u001b[0m     nn\u001b[38;5;241m.\u001b[39mSoftmax(dim\u001b[38;5;241m=\u001b[39m\u001b[38;5;241m1\u001b[39m),\n\u001b[0;32m     10\u001b[0m )\n\u001b[0;32m     11\u001b[0m \u001b[38;5;66;03m# nn.init.kaiming_uniform_(list(linear.children())[0].weight, a=math.sqrt(5))\u001b[39;00m\n\u001b[1;32m---> 14\u001b[0m \u001b[43mgpu_train\u001b[49m\u001b[43m(\u001b[49m\u001b[43mlinear\u001b[49m\u001b[43m,\u001b[49m\u001b[43m \u001b[49m\u001b[43mdataset\u001b[49m\u001b[43m)\u001b[49m\n\u001b[0;32m     15\u001b[0m gpu_test_model(linear, dataset)\n\u001b[0;32m     16\u001b[0m gpu_test_model(linear, dataset_test)\n",
      "File \u001b[1;32me:\\work\\taranis\\taranis\\core\\trainer\\train.py:70\u001b[0m, in \u001b[0;36mgpu_train\u001b[1;34m(model, dataset, batch_size, lr)\u001b[0m\n\u001b[0;32m     67\u001b[0m \u001b[38;5;28;01massert\u001b[39;00m torch\u001b[38;5;241m.\u001b[39mcuda\u001b[38;5;241m.\u001b[39mis_available()\n\u001b[0;32m     68\u001b[0m \u001b[38;5;66;03m# device = torch.cuda.device(\"cuda:0\")               # HERE Get GPU device\u001b[39;00m\n\u001b[1;32m---> 70\u001b[0m cuda_model \u001b[38;5;241m=\u001b[39m \u001b[43mmodel\u001b[49m\u001b[38;5;241;43m.\u001b[39;49m\u001b[43mcuda\u001b[49m\u001b[43m(\u001b[49m\u001b[43m)\u001b[49m                \u001b[38;5;66;03m# HERE\u001b[39;00m\n\u001b[0;32m     71\u001b[0m optimizer \u001b[38;5;241m=\u001b[39m optim\u001b[38;5;241m.\u001b[39mAdadelta(cuda_model\u001b[38;5;241m.\u001b[39mparameters(), lr\u001b[38;5;241m=\u001b[39mlr)\n\u001b[0;32m     72\u001b[0m epoch \u001b[38;5;241m=\u001b[39m \u001b[38;5;241m10\u001b[39m\n",
      "File \u001b[1;32mE:\\Anaconda\\lib\\site-packages\\torch\\nn\\modules\\module.py:905\u001b[0m, in \u001b[0;36mModule.cuda\u001b[1;34m(self, device)\u001b[0m\n\u001b[0;32m    888\u001b[0m \u001b[38;5;28;01mdef\u001b[39;00m \u001b[38;5;21mcuda\u001b[39m(\u001b[38;5;28mself\u001b[39m: T, device: Optional[Union[\u001b[38;5;28mint\u001b[39m, device]] \u001b[38;5;241m=\u001b[39m \u001b[38;5;28;01mNone\u001b[39;00m) \u001b[38;5;241m-\u001b[39m\u001b[38;5;241m>\u001b[39m T:\n\u001b[0;32m    889\u001b[0m     \u001b[38;5;124mr\u001b[39m\u001b[38;5;124;03m\"\"\"Moves all model parameters and buffers to the GPU.\u001b[39;00m\n\u001b[0;32m    890\u001b[0m \n\u001b[0;32m    891\u001b[0m \u001b[38;5;124;03m    This also makes associated parameters and buffers different objects. So\u001b[39;00m\n\u001b[1;32m   (...)\u001b[0m\n\u001b[0;32m    903\u001b[0m \u001b[38;5;124;03m        Module: self\u001b[39;00m\n\u001b[0;32m    904\u001b[0m \u001b[38;5;124;03m    \"\"\"\u001b[39;00m\n\u001b[1;32m--> 905\u001b[0m     \u001b[38;5;28;01mreturn\u001b[39;00m \u001b[38;5;28;43mself\u001b[39;49m\u001b[38;5;241;43m.\u001b[39;49m\u001b[43m_apply\u001b[49m\u001b[43m(\u001b[49m\u001b[38;5;28;43;01mlambda\u001b[39;49;00m\u001b[43m \u001b[49m\u001b[43mt\u001b[49m\u001b[43m:\u001b[49m\u001b[43m \u001b[49m\u001b[43mt\u001b[49m\u001b[38;5;241;43m.\u001b[39;49m\u001b[43mcuda\u001b[49m\u001b[43m(\u001b[49m\u001b[43mdevice\u001b[49m\u001b[43m)\u001b[49m\u001b[43m)\u001b[49m\n",
      "File \u001b[1;32mE:\\Anaconda\\lib\\site-packages\\torch\\nn\\modules\\module.py:797\u001b[0m, in \u001b[0;36mModule._apply\u001b[1;34m(self, fn)\u001b[0m\n\u001b[0;32m    795\u001b[0m \u001b[38;5;28;01mdef\u001b[39;00m \u001b[38;5;21m_apply\u001b[39m(\u001b[38;5;28mself\u001b[39m, fn):\n\u001b[0;32m    796\u001b[0m     \u001b[38;5;28;01mfor\u001b[39;00m module \u001b[38;5;129;01min\u001b[39;00m \u001b[38;5;28mself\u001b[39m\u001b[38;5;241m.\u001b[39mchildren():\n\u001b[1;32m--> 797\u001b[0m         \u001b[43mmodule\u001b[49m\u001b[38;5;241;43m.\u001b[39;49m\u001b[43m_apply\u001b[49m\u001b[43m(\u001b[49m\u001b[43mfn\u001b[49m\u001b[43m)\u001b[49m\n\u001b[0;32m    799\u001b[0m     \u001b[38;5;28;01mdef\u001b[39;00m \u001b[38;5;21mcompute_should_use_set_data\u001b[39m(tensor, tensor_applied):\n\u001b[0;32m    800\u001b[0m         \u001b[38;5;28;01mif\u001b[39;00m torch\u001b[38;5;241m.\u001b[39m_has_compatible_shallow_copy_type(tensor, tensor_applied):\n\u001b[0;32m    801\u001b[0m             \u001b[38;5;66;03m# If the new tensor has compatible tensor type as the existing tensor,\u001b[39;00m\n\u001b[0;32m    802\u001b[0m             \u001b[38;5;66;03m# the current behavior is to change the tensor in-place using `.data =`,\u001b[39;00m\n\u001b[1;32m   (...)\u001b[0m\n\u001b[0;32m    807\u001b[0m             \u001b[38;5;66;03m# global flag to let the user control whether they want the future\u001b[39;00m\n\u001b[0;32m    808\u001b[0m             \u001b[38;5;66;03m# behavior of overwriting the existing tensor or not.\u001b[39;00m\n",
      "File \u001b[1;32mE:\\Anaconda\\lib\\site-packages\\torch\\nn\\modules\\module.py:820\u001b[0m, in \u001b[0;36mModule._apply\u001b[1;34m(self, fn)\u001b[0m\n\u001b[0;32m    816\u001b[0m \u001b[38;5;66;03m# Tensors stored in modules are graph leaves, and we don't want to\u001b[39;00m\n\u001b[0;32m    817\u001b[0m \u001b[38;5;66;03m# track autograd history of `param_applied`, so we have to use\u001b[39;00m\n\u001b[0;32m    818\u001b[0m \u001b[38;5;66;03m# `with torch.no_grad():`\u001b[39;00m\n\u001b[0;32m    819\u001b[0m \u001b[38;5;28;01mwith\u001b[39;00m torch\u001b[38;5;241m.\u001b[39mno_grad():\n\u001b[1;32m--> 820\u001b[0m     param_applied \u001b[38;5;241m=\u001b[39m \u001b[43mfn\u001b[49m\u001b[43m(\u001b[49m\u001b[43mparam\u001b[49m\u001b[43m)\u001b[49m\n\u001b[0;32m    821\u001b[0m should_use_set_data \u001b[38;5;241m=\u001b[39m compute_should_use_set_data(param, param_applied)\n\u001b[0;32m    822\u001b[0m \u001b[38;5;28;01mif\u001b[39;00m should_use_set_data:\n",
      "File \u001b[1;32mE:\\Anaconda\\lib\\site-packages\\torch\\nn\\modules\\module.py:905\u001b[0m, in \u001b[0;36mModule.cuda.<locals>.<lambda>\u001b[1;34m(t)\u001b[0m\n\u001b[0;32m    888\u001b[0m \u001b[38;5;28;01mdef\u001b[39;00m \u001b[38;5;21mcuda\u001b[39m(\u001b[38;5;28mself\u001b[39m: T, device: Optional[Union[\u001b[38;5;28mint\u001b[39m, device]] \u001b[38;5;241m=\u001b[39m \u001b[38;5;28;01mNone\u001b[39;00m) \u001b[38;5;241m-\u001b[39m\u001b[38;5;241m>\u001b[39m T:\n\u001b[0;32m    889\u001b[0m     \u001b[38;5;124mr\u001b[39m\u001b[38;5;124;03m\"\"\"Moves all model parameters and buffers to the GPU.\u001b[39;00m\n\u001b[0;32m    890\u001b[0m \n\u001b[0;32m    891\u001b[0m \u001b[38;5;124;03m    This also makes associated parameters and buffers different objects. So\u001b[39;00m\n\u001b[1;32m   (...)\u001b[0m\n\u001b[0;32m    903\u001b[0m \u001b[38;5;124;03m        Module: self\u001b[39;00m\n\u001b[0;32m    904\u001b[0m \u001b[38;5;124;03m    \"\"\"\u001b[39;00m\n\u001b[1;32m--> 905\u001b[0m     \u001b[38;5;28;01mreturn\u001b[39;00m \u001b[38;5;28mself\u001b[39m\u001b[38;5;241m.\u001b[39m_apply(\u001b[38;5;28;01mlambda\u001b[39;00m t: \u001b[43mt\u001b[49m\u001b[38;5;241;43m.\u001b[39;49m\u001b[43mcuda\u001b[49m\u001b[43m(\u001b[49m\u001b[43mdevice\u001b[49m\u001b[43m)\u001b[49m)\n",
      "\u001b[1;31mRuntimeError\u001b[0m: CUDA error: device-side assert triggered\nCUDA kernel errors might be asynchronously reported at some other API call, so the stacktrace below might be incorrect.\nFor debugging consider passing CUDA_LAUNCH_BLOCKING=1.\nCompile with `TORCH_USE_CUDA_DSA` to enable device-side assertions.\n"
     ]
    }
   ],
   "source": [
    "import math\n",
    "\n",
    "linear = nn.Sequential(\n",
    "    ext_nn.MaskLayer(input_shape, True),\n",
    "    nn.Flatten(),             \n",
    "    nn.Linear(m, n),\n",
    "    nn.ReLU(),\n",
    "    nn.Linear(n, 10),\n",
    "    nn.Softmax(dim=1),\n",
    ")\n",
    "# nn.init.kaiming_uniform_(list(linear.children())[0].weight, a=math.sqrt(5))\n",
    "\n",
    "\n",
    "gpu_train(linear, dataset)\n",
    "gpu_test_model(linear, dataset)\n",
    "gpu_test_model(linear, dataset_test)"
   ]
  },
  {
   "cell_type": "code",
   "execution_count": 18,
   "id": "c7ac0b3a",
   "metadata": {},
   "outputs": [],
   "source": []
  },
  {
   "cell_type": "code",
   "execution_count": 17,
   "id": "09628b0d",
   "metadata": {},
   "outputs": [
    {
     "data": {
      "image/png": "[encoded data removed]",
      "text/plain": [
       "<Figure size 480x480 with 1 Axes>"
      ]
     },
     "metadata": {},
     "output_type": "display_data"
    }
   ],
   "source": [
    "plt.matshow(list(linear.children())[0].weight.detach().cpu(), interpolation=None, cmap='Greys')\n",
    "plt.show()"
   ]
  },
  {
   "cell_type": "code",
   "execution_count": 8,
   "id": "c6519a0e",
   "metadata": {},
   "outputs": [
    {
     "ename": "RuntimeError",
     "evalue": "CUDA error: device-side assert triggered\nCUDA kernel errors might be asynchronously reported at some other API call, so the stacktrace below might be incorrect.\nFor debugging consider passing CUDA_LAUNCH_BLOCKING=1.\nCompile with `TORCH_USE_CUDA_DSA` to enable device-side assertions.\n",
     "output_type": "error",
     "traceback": [
      "\u001b[1;31m---------------------------------------------------------------------------\u001b[0m",
      "\u001b[1;31mRuntimeError\u001b[0m                              Traceback (most recent call last)",
      "Cell \u001b[1;32mIn [8], line 10\u001b[0m\n\u001b[0;32m      1\u001b[0m linear \u001b[38;5;241m=\u001b[39m nn\u001b[38;5;241m.\u001b[39mSequential(\n\u001b[0;32m      2\u001b[0m     ext_nn\u001b[38;5;241m.\u001b[39mMaskLayer(input_shape, \u001b[38;5;28;01mTrue\u001b[39;00m),\n\u001b[0;32m      3\u001b[0m     nn\u001b[38;5;241m.\u001b[39mFlatten(),             \n\u001b[1;32m   (...)\u001b[0m\n\u001b[0;32m      7\u001b[0m     nn\u001b[38;5;241m.\u001b[39mSoftmax(dim\u001b[38;5;241m=\u001b[39m\u001b[38;5;241m1\u001b[39m),\n\u001b[0;32m      8\u001b[0m )\n\u001b[1;32m---> 10\u001b[0m \u001b[43mgpu_train\u001b[49m\u001b[43m(\u001b[49m\u001b[43mlinear\u001b[49m\u001b[43m,\u001b[49m\u001b[43m \u001b[49m\u001b[43mdataset\u001b[49m\u001b[43m)\u001b[49m\n\u001b[0;32m     11\u001b[0m gpu_test_model(linear, dataset_test)\n",
      "File \u001b[1;32me:\\work\\taranis\\taranis\\core\\trainer\\train.py:83\u001b[0m, in \u001b[0;36mgpu_train\u001b[1;34m(model, dataset, batch_size, lr)\u001b[0m\n\u001b[0;32m     81\u001b[0m probabilities \u001b[38;5;241m=\u001b[39m cuda_model(batch)\n\u001b[0;32m     82\u001b[0m loss \u001b[38;5;241m=\u001b[39m F\u001b[38;5;241m.\u001b[39mnll_loss(probabilities, labels)\n\u001b[1;32m---> 83\u001b[0m \u001b[43mloss\u001b[49m\u001b[38;5;241;43m.\u001b[39;49m\u001b[43mbackward\u001b[49m\u001b[43m(\u001b[49m\u001b[43m)\u001b[49m\n\u001b[0;32m     84\u001b[0m optimizer\u001b[38;5;241m.\u001b[39mstep()\n\u001b[0;32m     86\u001b[0m losses\u001b[38;5;241m.\u001b[39mappend(loss\u001b[38;5;241m.\u001b[39mdetach())\n",
      "File \u001b[1;32mE:\\Anaconda\\lib\\site-packages\\torch\\_tensor.py:487\u001b[0m, in \u001b[0;36mTensor.backward\u001b[1;34m(self, gradient, retain_graph, create_graph, inputs)\u001b[0m\n\u001b[0;32m    477\u001b[0m \u001b[38;5;28;01mif\u001b[39;00m has_torch_function_unary(\u001b[38;5;28mself\u001b[39m):\n\u001b[0;32m    478\u001b[0m     \u001b[38;5;28;01mreturn\u001b[39;00m handle_torch_function(\n\u001b[0;32m    479\u001b[0m         Tensor\u001b[38;5;241m.\u001b[39mbackward,\n\u001b[0;32m    480\u001b[0m         (\u001b[38;5;28mself\u001b[39m,),\n\u001b[1;32m   (...)\u001b[0m\n\u001b[0;32m    485\u001b[0m         inputs\u001b[38;5;241m=\u001b[39minputs,\n\u001b[0;32m    486\u001b[0m     )\n\u001b[1;32m--> 487\u001b[0m \u001b[43mtorch\u001b[49m\u001b[38;5;241;43m.\u001b[39;49m\u001b[43mautograd\u001b[49m\u001b[38;5;241;43m.\u001b[39;49m\u001b[43mbackward\u001b[49m\u001b[43m(\u001b[49m\n\u001b[0;32m    488\u001b[0m \u001b[43m    \u001b[49m\u001b[38;5;28;43mself\u001b[39;49m\u001b[43m,\u001b[49m\u001b[43m \u001b[49m\u001b[43mgradient\u001b[49m\u001b[43m,\u001b[49m\u001b[43m \u001b[49m\u001b[43mretain_graph\u001b[49m\u001b[43m,\u001b[49m\u001b[43m \u001b[49m\u001b[43mcreate_graph\u001b[49m\u001b[43m,\u001b[49m\u001b[43m \u001b[49m\u001b[43minputs\u001b[49m\u001b[38;5;241;43m=\u001b[39;49m\u001b[43minputs\u001b[49m\n\u001b[0;32m    489\u001b[0m \u001b[43m\u001b[49m\u001b[43m)\u001b[49m\n",
      "File \u001b[1;32mE:\\Anaconda\\lib\\site-packages\\torch\\autograd\\__init__.py:193\u001b[0m, in \u001b[0;36mbackward\u001b[1;34m(tensors, grad_tensors, retain_graph, create_graph, grad_variables, inputs)\u001b[0m\n\u001b[0;32m    189\u001b[0m inputs \u001b[38;5;241m=\u001b[39m (inputs,) \u001b[38;5;28;01mif\u001b[39;00m \u001b[38;5;28misinstance\u001b[39m(inputs, torch\u001b[38;5;241m.\u001b[39mTensor) \u001b[38;5;28;01melse\u001b[39;00m \\\n\u001b[0;32m    190\u001b[0m     \u001b[38;5;28mtuple\u001b[39m(inputs) \u001b[38;5;28;01mif\u001b[39;00m inputs \u001b[38;5;129;01mis\u001b[39;00m \u001b[38;5;129;01mnot\u001b[39;00m \u001b[38;5;28;01mNone\u001b[39;00m \u001b[38;5;28;01melse\u001b[39;00m \u001b[38;5;28mtuple\u001b[39m()\n\u001b[0;32m    192\u001b[0m grad_tensors_ \u001b[38;5;241m=\u001b[39m _tensor_or_tensors_to_tuple(grad_tensors, \u001b[38;5;28mlen\u001b[39m(tensors))\n\u001b[1;32m--> 193\u001b[0m grad_tensors_ \u001b[38;5;241m=\u001b[39m \u001b[43m_make_grads\u001b[49m\u001b[43m(\u001b[49m\u001b[43mtensors\u001b[49m\u001b[43m,\u001b[49m\u001b[43m \u001b[49m\u001b[43mgrad_tensors_\u001b[49m\u001b[43m,\u001b[49m\u001b[43m \u001b[49m\u001b[43mis_grads_batched\u001b[49m\u001b[38;5;241;43m=\u001b[39;49m\u001b[38;5;28;43;01mFalse\u001b[39;49;00m\u001b[43m)\u001b[49m\n\u001b[0;32m    194\u001b[0m \u001b[38;5;28;01mif\u001b[39;00m retain_graph \u001b[38;5;129;01mis\u001b[39;00m \u001b[38;5;28;01mNone\u001b[39;00m:\n\u001b[0;32m    195\u001b[0m     retain_graph \u001b[38;5;241m=\u001b[39m create_graph\n",
      "File \u001b[1;32mE:\\Anaconda\\lib\\site-packages\\torch\\autograd\\__init__.py:89\u001b[0m, in \u001b[0;36m_make_grads\u001b[1;34m(outputs, grads, is_grads_batched)\u001b[0m\n\u001b[0;32m     87\u001b[0m     \u001b[38;5;28;01mif\u001b[39;00m out\u001b[38;5;241m.\u001b[39mnumel() \u001b[38;5;241m!=\u001b[39m \u001b[38;5;241m1\u001b[39m:\n\u001b[0;32m     88\u001b[0m         \u001b[38;5;28;01mraise\u001b[39;00m \u001b[38;5;167;01mRuntimeError\u001b[39;00m(\u001b[38;5;124m\"\u001b[39m\u001b[38;5;124mgrad can be implicitly created only for scalar outputs\u001b[39m\u001b[38;5;124m\"\u001b[39m)\n\u001b[1;32m---> 89\u001b[0m     new_grads\u001b[38;5;241m.\u001b[39mappend(\u001b[43mtorch\u001b[49m\u001b[38;5;241;43m.\u001b[39;49m\u001b[43mones_like\u001b[49m\u001b[43m(\u001b[49m\u001b[43mout\u001b[49m\u001b[43m,\u001b[49m\u001b[43m \u001b[49m\u001b[43mmemory_format\u001b[49m\u001b[38;5;241;43m=\u001b[39;49m\u001b[43mtorch\u001b[49m\u001b[38;5;241;43m.\u001b[39;49m\u001b[43mpreserve_format\u001b[49m\u001b[43m)\u001b[49m)\n\u001b[0;32m     90\u001b[0m \u001b[38;5;28;01melse\u001b[39;00m:\n\u001b[0;32m     91\u001b[0m     new_grads\u001b[38;5;241m.\u001b[39mappend(\u001b[38;5;28;01mNone\u001b[39;00m)\n",
      "\u001b[1;31mRuntimeError\u001b[0m: CUDA error: device-side assert triggered\nCUDA kernel errors might be asynchronously reported at some other API call, so the stacktrace below might be incorrect.\nFor debugging consider passing CUDA_LAUNCH_BLOCKING=1.\nCompile with `TORCH_USE_CUDA_DSA` to enable device-side assertions.\n"
     ]
    }
   ],
   "source": [
    "linear = nn.Sequential(\n",
    "    ext_nn.MaskLayer(input_shape, True),\n",
    "    nn.Flatten(),             \n",
    "    ext_nn.LinearIdentity(m, n),\n",
    "    nn.ReLU(),\n",
    "    ext_nn.LinearIdentity(n, 10),\n",
    "    nn.Softmax(dim=1),\n",
    ")\n",
    "          \n",
    "gpu_train(linear, dataset)\n",
    "gpu_test_model(linear, dataset_test)"
   ]
  },
  {
   "cell_type": "code",
   "execution_count": 13,
   "id": "5bdda5ce",
   "metadata": {},
   "outputs": [
    {
     "data": {
      "image/png": "[encoded data removed]",
      "text/plain": [
       "<Figure size 480x480 with 1 Axes>"
      ]
     },
     "metadata": {},
     "output_type": "display_data"
    }
   ],
   "source": [
    "plt.matshow(list(linear.children())[0].weight.detach().cpu(), interpolation=None, cmap='Greys')\n",
    "plt.show()"
   ]
  },
  {
   "cell_type": "code",
   "execution_count": 14,
   "id": "70a287f0",
   "metadata": {},
   "outputs": [
    {
     "data": {
      "text/plain": [
       "tensor(-0.1497, device='cuda:0', grad_fn=<MinBackward1>)"
      ]
     },
     "execution_count": 14,
     "metadata": {},
     "output_type": "execute_result"
    }
   ],
   "source": [
    "list(linear.children())[0].weight.min()"
   ]
  },
  {
   "cell_type": "code",
   "execution_count": null,
   "id": "59f20f0e",
   "metadata": {},
   "outputs": [],
   "source": []
  },
  {
   "cell_type": "code",
   "execution_count": null,
   "id": "bf25a9ad",
   "metadata": {},
   "outputs": [],
   "source": []
  },
  {
   "cell_type": "code",
   "execution_count": null,
   "id": "5979f7df",
   "metadata": {},
   "outputs": [],
   "source": []
  },
  {
   "cell_type": "code",
   "execution_count": 14,
   "id": "a3f50450",
   "metadata": {},
   "outputs": [],
   "source": [
    "# mnist_dataset()"
   ]
  },
  {
   "cell_type": "code",
   "execution_count": null,
   "id": "0fafa2c0",
   "metadata": {},
   "outputs": [],
   "source": []
  },
  {
   "cell_type": "code",
   "execution_count": null,
   "id": "fc4483b3",
   "metadata": {},
   "outputs": [],
   "source": []
  },
  {
   "cell_type": "code",
   "execution_count": 10,
   "id": "3f03bb40",
   "metadata": {},
   "outputs": [],
   "source": [
    "dataloader = torch.utils.data.DataLoader(\n",
    "        dataset,\n",
    "        batch_size = 128,\n",
    "        num_workers = 0,\n",
    "    )"
   ]
  },
  {
   "cell_type": "code",
   "execution_count": 11,
   "id": "64ee91f1",
   "metadata": {},
   "outputs": [
    {
     "data": {
      "text/plain": [
       "[tensor([[[[ 1.8431,  1.8431,  1.8431,  ...,  0.9633,  1.2126,  0.7727],\n",
       "           [ 1.8431,  1.8284,  1.8284,  ...,  0.5968,  0.4648,  0.2449],\n",
       "           [ 1.8431,  1.8284,  1.8431,  ...,  0.8754,  0.5381, -0.1217],\n",
       "           ...,\n",
       "           [ 0.2742,  0.1862,  0.1569,  ..., -1.4560, -0.9428, -0.7815],\n",
       "           [-0.1070, -0.1364, -0.0484,  ..., -1.5733, -0.4736,  0.1716],\n",
       "           [-0.6202, -0.6056, -0.4150,  ..., -1.3974, -0.3563,  0.1276]],\n",
       " \n",
       "          [[ 2.0015,  2.0015,  2.0015,  ...,  1.2370,  1.5275,  1.0688],\n",
       "           [ 2.0015,  1.9862,  1.9862,  ...,  0.7936,  0.6713,  0.4572],\n",
       "           [ 2.0015,  1.9862,  2.0015,  ...,  1.1453,  0.8242,  0.1361],\n",
       "           ...,\n",
       "           [ 0.9312,  0.8853,  0.8394,  ..., -1.6376, -0.9495, -0.7202],\n",
       "           [ 0.5031,  0.4725,  0.5489,  ..., -1.6529, -0.1850,  0.5642],\n",
       "           [-0.0321, -0.0321,  0.1514,  ..., -1.3471,  0.1361,  0.7477]],\n",
       " \n",
       "          [[ 2.0256,  2.0256,  2.0256,  ...,  1.1449,  1.3011,  0.7756],\n",
       "           [ 2.0256,  2.0114,  2.0114,  ...,  0.5341,  0.2500,  0.0085],\n",
       "           [ 2.0256,  2.0114,  2.0256,  ...,  0.8040,  0.2500, -0.3608],\n",
       "           ...,\n",
       "           [-0.4744, -0.7869, -0.7443,  ..., -1.5824, -1.3835, -1.3125],\n",
       "           [-0.6591, -0.7727, -0.5881,  ..., -1.5540, -0.8011, -0.3608],\n",
       "           [-1.0142, -1.0426, -0.8011,  ..., -1.4545, -0.7585, -0.4744]]],\n",
       " \n",
       " \n",
       "         [[[ 1.8431,  1.8138,  1.8138,  ...,  1.8138,  1.8138,  1.8431],\n",
       "           [ 1.8431,  1.8431,  1.8431,  ...,  1.8431,  1.8431,  1.8431],\n",
       "           [ 1.8431,  1.8431,  1.8431,  ...,  1.8431,  1.8431,  1.8431],\n",
       "           ...,\n",
       "           [ 1.8431,  1.8431,  1.8431,  ...,  1.8431,  1.8431,  1.8431],\n",
       "           [ 1.8431,  1.8431,  1.8431,  ...,  1.8431,  1.8431,  1.8431],\n",
       "           [ 1.8431,  1.8138,  1.8138,  ...,  1.8138,  1.8138,  1.8431]],\n",
       " \n",
       "          [[ 2.0015,  1.9709,  1.9709,  ...,  1.9709,  1.9709,  2.0015],\n",
       "           [ 2.0015,  2.0015,  2.0015,  ...,  2.0015,  2.0015,  2.0015],\n",
       "           [ 2.0015,  2.0015,  2.0015,  ...,  2.0015,  2.0015,  2.0015],\n",
       "           ...,\n",
       "           [ 2.0015,  2.0015,  2.0015,  ...,  2.0015,  2.0015,  2.0015],\n",
       "           [ 2.0015,  2.0015,  2.0015,  ...,  2.0015,  2.0015,  2.0015],\n",
       "           [ 2.0015,  1.9709,  1.9709,  ...,  1.9709,  1.9709,  2.0015]],\n",
       " \n",
       "          [[ 2.0256,  1.9972,  1.9972,  ...,  1.9972,  1.9972,  2.0256],\n",
       "           [ 2.0256,  2.0256,  2.0256,  ...,  2.0256,  2.0256,  2.0256],\n",
       "           [ 2.0256,  2.0256,  2.0256,  ...,  2.0256,  2.0256,  2.0256],\n",
       "           ...,\n",
       "           [ 2.0256,  2.0256,  2.0256,  ...,  2.0256,  2.0256,  2.0256],\n",
       "           [ 2.0256,  2.0256,  2.0256,  ...,  2.0256,  2.0256,  2.0256],\n",
       "           [ 2.0256,  1.9972,  1.9972,  ...,  1.9972,  1.9972,  2.0256]]],\n",
       " \n",
       " \n",
       "         [[[ 1.7698,  1.7405,  1.7258,  ...,  1.7698,  1.7698,  1.7551],\n",
       "           [ 1.7698,  1.7405,  1.7258,  ...,  1.7845,  1.7845,  1.7698],\n",
       "           [ 1.7845,  1.7698,  1.7698,  ...,  1.7698,  1.7698,  1.7698],\n",
       "           ...,\n",
       "           [ 1.3446,  1.3446,  1.4032,  ...,  1.0220,  1.1393,  1.5205],\n",
       "           [ 1.4032,  1.4326,  1.4619,  ...,  1.0953,  1.2126,  1.5352],\n",
       "           [ 1.5205,  1.5352,  1.5499,  ...,  1.3152,  1.3739,  1.5059]],\n",
       " \n",
       "          [[ 1.9251,  1.9098,  1.8945,  ...,  1.9251,  1.9251,  1.9251],\n",
       "           [ 1.9404,  1.9098,  1.8792,  ...,  1.9404,  1.9557,  1.9404],\n",
       "           [ 1.9404,  1.8945,  1.8486,  ...,  1.9098,  1.9098,  1.9098],\n",
       "           ...,\n",
       "           [ 1.3593,  1.2523,  1.2676,  ...,  0.7936,  1.0535,  1.6040],\n",
       "           [ 1.5122,  1.4511,  1.4052,  ...,  0.9312,  1.1758,  1.6498],\n",
       "           [ 1.6651,  1.6498,  1.6193,  ...,  1.2982,  1.4052,  1.6193]],\n",
       " \n",
       "          [[ 1.9261,  1.8551,  1.7983,  ...,  1.8977,  1.8977,  1.8977],\n",
       "           [ 1.8835,  1.7841,  1.7273,  ...,  1.8409,  1.8551,  1.8551],\n",
       "           [ 1.8693,  1.7699,  1.7131,  ...,  1.7841,  1.8125,  1.8409],\n",
       "           ...,\n",
       "           [ 1.1165,  0.9034,  0.9744,  ...,  0.3068,  0.7472,  1.6136],\n",
       "           [ 1.3011,  1.1875,  1.2443,  ...,  0.5483,  0.9602,  1.6420],\n",
       "           [ 1.6136,  1.5852,  1.5994,  ...,  1.1591,  1.3438,  1.6420]]],\n",
       " \n",
       " \n",
       "         ...,\n",
       " \n",
       " \n",
       "         [[[-1.5587, -1.5147, -1.5293,  ..., -1.5440, -1.5587, -1.6320],\n",
       "           [-1.6320, -1.5440, -1.4853,  ..., -1.4853, -1.5440, -1.5733],\n",
       "           [-1.5440, -1.5293, -1.4413,  ..., -1.4707, -1.5000, -1.5000],\n",
       "           ...,\n",
       "           [ 0.4941,  0.5088,  0.7874,  ...,  0.2742,  0.4355,  0.5088],\n",
       "           [ 0.4501,  0.5235,  0.8460,  ...,  0.0249,  0.2155,  0.3768],\n",
       "           [ 0.3182,  0.5088,  0.8607,  ..., -0.0630, -0.1364, -0.1364]],\n",
       " \n",
       "          [[ 0.2431,  0.2737,  0.2737,  ...,  0.2584,  0.2278,  0.1820],\n",
       "           [ 0.2125,  0.2890,  0.3502,  ...,  0.3502,  0.2584,  0.2125],\n",
       "           [ 0.3502,  0.3502,  0.4419,  ...,  0.3807,  0.3043,  0.2431],\n",
       "           ...,\n",
       "           [ 0.9771,  0.9465,  1.2217,  ...,  1.0994,  1.0382,  1.0382],\n",
       "           [ 0.9312,  0.9618,  1.2676,  ...,  0.8394,  0.8547,  0.9006],\n",
       "           [ 0.8394,  0.9312,  1.2370,  ...,  0.7477,  0.7018,  0.6101]],\n",
       " \n",
       "          [[ 0.5341,  0.5625,  0.5625,  ...,  0.5341,  0.5199,  0.4631],\n",
       "           [ 0.5057,  0.5767,  0.6335,  ...,  0.5909,  0.5199,  0.4773],\n",
       "           [ 0.6193,  0.6051,  0.7045,  ...,  0.5767,  0.5199,  0.4773],\n",
       "           ...,\n",
       "           [ 1.1733,  1.1307,  1.3580,  ...,  1.1449,  1.1591,  1.1733],\n",
       "           [ 1.1307,  1.1307,  1.3864,  ...,  0.9176,  1.0170,  1.1023],\n",
       "           [ 1.0028,  1.0739,  1.3295,  ...,  0.8750,  0.9034,  0.8608]]],\n",
       " \n",
       " \n",
       "         [[[ 1.8431,  1.8431,  1.8431,  ...,  1.8431,  1.8431,  1.8431],\n",
       "           [ 1.8431,  1.8138,  1.8284,  ...,  1.8284,  1.8138,  1.8431],\n",
       "           [ 1.8431,  1.8284,  1.8284,  ...,  1.8284,  1.8284,  1.8431],\n",
       "           ...,\n",
       "           [ 1.8431,  1.8284,  1.8284,  ...,  1.8431,  1.8138,  1.8431],\n",
       "           [ 1.8431,  1.8138,  1.8284,  ...,  1.8138,  1.7845,  1.8431],\n",
       "           [ 1.8431,  1.8431,  1.8431,  ...,  1.8431,  1.8431,  1.8431]],\n",
       " \n",
       "          [[ 2.0015,  2.0015,  2.0015,  ...,  2.0015,  2.0015,  2.0015],\n",
       "           [ 2.0015,  1.9709,  1.9709,  ...,  1.9862,  1.9709,  2.0015],\n",
       "           [ 2.0015,  1.9862,  1.9862,  ...,  1.9862,  1.9862,  2.0015],\n",
       "           ...,\n",
       "           [ 2.0015,  1.9862,  1.9862,  ...,  1.9709,  1.9709,  2.0015],\n",
       "           [ 2.0015,  1.9709,  1.9709,  ...,  1.9862,  1.9862,  2.0015],\n",
       "           [ 2.0015,  2.0015,  2.0015,  ...,  2.0015,  2.0015,  2.0015]],\n",
       " \n",
       "          [[ 2.0256,  2.0256,  2.0256,  ...,  2.0256,  2.0256,  2.0256],\n",
       "           [ 2.0256,  1.9972,  2.0114,  ...,  2.0114,  1.9972,  2.0256],\n",
       "           [ 2.0256,  2.0114,  2.0114,  ...,  2.0114,  2.0114,  2.0256],\n",
       "           ...,\n",
       "           [ 2.0256,  2.0114,  2.0114,  ...,  1.9830,  1.9972,  2.0256],\n",
       "           [ 2.0256,  1.9972,  2.0114,  ...,  1.9687,  1.9972,  2.0256],\n",
       "           [ 2.0256,  2.0256,  2.0256,  ...,  2.0256,  2.0256,  2.0256]]],\n",
       " \n",
       " \n",
       "         [[[-0.0484,  0.1569,  0.2449,  ...,  0.3915,  0.4648,  0.5528],\n",
       "           [ 0.4648,  0.4795,  0.3915,  ...,  0.6408,  0.4941,  0.4355],\n",
       "           [-0.0337,  0.2009,  0.4501,  ...,  0.7141,  0.6994,  0.5821],\n",
       "           ...,\n",
       "           [-0.4296,  0.1276,  0.0689,  ..., -0.0044, -0.1364,  0.1862],\n",
       "           [-0.2243, -0.1364,  0.0689,  ..., -0.3416, -0.2830, -0.0924],\n",
       "           [-0.0337,  0.1422,  0.0249,  ..., -0.0630, -0.0924, -0.2830]],\n",
       " \n",
       "          [[ 0.3960,  0.4113,  0.4572,  ...,  1.2370,  1.3746,  1.4511],\n",
       "           [ 0.9771,  0.9006,  0.7936,  ...,  1.3440,  1.2217,  1.1911],\n",
       "           [ 0.7324,  1.0076,  1.2829,  ...,  1.3135,  1.2676,  1.2676],\n",
       "           ...,\n",
       "           [-0.4450,  0.1667, -0.0168,  ...,  0.1208, -0.0474,  0.4572],\n",
       "           [-0.3379, -0.0321,  0.2125,  ..., -0.1239, -0.0780,  0.1972],\n",
       "           [ 0.1361,  0.5795,  0.5948,  ...,  0.3043,  0.2431,  0.0443]],\n",
       " \n",
       "          [[-0.1051,  0.0369,  0.1222,  ...,  0.2926,  0.3778,  0.4915],\n",
       "           [ 0.4915,  0.4915,  0.3778,  ...,  0.4915,  0.3778,  0.3210],\n",
       "           [ 0.0369,  0.3068,  0.5199,  ...,  0.5199,  0.5341,  0.4347],\n",
       "           ...,\n",
       "           [-0.7017, -0.1335, -0.2045,  ..., -0.2330, -0.3324,  0.0511],\n",
       "           [-0.3892, -0.3040, -0.1477,  ..., -0.5455, -0.4602, -0.2187],\n",
       "           [-0.0909, -0.0341, -0.1761,  ..., -0.2756, -0.3040, -0.4460]]]],\n",
       "        device='cuda:0'),\n",
       " tensor([19, 29,  0, 11,  1, 86, 90, 28, 23, 31, 39, 96, 82, 17, 71, 39,  8, 97,\n",
       "         80, 71, 74, 59, 70, 87, 59, 84, 64, 52, 42, 64,  8, 17, 47, 65, 21, 22,\n",
       "         81, 11, 24, 84, 78, 45, 49, 97, 56, 76, 11, 90, 89, 78, 73, 14, 87,  9,\n",
       "         71,  6, 47, 20, 98, 47, 36, 55, 72, 43, 51, 35, 83, 33, 27, 53, 92, 50,\n",
       "         15, 89, 36, 18, 89, 46, 33, 42, 39, 64, 75, 38, 23, 42, 66, 77, 49, 18,\n",
       "         46, 15, 35, 69, 95, 83, 75, 99, 73, 93, 55, 39,  4, 97, 61, 93, 51, 69,\n",
       "         56, 84, 59, 64, 94,  4, 11, 33, 68, 38, 20, 33, 34, 32, 46, 53, 88, 67,\n",
       "         70, 64], device='cuda:0')]"
      ]
     },
     "execution_count": 11,
     "metadata": {},
     "output_type": "execute_result"
    }
   ],
   "source": [
    "b = next(iter(dataloader))\n",
    "b"
   ]
  },
  {
   "cell_type": "code",
   "execution_count": 13,
   "id": "4e803381",
   "metadata": {},
   "outputs": [],
   "source": [
    "l = ext_nn.MaskLayer(input_shape).cuda()"
   ]
  },
  {
   "cell_type": "code",
   "execution_count": 16,
   "id": "58aae6f3",
   "metadata": {},
   "outputs": [
    {
     "data": {
      "text/plain": [
       "torch.Size([128, 3, 32, 32])"
      ]
     },
     "execution_count": 16,
     "metadata": {},
     "output_type": "execute_result"
    }
   ],
   "source": [
    "b[0].shape"
   ]
  },
  {
   "cell_type": "code",
   "execution_count": 18,
   "id": "6d6be1e7",
   "metadata": {},
   "outputs": [
    {
     "data": {
      "text/plain": [
       "tensor(0., device='cuda:0', grad_fn=<MeanBackward0>)"
      ]
     },
     "execution_count": 18,
     "metadata": {},
     "output_type": "execute_result"
    }
   ],
   "source": [
    "l(b[0]).mean()"
   ]
  },
  {
   "cell_type": "code",
   "execution_count": null,
   "id": "8a3002a9",
   "metadata": {},
   "outputs": [],
   "source": []
  }
 ],
 "metadata": {
  "kernelspec": {
   "display_name": "Python 3 (ipykernel)",
   "language": "python",
   "name": "python3"
  },
  "language_info": {
   "codemirror_mode": {
    "name": "ipython",
    "version": 3
   },
   "file_extension": ".py",
   "mimetype": "text/x-python",
   "name": "python",
   "nbconvert_exporter": "python",
   "pygments_lexer": "ipython3",
   "version": "3.9.12"
  }
 },
 "nbformat": 4,
 "nbformat_minor": 5
}
